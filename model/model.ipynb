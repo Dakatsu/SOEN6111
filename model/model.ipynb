{
 "cells": [
  {
   "cell_type": "markdown",
   "id": "d97a558a",
   "metadata": {},
   "source": [
    "# Imports"
   ]
  },
  {
   "cell_type": "code",
   "execution_count": 1,
   "id": "fad0ad65",
   "metadata": {},
   "outputs": [],
   "source": [
    "import csv\n",
    "import os\n",
    "import sys\n",
    "# Spark imports\n",
    "from pyspark.rdd import RDD\n",
    "from pyspark.sql import DataFrame\n",
    "from pyspark.sql.types import IntegerType\n",
    "from pyspark.sql import SparkSession\n",
    "from pyspark.sql.types import *\n",
    "import operator\n",
    "# Dask imports\n",
    "import dask.bag as db\n",
    "import dask.dataframe as df  # you can use Dask bags or dataframes\n",
    "from csv import reader\n",
    "import numpy as np\n",
    "import pandas as pd\n",
    "import datetime\n",
    "from pyspark.sql.functions import *\n",
    "import sklearn\n",
    "from sklearn import preprocessing\n",
    "from sklearn.datasets import make_blobs\n",
    "from sklearn.preprocessing import StandardScaler\n",
    "from sklearn.feature_extraction.text import TfidfVectorizer\n",
    "from sklearn.metrics.pairwise import cosine_similarity\n",
    "import re\n",
    "# from scipy.sparse import csr_matrix\n",
    "# import scipy as sp\n",
    "import heapq\n",
    "# from surprise import CoClustering\n",
    "# from surprise import Dataset, Reader, SVD, accuracy\n",
    "# from surprise import KNNBaseline\n",
    "\n",
    "\n",
    "# Packages for model evaluation\n",
    "from sklearn.metrics import mean_squared_error\n",
    "from sklearn.metrics import mean_absolute_error\n",
    "from time import time\n",
    "\n",
    "# from surprise.model_selection import train_test_split\n",
    "# from sklearn.model_selection import train_test_split\n",
    "\n",
    "# Package to suppress warnings\n",
    "import warnings\n",
    "warnings.filterwarnings(\"ignore\")\n",
    "from pyspark.sql.functions import monotonically_increasing_id\n",
    "# Packages for saving models\n",
    "import pickle\n",
    "\n",
    "from re import split\n",
    "from pyspark.sql import SparkSession\n",
    "from pyspark.sql.types import StructType, DoubleType, IntegerType, StringType, DateType\n",
    "from pyspark.sql.functions import *\n",
    "from pyspark.ml.feature import VectorAssembler\n",
    "from pyspark.ml.evaluation import RegressionEvaluator\n",
    "from pyspark.ml.regression import RandomForestRegressor\n",
    "to_exclude = ['round']\n",
    "\n",
    "for name in to_exclude:\n",
    "    del globals()[name]"
   ]
  },
  {
   "cell_type": "code",
   "execution_count": 2,
   "id": "c5ad03bd",
   "metadata": {},
   "outputs": [],
   "source": [
    "def init_spark():\n",
    "    spark = SparkSession \\\n",
    "        .builder \\\n",
    "        .appName(\"Python Spark SQL basic example\") \\\n",
    "        .config(\"spark.some.config.option\", \"some-value\") \\\n",
    "        .getOrCreate()\n",
    "    return spark"
   ]
  },
  {
   "cell_type": "code",
   "execution_count": 3,
   "id": "31128bad",
   "metadata": {},
   "outputs": [
    {
     "name": "stderr",
     "output_type": "stream",
     "text": [
      "22/04/12 21:31:26 WARN Utils: Your hostname, Sams-MacBook-Pro-2.local resolves to a loopback address: 127.0.0.1; using 172.30.12.119 instead (on interface en0)\n",
      "22/04/12 21:31:26 WARN Utils: Set SPARK_LOCAL_IP if you need to bind to another address\n",
      "22/04/12 21:31:26 WARN NativeCodeLoader: Unable to load native-hadoop library for your platform... using builtin-java classes where applicable\n",
      "Using Spark's default log4j profile: org/apache/spark/log4j-defaults.properties\n",
      "Setting default log level to \"WARN\".\n",
      "To adjust logging level use sc.setLogLevel(newLevel). For SparkR, use setLogLevel(newLevel).\n",
      "22/04/12 21:31:27 WARN Utils: Service 'SparkUI' could not bind on port 4040. Attempting port 4041.\n"
     ]
    }
   ],
   "source": [
    "spark=init_spark()"
   ]
  },
  {
   "cell_type": "markdown",
   "id": "fecee1f5",
   "metadata": {},
   "source": [
    "## Generate Data For Base Game DataSet"
   ]
  },
  {
   "cell_type": "code",
   "execution_count": 4,
   "id": "a2e4d185",
   "metadata": {},
   "outputs": [],
   "source": [
    "def generateData():\n",
    "    path_to_write = parentPath+'/data/datasets'\n",
    "    originalDataSet = pd.read_csv(parentPath+'/data/datasets/steam.csv')\n",
    "    if os.path.exists(path_to_write+'/games.csv'):\n",
    "        return pd.read_csv(path_to_write+'/games.csv')\n",
    "    for row in originalDataSet.iterrows():\n",
    "        row =row[1]\n",
    "        totalRatings = (row['positive_ratings'] + row['negative_ratings'])\n",
    "        if totalRatings == 0:\n",
    "            ratings = 0\n",
    "        else:\n",
    "            ratings = round((row['positive_ratings']/totalRatings) * 100,2)\n",
    "        dictionnary[row['appid']] = {\n",
    "                    \"name\": row['name'],\n",
    "                    \"price\": row['price'],\n",
    "                    \"release_date\": row['release_date'],\n",
    "                    \"required_age\": row['required_age'],\n",
    "                    \"publishers\": row['publisher'],\n",
    "                    \"developers\": row['developer'],\n",
    "                    \"categories\": row['categories'],\n",
    "                    \"genres\": row['genres'],\n",
    "                    \"ratings\": ratings,\n",
    "                    \"totalRatings\": totalRatings,\n",
    "                    \"average_playtime\": row['average_playtime'],\n",
    "                    \"median_playtime\": row['median_playtime'],\n",
    "                    \"num_owners\": row['owners']\n",
    "        }\n",
    "    \n",
    "    \n",
    "\n",
    "    df = pd.DataFrame.from_dict(dictionnary, orient='index')\n",
    "    df.index.name = 'appid'\n",
    "    if not os.path.exists(path_to_write):\n",
    "        os.mkdir(path_to_write)\n",
    "    \n",
    "    df.to_csv(path_to_write+'/games.csv')\n",
    "    return df"
   ]
  },
  {
   "cell_type": "markdown",
   "id": "cc90d1f2",
   "metadata": {},
   "source": [
    "## Generate the User Steam Dataset"
   ]
  },
  {
   "cell_type": "code",
   "execution_count": 5,
   "id": "2960becc",
   "metadata": {},
   "outputs": [],
   "source": [
    "url_user_info = \"https://api.steampowered.com/IPlayerService/GetOwnedGames/v1/?key=D399B9CAE07939881781DD36CC8CC442&steamid={}&include_appinfo=true&include_played_free_games=true\"\n",
    "def generateDataForUserSteamDataset():\n",
    "    dictionary=[]\n",
    "    path_to_write = parentPath+'/data/datasets'\n",
    "    if os.path.exists(path_to_write+'/steam_id_games.csv'):\n",
    "        return pd.read_csv(path_to_write+'/steam_id_games.csv')\n",
    "    originalDataSet = pd.read_csv(parentPath+'/data/datasets/steam_id.csv')\n",
    "    for row in originalDataSet.iterrows():\n",
    "        row =row[1]\n",
    "        try:\n",
    "            games = requests.get(url_user_info.format(row['steamid_a'])).json()['response']\n",
    "        except:\n",
    "            continue\n",
    "        if 'games' not in games:\n",
    "            continue\n",
    "        dataset = [{'steam_id':row['steamid_a'],\"appid\" :str(game['appid']), \"time_played_in_minutes\": game['playtime_forever'] } for game in games['games']]\n",
    "        dictionary = dataset+dictionary\n",
    "    df = pd.DataFrame.from_records(dictionary)\n",
    "    if not os.path.exists(path_to_write):\n",
    "        os.mkdir(path_to_write)\n",
    "    \n",
    "    df.to_csv(path_to_write+'/steam_id_games.csv')\n",
    "    return df"
   ]
  },
  {
   "cell_type": "code",
   "execution_count": 6,
   "id": "5fa7a6e2",
   "metadata": {},
   "outputs": [],
   "source": [
    "filename=\"../data/datasets/games.csv\"\n",
    "filename2=\"../data/datasets/steam_id_games.csv\""
   ]
  },
  {
   "cell_type": "code",
   "execution_count": 7,
   "id": "35b9346c",
   "metadata": {},
   "outputs": [],
   "source": [
    "from pyspark.sql.types import *\n",
    "games_schema = StructType() \\\n",
    "    .add(\"appid\", IntegerType(), True) \\\n",
    "    .add(\"name\", StringType(), True) \\\n",
    "    .add(\"price\", DoubleType(), True) \\\n",
    "    .add(\"release_date\", StringType(), True) \\\n",
    "    .add(\"required_age\", IntegerType(), True) \\\n",
    "    .add(\"publishers\", StringType(), True) \\\n",
    "    .add(\"developers\", StringType(), True) \\\n",
    "    .add(\"categories\", StringType(), True) \\\n",
    "    .add(\"genres\", StringType(), True) \\\n",
    "    .add(\"ratings\", DoubleType(), True) \\\n",
    "    .add(\"totalRatings\", IntegerType(), True) \\\n",
    "    .add(\"average_playtime\", DoubleType(), True) \\\n",
    "    .add(\"median_playtime\", IntegerType(), True) \\\n",
    "    .add(\"num_owners\", StringType(), True)\n",
    "games = spark.read.schema(games_schema).csv(filename, header=True).dropna()\n"
   ]
  },
  {
   "cell_type": "code",
   "execution_count": 8,
   "id": "ae101f92",
   "metadata": {},
   "outputs": [
    {
     "data": {
      "text/plain": [
       "[Row(appid=10, name='Counter-Strike', price=7.19, release_date='2000-11-01', required_age=0, publishers='Valve', developers='Valve', categories='Multi-player;Online Multi-Player;Local Multi-Player;Valve Anti-Cheat enabled', genres='Action', ratings=97.39, totalRatings=127873, average_playtime=17612.0, median_playtime=317, num_owners='10000000-20000000'),\n",
       " Row(appid=20, name='Team Fortress Classic', price=3.99, release_date='1999-04-01', required_age=0, publishers='Valve', developers='Valve', categories='Multi-player;Online Multi-Player;Local Multi-Player;Valve Anti-Cheat enabled', genres='Action', ratings=83.98, totalRatings=3951, average_playtime=277.0, median_playtime=62, num_owners='5000000-10000000'),\n",
       " Row(appid=30, name='Day of Defeat', price=3.99, release_date='2003-05-01', required_age=0, publishers='Valve', developers='Valve', categories='Multi-player;Valve Anti-Cheat enabled', genres='Action', ratings=89.56, totalRatings=3814, average_playtime=187.0, median_playtime=34, num_owners='5000000-10000000'),\n",
       " Row(appid=40, name='Deathmatch Classic', price=3.99, release_date='2001-06-01', required_age=0, publishers='Valve', developers='Valve', categories='Multi-player;Online Multi-Player;Local Multi-Player;Valve Anti-Cheat enabled', genres='Action', ratings=82.66, totalRatings=1540, average_playtime=258.0, median_playtime=184, num_owners='5000000-10000000'),\n",
       " Row(appid=50, name='Half-Life: Opposing Force', price=3.99, release_date='1999-11-01', required_age=0, publishers='Valve', developers='Gearbox Software', categories='Single-player;Multi-player;Valve Anti-Cheat enabled', genres='Action', ratings=94.8, totalRatings=5538, average_playtime=624.0, median_playtime=415, num_owners='5000000-10000000')]"
      ]
     },
     "execution_count": 8,
     "metadata": {},
     "output_type": "execute_result"
    }
   ],
   "source": [
    "games.take(5)"
   ]
  },
  {
   "cell_type": "markdown",
   "id": "c5a4d906",
   "metadata": {},
   "source": [
    "## Normalization"
   ]
  },
  {
   "cell_type": "code",
   "execution_count": 9,
   "id": "5cbe3584",
   "metadata": {},
   "outputs": [],
   "source": [
    "# normalizer = Normalizer(inputCol=\"price\", outputCol=\"price\")\n",
    "# myGames = normalizer.transform(myGames)\n",
    "#hasher = FeatureHasher(inputCols=[\"price\", \"release_date\", \"required_age\", \"ratings\",\"totalRatings\",\"average_playtime\",\"median_playtime\",\"Action\"],\n",
    "#                       outputCol=\"features\")\n",
    "\n",
    "#featurized = hasher.transform(myGames)\n",
    "#listOfGames=featurized.take(100)\n",
    "\n",
    "#featurized.head()\n",
    "\n",
    "#myGames3 = myGames.take(10000)\n",
    "#normalizer = Normalizer(inputCol=\"features\", outputCol=\"normFeatures\", p=1.0)\n",
    "#l1NormData = normalizer.transform(featurized)\n",
    "#l1NormData.head()\n",
    "\n",
    "# lInfNormData = normalizer.transform(featurized, {normalizer.p: float(\"inf\")})\n",
    "#listOfGames=l1NormData.take(10)\n",
    "# listOfGames.reshape(-1, 1)\n",
    "# X_normalized = normalizer(myGames, copy=True)\n",
    "#type(listOfGames)\n",
    "#listOfGames=np.array([listOfGames], dtype=object)"
   ]
  },
  {
   "cell_type": "markdown",
   "id": "3c70905a",
   "metadata": {
    "pycharm": {
     "name": "#%% md\n"
    }
   },
   "source": [
    "## Data Preprocessing"
   ]
  },
  {
   "cell_type": "code",
   "execution_count": 10,
   "id": "12b221ab",
   "metadata": {
    "pycharm": {
     "name": "#%%\n"
    }
   },
   "outputs": [],
   "source": [
    "# get the yaer of release_date\n",
    "games = games.withColumn('release_date', col('release_date')[0:4])\n",
    "games = games.withColumn(\"release_date\", games[\"release_date\"].cast(IntegerType()))"
   ]
  },
  {
   "cell_type": "code",
   "execution_count": 11,
   "id": "92a86dd4",
   "metadata": {
    "pycharm": {
     "name": "#%%\n"
    }
   },
   "outputs": [
    {
     "name": "stderr",
     "output_type": "stream",
     "text": [
      "                                                                                \r"
     ]
    }
   ],
   "source": [
    "#create columns for genres\n",
    "games = games.withColumn('genres', split(col('genres'), ';'))\n",
    "uniq_genres = games.select('genres').distinct().collect()\n",
    "unic_genres_set = set()\n",
    "for u in uniq_genres:\n",
    "    for i in u.genres:\n",
    "        unic_genres_set.add(i)\n",
    "unic_genres_set\n",
    "\n",
    "for i in unic_genres_set:\n",
    "    games = games.withColumn(i,when(array_contains(games.genres,i), 1).otherwise(0))"
   ]
  },
  {
   "cell_type": "code",
   "execution_count": 12,
   "id": "fbc54b9a",
   "metadata": {
    "pycharm": {
     "name": "#%%\n"
    }
   },
   "outputs": [
    {
     "name": "stderr",
     "output_type": "stream",
     "text": [
      "22/04/12 21:31:34 WARN package: Truncated the string representation of a plan since it was too large. This behavior can be adjusted by setting 'spark.sql.debug.maxToStringFields'.\n"
     ]
    }
   ],
   "source": [
    "# create columns for the categories\n",
    "games = games.withColumn('categories', split(col('categories'), ';'))\n",
    "uniq_cat = games.select('categories').distinct().collect()\n",
    "unic_cat_set = set()\n",
    "for u in uniq_cat:\n",
    "    for i in u.categories:\n",
    "        # if not i in games2.columns:\n",
    "        #     games2 = games2.withColumn(i, 0)\n",
    "        unic_cat_set.add(i)\n",
    "unic_cat_set\n",
    "\n",
    "for i in unic_cat_set:\n",
    "    games = games.withColumn(i,when(array_contains(games.categories,i), 1).otherwise(0))"
   ]
  },
  {
   "cell_type": "code",
   "execution_count": 13,
   "id": "b333936a",
   "metadata": {
    "pycharm": {
     "name": "#%%\n"
    }
   },
   "outputs": [
    {
     "data": {
      "text/plain": [
       "[Row(appid=10, name='Counter-Strike', price=7.19, release_date=2000, required_age=0, publishers='Valve', developers='Valve', categories=['Multi-player', 'Online Multi-Player', 'Local Multi-Player', 'Valve Anti-Cheat enabled'], genres=['Action'], ratings=97.39, totalRatings=127873, average_playtime=17612.0, median_playtime=317, num_owners='10000000-20000000', Indie=0, Audio Production=0, Free to Play=0, Utilities=0, Photo Editing=0, Video Production=0, Nudity=0, Massively Multiplayer=0, Strategy=0, Animation & Modeling=0, Documentary=0, Education=0, Action=1, Sports=0, Casual=0, Design & Illustration=0, Web Publishing=0, Adventure=0, Violent=0, Sexual Content=0, RPG=0, Racing=0, Gore=0, Early Access=0, Game Development=0, Tutorial=0, Simulation=0, Accounting=0, Software Training=0, Includes Source SDK=0, Steam Cloud=0, Shared/Split Screen=0, Online Co-op=0, Partial Controller Support=0, Local Multi-Player=1, Commentary available=0, Single-player=0, Stats=0, Mods (require HL2)=0, Multi-player=1, MMO=0, Online Multi-Player=1, Includes level editor=0, Full controller support=0, Steam Workshop=0, VR Support=0, Cross-Platform Multiplayer=0, Local Co-op=0, Valve Anti-Cheat enabled=1, Captions available=0, Steam Trading Cards=0, Steam Turn Notifications=0, SteamVR Collectibles=0, Steam Achievements=0, Mods=0, In-App Purchases=0, Co-op=0, Steam Leaderboards=0, RowNumber=0)]"
      ]
     },
     "execution_count": 13,
     "metadata": {},
     "output_type": "execute_result"
    }
   ],
   "source": [
    "# add the column to store the index of the row\n",
    "games = games.select(\"*\").withColumn(\"RowNumber\", monotonically_increasing_id())\n",
    "games.take(1)"
   ]
  },
  {
   "cell_type": "code",
   "execution_count": 14,
   "id": "5e66acb4",
   "metadata": {
    "pycharm": {
     "name": "#%%\n"
    }
   },
   "outputs": [],
   "source": [
    "# create a dataset with features that we need for the model\n",
    "myGames=games.drop('appid',\"developers\",\"genres\",\"name\",\"publishers\",\"categories\",\"num_owners\",)"
   ]
  },
  {
   "cell_type": "code",
   "execution_count": 15,
   "id": "2a55182c",
   "metadata": {},
   "outputs": [
    {
     "data": {
      "text/plain": [
       "[Row(price=7.19, release_date=2000, required_age=0, ratings=97.39, totalRatings=127873, average_playtime=17612.0, median_playtime=317, Indie=0, Audio Production=0, Free to Play=0, Utilities=0, Photo Editing=0, Video Production=0, Nudity=0, Massively Multiplayer=0, Strategy=0, Animation & Modeling=0, Documentary=0, Education=0, Action=1, Sports=0, Casual=0, Design & Illustration=0, Web Publishing=0, Adventure=0, Violent=0, Sexual Content=0, RPG=0, Racing=0, Gore=0, Early Access=0, Game Development=0, Tutorial=0, Simulation=0, Accounting=0, Software Training=0, Includes Source SDK=0, Steam Cloud=0, Shared/Split Screen=0, Online Co-op=0, Partial Controller Support=0, Local Multi-Player=1, Commentary available=0, Single-player=0, Stats=0, Mods (require HL2)=0, Multi-player=1, MMO=0, Online Multi-Player=1, Includes level editor=0, Full controller support=0, Steam Workshop=0, VR Support=0, Cross-Platform Multiplayer=0, Local Co-op=0, Valve Anti-Cheat enabled=1, Captions available=0, Steam Trading Cards=0, Steam Turn Notifications=0, SteamVR Collectibles=0, Steam Achievements=0, Mods=0, In-App Purchases=0, Co-op=0, Steam Leaderboards=0, RowNumber=0)]"
      ]
     },
     "execution_count": 15,
     "metadata": {},
     "output_type": "execute_result"
    }
   ],
   "source": [
    "myGames.head(1)"
   ]
  },
  {
   "cell_type": "markdown",
   "id": "0089ae4b",
   "metadata": {
    "pycharm": {
     "name": "#%% md\n"
    }
   },
   "source": [
    "## First Model : Cosine Similarity"
   ]
  },
  {
   "cell_type": "code",
   "execution_count": 16,
   "id": "562d62cb",
   "metadata": {},
   "outputs": [
    {
     "name": "stderr",
     "output_type": "stream",
     "text": [
      "                                                                                \r"
     ]
    },
    {
     "data": {
      "text/plain": [
       "array([[1.00000000e+00, 8.97414146e-01, 8.89050930e-01, ...,\n",
       "        3.76547723e-09, 3.99609567e-09, 6.07002769e-09],\n",
       "       [8.97414146e-01, 1.00000000e+00, 9.99682562e-01, ...,\n",
       "        2.25443188e-04, 2.25443395e-04, 2.25445218e-04],\n",
       "       [8.89050930e-01, 9.99682562e-01, 1.00000000e+00, ...,\n",
       "        4.63813819e-04, 4.63814024e-04, 4.63815831e-04],\n",
       "       ...,\n",
       "       [3.76547723e-09, 2.25443188e-04, 4.63813819e-04, ...,\n",
       "        1.00000000e+00, 1.00000000e+00, 1.00000000e+00],\n",
       "       [3.99609567e-09, 2.25443395e-04, 4.63814024e-04, ...,\n",
       "        1.00000000e+00, 1.00000000e+00, 1.00000000e+00],\n",
       "       [6.07002769e-09, 2.25445218e-04, 4.63815831e-04, ...,\n",
       "        1.00000000e+00, 1.00000000e+00, 1.00000000e+00]])"
      ]
     },
     "execution_count": 16,
     "metadata": {},
     "output_type": "execute_result"
    }
   ],
   "source": [
    "from sklearn.metrics.pairwise import cosine_similarity\n",
    "myGames2 = myGames.take(27000)\n",
    "\n",
    "cos_sim_data = cosine_similarity(myGames2)\n",
    "cos_sim_data"
   ]
  },
  {
   "cell_type": "code",
   "execution_count": 17,
   "id": "3e249ca3",
   "metadata": {
    "pycharm": {
     "name": "#%%\n"
    }
   },
   "outputs": [
    {
     "data": {
      "text/plain": [
       "list"
      ]
     },
     "execution_count": 17,
     "metadata": {},
     "output_type": "execute_result"
    }
   ],
   "source": [
    "type(myGames2)"
   ]
  },
  {
   "cell_type": "code",
   "execution_count": 18,
   "id": "6f658ed8",
   "metadata": {
    "pycharm": {
     "name": "#%%\n"
    }
   },
   "outputs": [],
   "source": [
    "# temp = pd.DataFrame(cos_sim_data)\n",
    "# cos_sim_df = spark.createDataFrame(temp)\n",
    "# cos_sim_df.take(5)"
   ]
  },
  {
   "cell_type": "code",
   "execution_count": 19,
   "id": "a80f6174",
   "metadata": {},
   "outputs": [],
   "source": [
    "# The users dataframe is not currently used.\n",
    "#users_df = spark.read.csv(users_csv, header=True, inferSchema=True)\n",
    "# Init the users/games relation dataframe.\n",
    "users_games_df = spark.read.csv(filename2, header=True, inferSchema=True).drop(\"_c0\")\n",
    "\n",
    "# Feature assembler: make a vector of all features.\n",
    "inputColsList = [\"ratings\", \"price\", \"release_date\", \"totalRatings\"]\n",
    "inputColsList.extend(unic_cat_set)\n",
    "inputColsList.extend(unic_genres_set)\n",
    "vector_assembler = VectorAssembler().setInputCols(inputColsList).setOutputCol(\"features\")\n",
    "vectorized_games = vector_assembler.transform(games)\n",
    "\n",
    "# Join the vectorized games with the user/games relation table.\n",
    "users_games_joined_df = users_games_df.join(vectorized_games, \"appid\", \"inner\")"
   ]
  },
  {
   "cell_type": "code",
   "execution_count": 20,
   "id": "49dd976b",
   "metadata": {
    "pycharm": {
     "name": "#%%\n"
    }
   },
   "outputs": [],
   "source": [
    "# // I need to create a function that get the appId and find the N top similar apps!!!\n",
    "def generate_top_N_recommendationsX(appId, N=10):\n",
    "    # appId = 0\n",
    "    emp_RDD = spark.sparkContext.emptyRDD()\n",
    "    row = games.select(\"RowNumber\", \"appid\").rdd.filter(lambda x: x['appid'] == appId).collect()\n",
    "    if len(row) == 0:\n",
    "        columns = StructType([StructField('name',\n",
    "                                  StringType(), True),\n",
    "                    StructField('RowNumber',\n",
    "                                IntegerType(), True),\n",
    "                    StructField('index',\n",
    "                                IntegerType(), True),\n",
    "                    StructField('score',\n",
    "                                DoubleType(), True)])\n",
    "        df = spark.createDataFrame(data = emp_RDD,\n",
    "                           schema = columns)\n",
    "        return df\n",
    "    row = row[0]['RowNumber']\n",
    "    sim_scores = list(enumerate(cos_sim_data[row]))\n",
    "    sim_scores = sorted(sim_scores, key=lambda x: x[1], reverse=True)\n",
    "    sim_scores = sim_scores[1:N]\n",
    "    game_indices = [i[0] for i in sim_scores]\n",
    "    tempArray = []\n",
    "    tempArrayScore =[]\n",
    "    for val in range(0,len(game_indices)):\n",
    "        tempArray.append((game_indices[val], val))\n",
    "        tempArrayScore.append((game_indices[val],sim_scores[val][1]))\n",
    "    tempArray = dict(tempArray)\n",
    "    tempArrayScore= dict(tempArrayScore)\n",
    "    names = games.where(col(\"RowNumber\").isin(game_indices)).select(\"name\",\"RowNumber\").rdd.map(lambda row: (row[0], row[1],tempArray[row[1]],float(tempArrayScore[row[1]]) )).toDF(['name','RowNumber','index','score']).sort('index')\n",
    "    return names\n",
    "\n",
    "def GetValueFromDataframe(_df,columnName):\n",
    "    for row in _df.rdd.collect():\n",
    "        return row[columnName]"
   ]
  },
  {
   "cell_type": "code",
   "execution_count": 21,
   "id": "f169a19f",
   "metadata": {
    "pycharm": {
     "name": "#%%\n"
    }
   },
   "outputs": [
    {
     "name": "stderr",
     "output_type": "stream",
     "text": [
      "\r",
      "[Stage 11:>                                                         (0 + 2) / 2]\r"
     ]
    },
    {
     "name": "stdout",
     "output_type": "stream",
     "text": [
      "+----+---------+-----+-----+\n",
      "|name|RowNumber|index|score|\n",
      "+----+---------+-----+-----+\n",
      "+----+---------+-----+-----+\n",
      "\n"
     ]
    },
    {
     "name": "stderr",
     "output_type": "stream",
     "text": [
      "\r",
      "[Stage 11:=============================>                            (1 + 1) / 2]\r",
      "\r",
      "                                                                                \r"
     ]
    }
   ],
   "source": [
    "equalnames = generate_top_N_recommendationsX(str(10))\n",
    "equalnames.show()"
   ]
  },
  {
   "cell_type": "code",
   "execution_count": 22,
   "id": "f05f9fdb",
   "metadata": {},
   "outputs": [],
   "source": [
    "def getRecommendationForUserCosineSim(user_id:int,num_recommendations:int =10):\n",
    "    owned_games_df = users_games_df.filter(users_games_df.steam_id == user_id)\n",
    "    emp_RDD = spark.sparkContext.emptyRDD()\n",
    "    # Create an expected schema\n",
    "    columns = StructType([StructField('name',\n",
    "                                  StringType(), True),\n",
    "                    StructField('RowNumber',\n",
    "                                IntegerType(), True),\n",
    "                    StructField('index',\n",
    "                                IntegerType(), True),\n",
    "                    StructField('score',\n",
    "                                DoubleType(), True)])\n",
    "    df = spark.createDataFrame(data = emp_RDD,\n",
    "                           schema = columns)\n",
    "    for row in owned_games_df.collect():\n",
    "        df_temp = generate_top_N_recommendationsX(row.appid)\n",
    "        df = df.union(df_temp)\n",
    "    df.sort(col('score').desc()).show(num_recommendations)\n",
    "\n"
   ]
  },
  {
   "cell_type": "code",
   "execution_count": 23,
   "id": "4426d935",
   "metadata": {},
   "outputs": [
    {
     "name": "stderr",
     "output_type": "stream",
     "text": [
      "22/04/12 21:34:46 WARN DAGScheduler: Broadcasting large task binary with size 4.5 MiB\n",
      "[Stage 945:==================================================>(1922 + 8) / 1944]\r"
     ]
    },
    {
     "name": "stdout",
     "output_type": "stream",
     "text": [
      "+--------------------+---------+-----+------------------+\n",
      "|                name|RowNumber|index|             score|\n",
      "+--------------------+---------+-----+------------------+\n",
      "| Dimension Hunter VR|     9981|    0|0.9999997790062494|\n",
      "|  Lode Runner Legacy|    14449|    0|0.9999997723123002|\n",
      "|   DUNGEONS OF CHAOS|    14000|    0|0.9999996607369963|\n",
      "|     Fausts Alptraum|    12673|    0|0.9999996328669667|\n",
      "| Necromancer Returns|    14542|    1|0.9999995668308166|\n",
      "|             Blockle|    14558|    2|0.9999995110937684|\n",
      "|Alien Arena: Warr...|    14482|    3|0.9999995074103457|\n",
      "|         Beyond Eden|    14561|    4|0.9999994309347743|\n",
      "|Game Character Hu...|    11068|    0|0.9999993911961074|\n",
      "|      Mount Wingsuit|     9971|    1|0.9999993357544238|\n",
      "+--------------------+---------+-----+------------------+\n",
      "only showing top 10 rows\n",
      "\n"
     ]
    },
    {
     "name": "stderr",
     "output_type": "stream",
     "text": [
      "\r",
      "[Stage 945:==================================================>(1931 + 9) / 1944]\r",
      "\r",
      "                                                                                \r"
     ]
    }
   ],
   "source": [
    "getRecommendationForUserCosineSim(user_id=76561197960360459)"
   ]
  },
  {
   "cell_type": "markdown",
   "id": "13547b98",
   "metadata": {},
   "source": [
    "###  Normalizer "
   ]
  },
  {
   "cell_type": "code",
   "execution_count": 31,
   "id": "6b69c413",
   "metadata": {},
   "outputs": [],
   "source": [
    "from pyspark.ml import Pipeline\n",
    "from pyspark.ml.feature import MinMaxScaler\n",
    "def normalzier(dataframe:DataFrame,columns:list)->DataFrame:\n",
    "    transformVector_to_double = udf(lambda x: round(float(list(x)[0]),3), DoubleType())\n",
    "    for i in columns:\n",
    "        assembler = VectorAssembler(inputCols=[i],outputCol=i+\"_Vect\")\n",
    "        scaler = MinMaxScaler(inputCol=i+\"_Vect\", outputCol=i+\"_Scaled\")\n",
    "        pipeline = Pipeline(stages=[assembler, scaler])\n",
    "        dataframe = pipeline.fit(dataframe).transform(dataframe).withColumn(i+\"_Scaled\", transformVector_to_double(i+\"_Scaled\")).drop(i+\"_Vect\")\n",
    "    print(type(dataframe))\n",
    "    dataframe.show()\n",
    "    return dataframe"
   ]
  },
  {
   "cell_type": "markdown",
   "id": "17b2c8f8",
   "metadata": {
    "pycharm": {
     "name": "#%% md\n"
    }
   },
   "source": [
    "## Model2 :  : Random Forest"
   ]
  },
  {
   "cell_type": "code",
   "execution_count": 32,
   "id": "32a70373",
   "metadata": {
    "pycharm": {
     "name": "#%%\n"
    }
   },
   "outputs": [],
   "source": [
    "def DoRandomForest(user_id, num_recommendations = 10, seed = 2022):\n",
    "    # Get the data for the games the player has played.\n",
    "    owned_games_df = users_games_joined_df.filter(users_games_joined_df.steam_id == user_id) #.filter(users_games_joined_df.time_played_in_minutes > 0)\n",
    "    user_games_count = owned_games_df.count()\n",
    "    print(\"Owned Games:\", owned_games_df.count())\n",
    "    if user_games_count > 0:\n",
    "        training_df, testing_df = owned_games_df.randomSplit([0.8, 0.2], seed)\n",
    "        norm=training_df.select(\"name\",\"time_played_in_minutes\")\n",
    "        normalzier(dataframe=norm,columns=[\"time_played_in_minutes\"])\n",
    "        # Print the games this user has played the most (for comparison to final predictions).\n",
    "        print(\"User's top games (from training set):\")\n",
    "        training_df.sort(training_df.time_played_in_minutes.desc()).select(\"name\", \"genres\", \"time_played_in_minutes\").show()\n",
    "        #owned_games_df.sort(owned_games_df.time_played_in_minutes.desc()).select(\"name\", \"genres\", \"time_played_in_minutes\").show()\n",
    "\n",
    "        # Extract the list of unowned games by removing the already owned ones.\n",
    "        unowned_games_df = vectorized_games.join(owned_games_df, \"appid\", \"leftanti\")\n",
    "\n",
    "        # Build Random Forest Regression based on time the user played each game in their library.\n",
    "        randForest = RandomForestRegressor()\n",
    "        model = randForest.fit(training_df.withColumnRenamed(\"time_played_in_minutes\", \"label\"))\n",
    "\n",
    "        # Run the model on unowned game data.\n",
    "        predictions = model.transform(unowned_games_df).sort(col(\"prediction\").desc())\n",
    "        print(\"The user's top \" + str(num_recommendations) + \" predicted games (with predicted minutes played if they owned it):\")\n",
    "        predictions.select('appid', 'features', 'genres', 'name', 'prediction').show(num_recommendations)\n",
    "\n",
    "        # Model evaluation via RMSE\n",
    "        evaluator = RegressionEvaluator(labelCol=\"label\", predictionCol=\"prediction\")\n",
    "        testing_df = model.transform(testing_df.withColumnRenamed(\"time_played_in_minutes\", \"label\"))\n",
    "        rmse = evaluator.evaluate(testing_df, {evaluator.metricName: \"rmse\"})\n",
    "        print(\"RMSE:\", rmse)\n",
    "        testing_df.select('name', 'label', 'prediction').show()\n",
    "\n",
    "        # Determine the importance of each feature\n",
    "        print(\"Feature Importances:\")\n",
    "        featuresArr = model.featureImportances.toArray()\n",
    "        featureImportanceCombined = []\n",
    "        for i in range(0, len(inputColsList)):\n",
    "            featureImportanceCombined.append((inputColsList[i], featuresArr[i].item()))\n",
    "        feature_df = spark.createDataFrame(featureImportanceCombined).toDF('feature', 'importance').sort('importance', ascending=False)\n",
    "        feature_df.show()"
   ]
  },
  {
   "cell_type": "code",
   "execution_count": 33,
   "id": "e4598c60",
   "metadata": {},
   "outputs": [
    {
     "name": "stdout",
     "output_type": "stream",
     "text": [
      "Owned Games: 216\n"
     ]
    },
    {
     "name": "stderr",
     "output_type": "stream",
     "text": [
      "                                                                                \r"
     ]
    },
    {
     "name": "stdout",
     "output_type": "stream",
     "text": [
      "<class 'pyspark.sql.dataframe.DataFrame'>\n"
     ]
    },
    {
     "name": "stderr",
     "output_type": "stream",
     "text": [
      "                                                                                \r"
     ]
    },
    {
     "name": "stdout",
     "output_type": "stream",
     "text": [
      "+--------------------+----------------------+-----------------------------+\n",
      "|                name|time_played_in_minutes|time_played_in_minutes_Scaled|\n",
      "+--------------------+----------------------+-----------------------------+\n",
      "|      Counter-Strike|                  1538|                        0.234|\n",
      "|Team Fortress Cla...|                    42|                        0.006|\n",
      "|  Deathmatch Classic|                     0|                          0.0|\n",
      "|Half-Life: Opposi...|                     0|                          0.0|\n",
      "|            Ricochet|                     0|                          0.0|\n",
      "|           Half-Life|                     0|                          0.0|\n",
      "|         Half-Life 2|                   481|                        0.073|\n",
      "|Counter-Strike: S...|                    61|                        0.009|\n",
      "|Half-Life 2: Lost...|                     0|                          0.0|\n",
      "|Half-Life 2: Epis...|                     2|                          0.0|\n",
      "|              Portal|                     0|                          0.0|\n",
      "|Half-Life 2: Epis...|                     0|                          0.0|\n",
      "|     Team Fortress 2|                   104|                        0.016|\n",
      "|         Left 4 Dead|                   100|                        0.015|\n",
      "|            Portal 2|                    54|                        0.008|\n",
      "|Counter-Strike: G...|                  1884|                        0.287|\n",
      "|       Killing Floor|                    12|                        0.002|\n",
      "|The Ship: Murder ...|                     0|                          0.0|\n",
      "|       Shadowgrounds|                     0|                          0.0|\n",
      "|Men of War: Red Tide|                     0|                          0.0|\n",
      "+--------------------+----------------------+-----------------------------+\n",
      "only showing top 20 rows\n",
      "\n",
      "User's top games (from training set):\n"
     ]
    },
    {
     "name": "stderr",
     "output_type": "stream",
     "text": [
      "                                                                                \r"
     ]
    },
    {
     "name": "stdout",
     "output_type": "stream",
     "text": [
      "+--------------------+--------------------+----------------------+\n",
      "|                name|              genres|time_played_in_minutes|\n",
      "+--------------------+--------------------+----------------------+\n",
      "|                DOOM|            [Action]|                  6566|\n",
      "|          Anno 2070™|          [Strategy]|                  3850|\n",
      "|           Tropico 5|[RPG, Simulation,...|                  3836|\n",
      "|LEGO® Batman™ 3: ...| [Action, Adventure]|                  3699|\n",
      "|Call of Duty®: Bl...|            [Action]|                  2774|\n",
      "|     Game Dev Tycoon|[Casual, Indie, S...|                  2627|\n",
      "|  Duke Nukem Forever|            [Action]|                  2432|\n",
      "|    Castle Crashers®|[Action, Adventur...|                  2198|\n",
      "|Jurassic World Ev...|[Simulation, Stra...|                  2025|\n",
      "|Call of Duty®: In...| [Action, Adventure]|                  1922|\n",
      "|Counter-Strike: G...|[Action, Free to ...|                  1884|\n",
      "|      Rocket League®|[Action, Indie, R...|                  1713|\n",
      "|Wolfenstein: The ...|            [Action]|                  1703|\n",
      "|      Counter-Strike|            [Action]|                  1538|\n",
      "|           Tropico 4|[Simulation, Stra...|                  1363|\n",
      "|           Homefront|            [Action]|                  1143|\n",
      "|LARA CROFT AND TH...| [Action, Adventure]|                  1143|\n",
      "|Battlefield: Bad ...|            [Action]|                  1020|\n",
      "|Batman™: Arkham O...| [Action, Adventure]|                  1009|\n",
      "|      Sniper Elite 4| [Action, Adventure]|                  1003|\n",
      "+--------------------+--------------------+----------------------+\n",
      "only showing top 20 rows\n",
      "\n"
     ]
    },
    {
     "name": "stderr",
     "output_type": "stream",
     "text": [
      "                                                                                \r"
     ]
    },
    {
     "name": "stdout",
     "output_type": "stream",
     "text": [
      "The user's top 10 predicted games (with predicted minutes played if they owned it):\n"
     ]
    },
    {
     "name": "stderr",
     "output_type": "stream",
     "text": [
      "                                                                                \r"
     ]
    },
    {
     "name": "stdout",
     "output_type": "stream",
     "text": [
      "+------+--------------------+--------------------+--------------------+------------------+\n",
      "| appid|            features|              genres|                name|        prediction|\n",
      "+------+--------------------+--------------------+--------------------+------------------+\n",
      "|413150|(62,[0,1,2,3,5,8,...|[Indie, RPG, Simu...|      Stardew Valley|2926.3480012324844|\n",
      "|582010|(62,[0,1,2,3,5,8,...|            [Action]|MONSTER HUNTER: W...| 2801.330814384891|\n",
      "|242760|(62,[0,1,2,3,5,8,...|[Action, Adventur...|          The Forest|2675.7936182476947|\n",
      "|438100|(62,[0,2,3,7,8,11...|[Adventure, Casua...|              VRChat| 2553.625254872564|\n",
      "|322330|(62,[0,1,2,3,11,1...|[Adventure, Indie...|Don't Starve Toge...| 2410.713249178982|\n",
      "|286160|(62,[0,1,2,3,5,6,...|[Casual, Indie, R...|  Tabletop Simulator| 2365.056740196079|\n",
      "|359550|(62,[0,1,2,3,8,11...|            [Action]|Tom Clancy's Rain...|2357.9481552229045|\n",
      "|552520|(62,[0,1,2,3,8,11...| [Action, Adventure]|          Far Cry® 5|2309.1445763305323|\n",
      "|460930|(62,[0,1,2,3,8,11...| [Action, Adventure]|Tom Clancy's Ghos...|2247.5182126941686|\n",
      "|313160|(62,[0,1,2,3,5,8,...|        [Simulation]|Farming Simulator 15|2208.3044965906583|\n",
      "+------+--------------------+--------------------+--------------------+------------------+\n",
      "only showing top 10 rows\n",
      "\n"
     ]
    },
    {
     "name": "stderr",
     "output_type": "stream",
     "text": [
      "                                                                                \r"
     ]
    },
    {
     "name": "stdout",
     "output_type": "stream",
     "text": [
      "RMSE: 910.6252111854186\n"
     ]
    },
    {
     "name": "stderr",
     "output_type": "stream",
     "text": [
      "\r",
      "[Stage 1035:>                                                       (0 + 1) / 1]\r"
     ]
    },
    {
     "name": "stdout",
     "output_type": "stream",
     "text": [
      "+--------------------+-----+------------------+\n",
      "|                name|label|        prediction|\n",
      "+--------------------+-----+------------------+\n",
      "|       Day of Defeat|    0|24.411534904289887|\n",
      "|Half-Life: Blue S...|    0|20.817009169309046|\n",
      "|Half-Life 2: Deat...|    0|24.411534904289887|\n",
      "|Half-Life Deathma...|    0|14.899846054272265|\n",
      "|       Left 4 Dead 2| 2002|354.93022788647914|\n",
      "|              Dota 2| 2324|1679.3457826096078|\n",
      "|         Garry's Mod|    0|  993.566078892372|\n",
      "|Trackmania United...| 1099| 280.3155187168669|\n",
      "|Runaway, A Road A...|   19| 17.23413747902628|\n",
      "|                RAGE|  103|  392.650269733016|\n",
      "|Grand Theft Auto:...|  105| 142.1050838380864|\n",
      "|           Max Payne|    0|20.937009169309043|\n",
      "|            Far Cry®|    0| 21.08932398412386|\n",
      "|Tom Clancy's Rain...|    0| 20.13445789408295|\n",
      "|Tom Clancy's Spli...|    0| 19.67242030730911|\n",
      "|Tom Clancy's Spli...|   18|  30.5993729216882|\n",
      "|Tom Clancy's Rain...|    0|31.677006415144056|\n",
      "|Tom Clancy's Rain...|    6| 58.10258379833656|\n",
      "|Brothers in Arms:...|   17|15.638897580036382|\n",
      "|     Crysis Warhead®|    0|15.754920307309112|\n",
      "+--------------------+-----+------------------+\n",
      "only showing top 20 rows\n",
      "\n",
      "Feature Importances:\n",
      "+--------------------+--------------------+\n",
      "|             feature|          importance|\n",
      "+--------------------+--------------------+\n",
      "|        totalRatings| 0.20072927240041138|\n",
      "|               price| 0.12820185373660292|\n",
      "|        release_date| 0.12804635824441848|\n",
      "|             ratings|  0.1206917723659187|\n",
      "|Partial Controlle...| 0.06741150195106564|\n",
      "|            Strategy|0.052335686191142206|\n",
      "|Cross-Platform Mu...| 0.05059040852106658|\n",
      "|          Simulation|  0.0421785581626518|\n",
      "|               Co-op| 0.02679922530486647|\n",
      "|                 RPG|0.026467680468288752|\n",
      "|              Action|  0.0197305494524681|\n",
      "|              Casual|0.016183395438562606|\n",
      "| Steam Trading Cards|0.014500379418382128|\n",
      "|         Steam Cloud|0.013558803702075694|\n",
      "|Full controller s...|0.011063692851250674|\n",
      "|           Adventure|0.010965496651480435|\n",
      "|  Steam Achievements|0.010633181041904189|\n",
      "| Shared/Split Screen|0.008547083516183255|\n",
      "|  Local Multi-Player|0.008033170794434977|\n",
      "|    In-App Purchases|0.006927774745039236|\n",
      "+--------------------+--------------------+\n",
      "only showing top 20 rows\n",
      "\n"
     ]
    },
    {
     "name": "stderr",
     "output_type": "stream",
     "text": [
      "\r",
      "                                                                                \r"
     ]
    }
   ],
   "source": [
    "DoRandomForest(76561197960360459)"
   ]
  },
  {
   "cell_type": "code",
   "execution_count": 34,
   "id": "59157195",
   "metadata": {},
   "outputs": [
    {
     "name": "stdout",
     "output_type": "stream",
     "text": [
      "Owned Games: 136\n"
     ]
    },
    {
     "name": "stderr",
     "output_type": "stream",
     "text": [
      "                                                                                \r"
     ]
    },
    {
     "name": "stdout",
     "output_type": "stream",
     "text": [
      "<class 'pyspark.sql.dataframe.DataFrame'>\n"
     ]
    },
    {
     "name": "stderr",
     "output_type": "stream",
     "text": [
      "                                                                                \r"
     ]
    },
    {
     "name": "stdout",
     "output_type": "stream",
     "text": [
      "+--------------------+----------------------+-----------------------------+\n",
      "|                name|time_played_in_minutes|time_played_in_minutes_Scaled|\n",
      "+--------------------+----------------------+-----------------------------+\n",
      "|      Counter-Strike|                  1969|                        0.065|\n",
      "|Team Fortress Cla...|                    19|                        0.001|\n",
      "|           Half-Life|                  3298|                        0.109|\n",
      "|Counter-Strike: C...|                   119|                        0.004|\n",
      "|Half-Life: Blue S...|                   386|                        0.013|\n",
      "|         Half-Life 2|                   675|                        0.022|\n",
      "|   Half-Life: Source|                     0|                          0.0|\n",
      "|Day of Defeat: So...|                     0|                          0.0|\n",
      "|Half-Life 2: Lost...|                    14|                          0.0|\n",
      "|Half-Life 2: Epis...|                   295|                         0.01|\n",
      "|              Portal|                   467|                        0.015|\n",
      "|Half-Life 2: Epis...|                   308|                         0.01|\n",
      "|     Team Fortress 2|                  1727|                        0.057|\n",
      "|         Left 4 Dead|                     0|                          0.0|\n",
      "|         Alien Swarm|                   667|                        0.022|\n",
      "|Counter-Strike: G...|                 30157|                          1.0|\n",
      "|Red Orchestra: Os...|                  1908|                        0.063|\n",
      "|       Killing Floor|                 16366|                        0.543|\n",
      "|            Darwinia|                     0|                          0.0|\n",
      "|              Uplink|                     0|                          0.0|\n",
      "+--------------------+----------------------+-----------------------------+\n",
      "only showing top 20 rows\n",
      "\n",
      "User's top games (from training set):\n"
     ]
    },
    {
     "name": "stderr",
     "output_type": "stream",
     "text": [
      "                                                                                \r"
     ]
    },
    {
     "name": "stdout",
     "output_type": "stream",
     "text": [
      "+--------------------+--------------------+----------------------+\n",
      "|                name|              genres|time_played_in_minutes|\n",
      "+--------------------+--------------------+----------------------+\n",
      "|Counter-Strike: G...|[Action, Free to ...|                 30157|\n",
      "|Sid Meier's Civil...|          [Strategy]|                 17603|\n",
      "|       Killing Floor|            [Action]|                 16366|\n",
      "|Kerbal Space Program| [Indie, Simulation]|                 11131|\n",
      "|MechWarrior Onlin...|[Action, Free to ...|                  9815|\n",
      "|Sid Meier’s Civil...|          [Strategy]|                  9192|\n",
      "|Sins of a Solar E...|   [Indie, Strategy]|                  8750|\n",
      "|Red Orchestra 2: ...|[Action, Massivel...|                  6684|\n",
      "|             XCOM® 2|          [Strategy]|                  5412|\n",
      "|Supreme Commander...|          [Strategy]|                  5283|\n",
      "|Defense Grid: The...|   [Indie, Strategy]|                  5262|\n",
      "|          BATTLETECH|[Action, Adventur...|                  4129|\n",
      "| XCOM: Enemy Unknown|          [Strategy]|                  4091|\n",
      "|Rising Storm 2: V...|[Action, Massivel...|                  3880|\n",
      "|           Stellaris|[Simulation, Stra...|                  3614|\n",
      "|           Half-Life|            [Action]|                  3298|\n",
      "|            Banished|[Indie, Simulatio...|                  3080|\n",
      "|Command & Conquer...|          [Strategy]|                  2844|\n",
      "|PLAYERUNKNOWN'S B...|[Action, Adventur...|                  2434|\n",
      "|      Counter-Strike|            [Action]|                  1969|\n",
      "+--------------------+--------------------+----------------------+\n",
      "only showing top 20 rows\n",
      "\n"
     ]
    },
    {
     "name": "stderr",
     "output_type": "stream",
     "text": [
      "                                                                                \r"
     ]
    },
    {
     "name": "stdout",
     "output_type": "stream",
     "text": [
      "The user's top 10 predicted games (with predicted minutes played if they owned it):\n"
     ]
    },
    {
     "name": "stderr",
     "output_type": "stream",
     "text": [
      "                                                                                \r"
     ]
    },
    {
     "name": "stdout",
     "output_type": "stream",
     "text": [
      "+------+--------------------+--------------------+--------------------+------------------+\n",
      "| appid|            features|              genres|                name|        prediction|\n",
      "+------+--------------------+--------------------+--------------------+------------------+\n",
      "|   570|(62,[0,2,3,14,19,...|[Action, Free to ...|              Dota 2|13588.201947713533|\n",
      "|304930|(62,[0,2,3,5,7,11...|[Action, Adventur...|            Unturned|11137.970448717948|\n",
      "|299360|(62,[0,2,3,11,12,...|[Action, Free to ...|        Block N Load|10756.104447923533|\n",
      "|252490|(62,[0,1,2,3,7,12...|[Action, Adventur...|                Rust|10695.020454545454|\n",
      "|346330|(62,[0,2,3,4,7,8,...|[Action, Adventur...|        BrainBread 2|  9667.52585907336|\n",
      "|204300|(62,[0,2,3,5,6,11...|[Action, Free to ...|Awesomenauts - th...| 9661.727583737584|\n",
      "| 17570|(62,[0,2,3,4,5,12...|[Action, Free to ...|Pirates, Vikings,...| 9442.266216216216|\n",
      "|312280|(62,[0,2,3,5,11,1...|[Casual, Free to ...|        Simply Chess| 8322.804196875919|\n",
      "|291550|(62,[0,2,3,6,7,9,...|[Action, Free to ...|          Brawlhalla| 7997.374252136751|\n",
      "|236390|(62,[0,2,3,8,11,1...|[Action, Free to ...|         War Thunder| 7807.137301587301|\n",
      "+------+--------------------+--------------------+--------------------+------------------+\n",
      "only showing top 10 rows\n",
      "\n"
     ]
    },
    {
     "name": "stderr",
     "output_type": "stream",
     "text": [
      "                                                                                \r"
     ]
    },
    {
     "name": "stdout",
     "output_type": "stream",
     "text": [
      "RMSE: 2054.229303356947\n"
     ]
    },
    {
     "name": "stderr",
     "output_type": "stream",
     "text": [
      "\r",
      "[Stage 1072:>                                                       (0 + 1) / 1]\r"
     ]
    },
    {
     "name": "stdout",
     "output_type": "stream",
     "text": [
      "+--------------------+-----+------------------+\n",
      "|                name|label|        prediction|\n",
      "+--------------------+-----+------------------+\n",
      "|Half-Life: Opposi...| 1836| 760.3416032681887|\n",
      "|Counter-Strike: S...| 1959| 5644.819064828849|\n",
      "|Half-Life 2: Deat...|   10| 543.1726096784452|\n",
      "|Half-Life Deathma...|    0|437.83465076236115|\n",
      "|       Left 4 Dead 2|    0| 6628.793365384615|\n",
      "|            Portal 2| 1135|  4271.70584345479|\n",
      "|          Multiwinia|    0|217.32496986507408|\n",
      "|      Wolfenstein 3D|  224| 455.8661828822866|\n",
      "|       Ultimate Doom|    3| 265.7000527689358|\n",
      "|            QUAKE II|  811|405.84047392457757|\n",
      "|Star Wars: Battle...| 1895|   874.22935013722|\n",
      "|Civilization IV: ...|    0|1205.0256211015042|\n",
      "|Call of Duty: Wor...|   33|3052.8929777024305|\n",
      "|Unreal 2: The Awa...|  491| 289.7360185686133|\n",
      "|Unreal Tournament...| 6126| 2086.085240215375|\n",
      "|Unreal Tournament...| 5266|1179.1666337815784|\n",
      "|            Far Cry®|  377|362.31074220061635|\n",
      "|Sid Meier's Civil...|    0| 596.2302863081408|\n",
      "|Company of Heroes...|    0|1324.8170596753826|\n",
      "|SimCity™ 4 Deluxe...|   41| 791.7952863081408|\n",
      "+--------------------+-----+------------------+\n",
      "only showing top 20 rows\n",
      "\n",
      "Feature Importances:\n",
      "+--------------------+--------------------+\n",
      "|             feature|          importance|\n",
      "+--------------------+--------------------+\n",
      "|        totalRatings| 0.16451903991175634|\n",
      "|             ratings| 0.14526867699193874|\n",
      "|               price| 0.13237225968068375|\n",
      "|        release_date| 0.12038078344991739|\n",
      "|        Free to Play|  0.0684990845448176|\n",
      "|      Steam Workshop| 0.04952415963039748|\n",
      "|Full controller s...| 0.04045071044965014|\n",
      "|               Stats|0.036449643932019195|\n",
      "|Valve Anti-Cheat ...| 0.03529708605529652|\n",
      "|            Strategy| 0.03023879427715704|\n",
      "|  Captions available|0.026182994470878285|\n",
      "|Cross-Platform Mu...|0.024581120238759656|\n",
      "|                 MMO|0.021164581158592332|\n",
      "|Massively Multipl...|0.018721026590547803|\n",
      "|  Steam Achievements|0.012789755466452123|\n",
      "|         Steam Cloud|0.011708698185378555|\n",
      "|               Co-op|0.011289250073363472|\n",
      "|Includes level ed...|0.009709277291366097|\n",
      "|              Action| 0.00850560666379617|\n",
      "|          Simulation| 0.00808565377621316|\n",
      "+--------------------+--------------------+\n",
      "only showing top 20 rows\n",
      "\n"
     ]
    },
    {
     "name": "stderr",
     "output_type": "stream",
     "text": [
      "\r",
      "                                                                                \r"
     ]
    }
   ],
   "source": [
    "# Kyle's Steam ID\n",
    "DoRandomForest(76561197982716241)"
   ]
  },
  {
   "cell_type": "code",
   "execution_count": 30,
   "id": "e7735521",
   "metadata": {},
   "outputs": [],
   "source": []
  }
 ],
 "metadata": {
  "kernelspec": {
   "display_name": "Python 3 (ipykernel)",
   "language": "python",
   "name": "python3"
  },
  "language_info": {
   "codemirror_mode": {
    "name": "ipython",
    "version": 3
   },
   "file_extension": ".py",
   "mimetype": "text/x-python",
   "name": "python",
   "nbconvert_exporter": "python",
   "pygments_lexer": "ipython3",
   "version": "3.8.12"
  }
 },
 "nbformat": 4,
 "nbformat_minor": 5
}
