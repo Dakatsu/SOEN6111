{
 "cells": [
  {
   "cell_type": "markdown",
   "id": "d97a558a",
   "metadata": {},
   "source": [
    "# Imports"
   ]
  },
  {
   "cell_type": "code",
   "execution_count": 1,
   "id": "fad0ad65",
   "metadata": {},
   "outputs": [],
   "source": [
    "import csv\n",
    "import os\n",
    "import sys\n",
    "# Spark imports\n",
    "from pyspark.rdd import RDD\n",
    "from pyspark.sql import DataFrame\n",
    "from pyspark.sql.types import IntegerType\n",
    "from pyspark.sql import SparkSession\n",
    "import operator\n",
    "# Dask imports\n",
    "import dask.bag as db\n",
    "import dask.dataframe as df  # you can use Dask bags or dataframes\n",
    "from csv import reader\n",
    "import numpy as np\n",
    "import pandas as pd\n",
    "import datetime\n",
    "from pyspark.sql.functions import *\n",
    "import sklearn\n",
    "from sklearn import preprocessing\n",
    "from sklearn.datasets import make_blobs\n",
    "from sklearn.preprocessing import StandardScaler\n",
    "from sklearn.feature_extraction.text import TfidfVectorizer\n",
    "from sklearn.metrics.pairwise import cosine_similarity\n",
    "import re\n",
    "# from scipy.sparse import csr_matrix\n",
    "# import scipy as sp\n",
    "import heapq\n",
    "# from surprise import CoClustering\n",
    "# from surprise import Dataset, Reader, SVD, accuracy\n",
    "# from surprise import KNNBaseline\n",
    "\n",
    "\n",
    "# Packages for model evaluation\n",
    "from sklearn.metrics import mean_squared_error\n",
    "from sklearn.metrics import mean_absolute_error\n",
    "from time import time\n",
    "\n",
    "# from surprise.model_selection import train_test_split\n",
    "# from sklearn.model_selection import train_test_split\n",
    "\n",
    "# Package to suppress warnings\n",
    "import warnings\n",
    "warnings.filterwarnings(\"ignore\")\n",
    "from pyspark.sql.functions import monotonically_increasing_id\n",
    "# Packages for saving models\n",
    "import pickle\n",
    "\n",
    "from re import split\n",
    "from pyspark.sql import SparkSession\n",
    "from pyspark.sql.types import StructType, DoubleType, IntegerType, StringType, DateType\n",
    "from pyspark.sql.functions import *\n",
    "from pyspark.ml.feature import VectorAssembler\n",
    "from pyspark.ml.evaluation import RegressionEvaluator\n",
    "from pyspark.ml.regression import RandomForestRegressor"
   ]
  },
  {
   "cell_type": "code",
   "execution_count": 2,
   "id": "c5ad03bd",
   "metadata": {},
   "outputs": [],
   "source": [
    "def init_spark():\n",
    "    spark = SparkSession \\\n",
    "        .builder \\\n",
    "        .appName(\"Python Spark SQL basic example\") \\\n",
    "        .config(\"spark.some.config.option\", \"some-value\") \\\n",
    "        .getOrCreate()\n",
    "    return spark"
   ]
  },
  {
   "cell_type": "code",
   "execution_count": 3,
   "id": "31128bad",
   "metadata": {},
   "outputs": [],
   "source": [
    "spark=init_spark()"
   ]
  },
  {
   "cell_type": "markdown",
   "id": "fecee1f5",
   "metadata": {},
   "source": [
    "## Generate Data For Base Game DataSet"
   ]
  },
  {
   "cell_type": "code",
   "execution_count": 4,
   "id": "a2e4d185",
   "metadata": {},
   "outputs": [],
   "source": [
    "def generateData():\n",
    "    path_to_write = parentPath+'/data/datasets'\n",
    "    originalDataSet = pd.read_csv(parentPath+'/data/datasets/steam.csv')\n",
    "    if os.path.exists(path_to_write+'/games.csv'):\n",
    "        return pd.read_csv(path_to_write+'/games.csv')\n",
    "    for row in originalDataSet.iterrows():\n",
    "        row =row[1]\n",
    "        totalRatings = (row['positive_ratings'] + row['negative_ratings'])\n",
    "        if totalRatings == 0:\n",
    "            ratings = 0\n",
    "        else:\n",
    "            ratings = round((row['positive_ratings']/totalRatings) * 100,2)\n",
    "        dictionnary[row['appid']] = {\n",
    "                    \"name\": row['name'],\n",
    "                    \"price\": row['price'],\n",
    "                    \"release_date\": row['release_date'],\n",
    "                    \"required_age\": row['required_age'],\n",
    "                    \"publishers\": row['publisher'],\n",
    "                    \"developers\": row['developer'],\n",
    "                    \"categories\": row['categories'],\n",
    "                    \"genres\": row['genres'],\n",
    "                    \"ratings\": ratings,\n",
    "                    \"totalRatings\": totalRatings,\n",
    "                    \"average_playtime\": row['average_playtime'],\n",
    "                    \"median_playtime\": row['median_playtime'],\n",
    "                    \"num_owners\": row['owners']\n",
    "        }\n",
    "    \n",
    "    \n",
    "\n",
    "    df = pd.DataFrame.from_dict(dictionnary, orient='index')\n",
    "    df.index.name = 'appid'\n",
    "    if not os.path.exists(path_to_write):\n",
    "        os.mkdir(path_to_write)\n",
    "    \n",
    "    df.to_csv(path_to_write+'/games.csv')\n",
    "    return df"
   ]
  },
  {
   "cell_type": "markdown",
   "id": "cc90d1f2",
   "metadata": {},
   "source": [
    "## Generate the User Steam Dataset"
   ]
  },
  {
   "cell_type": "code",
   "execution_count": 5,
   "id": "2960becc",
   "metadata": {},
   "outputs": [],
   "source": [
    "url_user_info = \"https://api.steampowered.com/IPlayerService/GetOwnedGames/v1/?key=D399B9CAE07939881781DD36CC8CC442&steamid={}&include_appinfo=true&include_played_free_games=true\"\n",
    "def generateDataForUserSteamDataset():\n",
    "    dictionary=[]\n",
    "    path_to_write = parentPath+'/data/datasets'\n",
    "    if os.path.exists(path_to_write+'/steam_id_games.csv'):\n",
    "        return pd.read_csv(path_to_write+'/steam_id_games.csv')\n",
    "    originalDataSet = pd.read_csv(parentPath+'/data/datasets/steam_id.csv')\n",
    "    for row in originalDataSet.iterrows():\n",
    "        row =row[1]\n",
    "        try:\n",
    "            games = requests.get(url_user_info.format(row['steamid_a'])).json()['response']\n",
    "        except:\n",
    "            continue\n",
    "        if 'games' not in games:\n",
    "            continue\n",
    "        dataset = [{'steam_id':row['steamid_a'],\"appid\" :str(game['appid']), \"time_played_in_minutes\": game['playtime_forever'] } for game in games['games']]\n",
    "        dictionary = dataset+dictionary\n",
    "    df = pd.DataFrame.from_records(dictionary)\n",
    "    if not os.path.exists(path_to_write):\n",
    "        os.mkdir(path_to_write)\n",
    "    \n",
    "    df.to_csv(path_to_write+'/steam_id_games.csv')\n",
    "    return df"
   ]
  },
  {
   "cell_type": "code",
   "execution_count": 6,
   "id": "5fa7a6e2",
   "metadata": {},
   "outputs": [],
   "source": [
    "filename=\"../data/datasets/games.csv\"\n",
    "filename2=\"../data/datasets/steam_id_games.csv\""
   ]
  },
  {
   "cell_type": "code",
   "execution_count": 7,
   "id": "35b9346c",
   "metadata": {},
   "outputs": [],
   "source": [
    "from pyspark.sql.types import *\n",
    "games_schema = StructType() \\\n",
    "    .add(\"appid\", IntegerType(), True) \\\n",
    "    .add(\"name\", StringType(), True) \\\n",
    "    .add(\"price\", DoubleType(), True) \\\n",
    "    .add(\"release_date\", StringType(), True) \\\n",
    "    .add(\"required_age\", IntegerType(), True) \\\n",
    "    .add(\"publishers\", StringType(), True) \\\n",
    "    .add(\"developers\", StringType(), True) \\\n",
    "    .add(\"categories\", StringType(), True) \\\n",
    "    .add(\"genres\", StringType(), True) \\\n",
    "    .add(\"ratings\", DoubleType(), True) \\\n",
    "    .add(\"totalRatings\", IntegerType(), True) \\\n",
    "    .add(\"average_playtime\", DoubleType(), True) \\\n",
    "    .add(\"median_playtime\", IntegerType(), True) \\\n",
    "    .add(\"num_owners\", StringType(), True)\n",
    "games = spark.read.schema(games_schema).csv(filename, header=True).dropna()\n"
   ]
  },
  {
   "cell_type": "code",
   "execution_count": 8,
   "id": "ae101f92",
   "metadata": {},
   "outputs": [
    {
     "data": {
      "text/plain": [
       "[Row(appid=10, name='Counter-Strike', price=7.19, release_date='2000-11-01', required_age=0, publishers='Valve', developers='Valve', categories='Multi-player;Online Multi-Player;Local Multi-Player;Valve Anti-Cheat enabled', genres='Action', ratings=97.39, totalRatings=127873, average_playtime=17612.0, median_playtime=317, num_owners='10000000-20000000'),\n",
       " Row(appid=20, name='Team Fortress Classic', price=3.99, release_date='1999-04-01', required_age=0, publishers='Valve', developers='Valve', categories='Multi-player;Online Multi-Player;Local Multi-Player;Valve Anti-Cheat enabled', genres='Action', ratings=83.98, totalRatings=3951, average_playtime=277.0, median_playtime=62, num_owners='5000000-10000000'),\n",
       " Row(appid=30, name='Day of Defeat', price=3.99, release_date='2003-05-01', required_age=0, publishers='Valve', developers='Valve', categories='Multi-player;Valve Anti-Cheat enabled', genres='Action', ratings=89.56, totalRatings=3814, average_playtime=187.0, median_playtime=34, num_owners='5000000-10000000'),\n",
       " Row(appid=40, name='Deathmatch Classic', price=3.99, release_date='2001-06-01', required_age=0, publishers='Valve', developers='Valve', categories='Multi-player;Online Multi-Player;Local Multi-Player;Valve Anti-Cheat enabled', genres='Action', ratings=82.66, totalRatings=1540, average_playtime=258.0, median_playtime=184, num_owners='5000000-10000000'),\n",
       " Row(appid=50, name='Half-Life: Opposing Force', price=3.99, release_date='1999-11-01', required_age=0, publishers='Valve', developers='Gearbox Software', categories='Single-player;Multi-player;Valve Anti-Cheat enabled', genres='Action', ratings=94.8, totalRatings=5538, average_playtime=624.0, median_playtime=415, num_owners='5000000-10000000')]"
      ]
     },
     "execution_count": 8,
     "metadata": {},
     "output_type": "execute_result"
    }
   ],
   "source": [
    "games.take(5)"
   ]
  },
  {
   "cell_type": "markdown",
   "id": "c5a4d906",
   "metadata": {},
   "source": [
    "## Normalization"
   ]
  },
  {
   "cell_type": "code",
   "execution_count": 9,
   "id": "5cbe3584",
   "metadata": {},
   "outputs": [],
   "source": [
    "# normalizer = Normalizer(inputCol=\"price\", outputCol=\"price\")\n",
    "# myGames = normalizer.transform(myGames)\n",
    "#hasher = FeatureHasher(inputCols=[\"price\", \"release_date\", \"required_age\", \"ratings\",\"totalRatings\",\"average_playtime\",\"median_playtime\",\"Action\"],\n",
    "#                       outputCol=\"features\")\n",
    "\n",
    "#featurized = hasher.transform(myGames)\n",
    "#listOfGames=featurized.take(100)\n",
    "\n",
    "#featurized.head()\n",
    "\n",
    "#myGames3 = myGames.take(10000)\n",
    "#normalizer = Normalizer(inputCol=\"features\", outputCol=\"normFeatures\", p=1.0)\n",
    "#l1NormData = normalizer.transform(featurized)\n",
    "#l1NormData.head()\n",
    "\n",
    "# lInfNormData = normalizer.transform(featurized, {normalizer.p: float(\"inf\")})\n",
    "#listOfGames=l1NormData.take(10)\n",
    "# listOfGames.reshape(-1, 1)\n",
    "# X_normalized = normalizer(myGames, copy=True)\n",
    "#type(listOfGames)\n",
    "#listOfGames=np.array([listOfGames], dtype=object)"
   ]
  },
  {
   "cell_type": "markdown",
   "id": "3c70905a",
   "metadata": {
    "pycharm": {
     "name": "#%% md\n"
    }
   },
   "source": [
    "## Data Preprocessing"
   ]
  },
  {
   "cell_type": "code",
   "execution_count": 10,
   "id": "12b221ab",
   "metadata": {
    "pycharm": {
     "name": "#%%\n"
    }
   },
   "outputs": [],
   "source": [
    "# get the yaer of release_date\n",
    "games = games.withColumn('release_date', col('release_date')[0:4])\n",
    "games = games.withColumn(\"release_date\", games[\"release_date\"].cast(IntegerType()))"
   ]
  },
  {
   "cell_type": "code",
   "execution_count": 11,
   "id": "92a86dd4",
   "metadata": {
    "pycharm": {
     "name": "#%%\n"
    }
   },
   "outputs": [],
   "source": [
    "#create columns for genres\n",
    "games = games.withColumn('genres', split(col('genres'), ';'))\n",
    "uniq_genres = games.select('genres').distinct().collect()\n",
    "unic_genres_set = set()\n",
    "for u in uniq_genres:\n",
    "    for i in u.genres:\n",
    "        unic_genres_set.add(i)\n",
    "unic_genres_set\n",
    "\n",
    "for i in unic_genres_set:\n",
    "    games = games.withColumn(i,when(array_contains(games.genres,i), 1).otherwise(0))"
   ]
  },
  {
   "cell_type": "code",
   "execution_count": 12,
   "id": "fbc54b9a",
   "metadata": {
    "pycharm": {
     "name": "#%%\n"
    }
   },
   "outputs": [],
   "source": [
    "# create columns for the categories\n",
    "games = games.withColumn('categories', split(col('categories'), ';'))\n",
    "uniq_cat = games.select('categories').distinct().collect()\n",
    "unic_cat_set = set()\n",
    "for u in uniq_cat:\n",
    "    for i in u.categories:\n",
    "        # if not i in games2.columns:\n",
    "        #     games2 = games2.withColumn(i, 0)\n",
    "        unic_cat_set.add(i)\n",
    "unic_cat_set\n",
    "\n",
    "for i in unic_cat_set:\n",
    "    games = games.withColumn(i,when(array_contains(games.categories,i), 1).otherwise(0))"
   ]
  },
  {
   "cell_type": "code",
   "execution_count": 13,
   "id": "b333936a",
   "metadata": {
    "pycharm": {
     "name": "#%%\n"
    }
   },
   "outputs": [
    {
     "data": {
      "text/plain": [
       "[Row(appid=10, name='Counter-Strike', price=7.19, release_date=2000, required_age=0, publishers='Valve', developers='Valve', categories=['Multi-player', 'Online Multi-Player', 'Local Multi-Player', 'Valve Anti-Cheat enabled'], genres=['Action'], ratings=97.39, totalRatings=127873, average_playtime=17612.0, median_playtime=317, num_owners='10000000-20000000', Early Access=0, Indie=0, Racing=0, Game Development=0, Massively Multiplayer=0, Action=1, Documentary=0, Video Production=0, Gore=0, Software Training=0, Strategy=0, Free to Play=0, Design & Illustration=0, Sexual Content=0, Utilities=0, Casual=0, Education=0, RPG=0, Audio Production=0, Animation & Modeling=0, Tutorial=0, Web Publishing=0, Simulation=0, Nudity=0, Accounting=0, Violent=0, Photo Editing=0, Sports=0, Adventure=0, Steam Trading Cards=0, Partial Controller Support=0, Includes Source SDK=0, Steam Leaderboards=0, VR Support=0, Stats=0, Co-op=0, SteamVR Collectibles=0, Valve Anti-Cheat enabled=1, MMO=0, Full controller support=0, Mods (require HL2)=0, Shared/Split Screen=0, In-App Purchases=0, Local Co-op=0, Includes level editor=0, Single-player=0, Captions available=0, Online Multi-Player=1, Steam Cloud=0, Mods=0, Steam Achievements=0, Local Multi-Player=1, Steam Turn Notifications=0, Multi-player=1, Commentary available=0, Steam Workshop=0, Online Co-op=0, Cross-Platform Multiplayer=0, RowNumber=0)]"
      ]
     },
     "execution_count": 13,
     "metadata": {},
     "output_type": "execute_result"
    }
   ],
   "source": [
    "# add the column to store the index of the row\n",
    "games = games.select(\"*\").withColumn(\"RowNumber\", monotonically_increasing_id())\n",
    "games.take(1)"
   ]
  },
  {
   "cell_type": "code",
   "execution_count": 14,
   "id": "5e66acb4",
   "metadata": {
    "pycharm": {
     "name": "#%%\n"
    }
   },
   "outputs": [],
   "source": [
    "# create a dataset with features that we need for the model\n",
    "myGames=games.drop('appid',\"developers\",\"genres\",\"name\",\"publishers\",\"categories\",\"num_owners\",)"
   ]
  },
  {
   "cell_type": "code",
   "execution_count": 15,
   "id": "2a55182c",
   "metadata": {},
   "outputs": [
    {
     "data": {
      "text/plain": [
       "[Row(price=7.19, release_date=2000, required_age=0, ratings=97.39, totalRatings=127873, average_playtime=17612.0, median_playtime=317, Early Access=0, Indie=0, Racing=0, Game Development=0, Massively Multiplayer=0, Action=1, Documentary=0, Video Production=0, Gore=0, Software Training=0, Strategy=0, Free to Play=0, Design & Illustration=0, Sexual Content=0, Utilities=0, Casual=0, Education=0, RPG=0, Audio Production=0, Animation & Modeling=0, Tutorial=0, Web Publishing=0, Simulation=0, Nudity=0, Accounting=0, Violent=0, Photo Editing=0, Sports=0, Adventure=0, Steam Trading Cards=0, Partial Controller Support=0, Includes Source SDK=0, Steam Leaderboards=0, VR Support=0, Stats=0, Co-op=0, SteamVR Collectibles=0, Valve Anti-Cheat enabled=1, MMO=0, Full controller support=0, Mods (require HL2)=0, Shared/Split Screen=0, In-App Purchases=0, Local Co-op=0, Includes level editor=0, Single-player=0, Captions available=0, Online Multi-Player=1, Steam Cloud=0, Mods=0, Steam Achievements=0, Local Multi-Player=1, Steam Turn Notifications=0, Multi-player=1, Commentary available=0, Steam Workshop=0, Online Co-op=0, Cross-Platform Multiplayer=0, RowNumber=0)]"
      ]
     },
     "execution_count": 15,
     "metadata": {},
     "output_type": "execute_result"
    }
   ],
   "source": [
    "myGames.head(1)"
   ]
  },
  {
   "cell_type": "markdown",
   "id": "0089ae4b",
   "metadata": {
    "pycharm": {
     "name": "#%% md\n"
    }
   },
   "source": [
    "## First Model : Cosine Similarity"
   ]
  },
  {
   "cell_type": "code",
   "execution_count": 16,
   "id": "562d62cb",
   "metadata": {},
   "outputs": [
    {
     "data": {
      "text/plain": [
       "array([[1.00000000e+00, 8.97414146e-01, 8.89050930e-01, ...,\n",
       "        3.76547717e-09, 3.99609560e-09, 6.07002759e-09],\n",
       "       [8.97414146e-01, 1.00000000e+00, 9.99682562e-01, ...,\n",
       "        2.25443188e-04, 2.25443395e-04, 2.25445218e-04],\n",
       "       [8.89050930e-01, 9.99682562e-01, 1.00000000e+00, ...,\n",
       "        4.63813819e-04, 4.63814024e-04, 4.63815831e-04],\n",
       "       ...,\n",
       "       [3.76547717e-09, 2.25443188e-04, 4.63813819e-04, ...,\n",
       "        1.00000000e+00, 1.00000000e+00, 1.00000000e+00],\n",
       "       [3.99609560e-09, 2.25443395e-04, 4.63814024e-04, ...,\n",
       "        1.00000000e+00, 1.00000000e+00, 1.00000000e+00],\n",
       "       [6.07002759e-09, 2.25445218e-04, 4.63815831e-04, ...,\n",
       "        1.00000000e+00, 1.00000000e+00, 1.00000000e+00]])"
      ]
     },
     "execution_count": 16,
     "metadata": {},
     "output_type": "execute_result"
    }
   ],
   "source": [
    "from sklearn.metrics.pairwise import cosine_similarity\n",
    "myGames2 = myGames.take(27000)\n",
    "\n",
    "cos_sim_data = cosine_similarity(myGames2)\n",
    "cos_sim_data"
   ]
  },
  {
   "cell_type": "code",
   "execution_count": 17,
   "id": "3e249ca3",
   "metadata": {
    "pycharm": {
     "name": "#%%\n"
    }
   },
   "outputs": [
    {
     "data": {
      "text/plain": [
       "list"
      ]
     },
     "execution_count": 17,
     "metadata": {},
     "output_type": "execute_result"
    }
   ],
   "source": [
    "type(myGames2)"
   ]
  },
  {
   "cell_type": "code",
   "execution_count": 18,
   "id": "6f658ed8",
   "metadata": {
    "pycharm": {
     "name": "#%%\n"
    }
   },
   "outputs": [],
   "source": [
    "# temp = pd.DataFrame(cos_sim_data)\n",
    "# cos_sim_df = spark.createDataFrame(temp)\n",
    "# cos_sim_df.take(5)"
   ]
  },
  {
   "cell_type": "code",
   "execution_count": 19,
   "id": "49dd976b",
   "metadata": {
    "pycharm": {
     "name": "#%%\n"
    }
   },
   "outputs": [],
   "source": [
    "# // I need to create a function that get the appId and find the N top similar apps!!!\n",
    "def generate_top_N_recommendationsX(appId, N=10):\n",
    "    # appId = 0\n",
    "    row = GetValueFromDataframe(games.filter(games.appid == appId),\"RowNumber\")\n",
    "    sim_scores = list(enumerate(cos_sim_data[row]))\n",
    "    sim_scores = sorted(sim_scores, key=lambda x: x[1], reverse=True)\n",
    "    sim_scores = sim_scores[1:N]\n",
    "    game_indices = [i[0] for i in sim_scores]\n",
    "    names = games.where(col(\"RowNumber\").isin(game_indices)).select(\"name\")\n",
    "    return names\n",
    "\n",
    "\n",
    "def GetValueFromDataframe(_df,columnName):\n",
    "    for row in _df.rdd.collect():\n",
    "        return row[columnName]"
   ]
  },
  {
   "cell_type": "code",
   "execution_count": 20,
   "id": "f169a19f",
   "metadata": {
    "pycharm": {
     "name": "#%%\n"
    }
   },
   "outputs": [
    {
     "name": "stdout",
     "output_type": "stream",
     "text": [
      "+--------------------+\n",
      "|                name|\n",
      "+--------------------+\n",
      "|Counter-Strike: S...|\n",
      "|Mount & Blade: Wa...|\n",
      "|              Arma 3|\n",
      "|        APB Reloaded|\n",
      "|Realm of the Mad God|\n",
      "|Total War™: ROME ...|\n",
      "|Kerbal Space Program|\n",
      "|       Path of Exile|\n",
      "|ARK: Survival Evo...|\n",
      "+--------------------+\n",
      "\n"
     ]
    }
   ],
   "source": [
    "equalnames = generate_top_N_recommendationsX(str(10))\n",
    "equalnames.show()"
   ]
  },
  {
   "cell_type": "markdown",
   "id": "17b2c8f8",
   "metadata": {
    "pycharm": {
     "name": "#%% md\n"
    }
   },
   "source": [
    "## Model2 :  : Random Forest"
   ]
  },
  {
   "cell_type": "markdown",
   "id": "645a8d57",
   "metadata": {},
   "source": []
  },
  {
   "cell_type": "code",
   "execution_count": 22,
   "id": "32a70373",
   "metadata": {
    "pycharm": {
     "name": "#%%\n"
    }
   },
   "outputs": [
    {
     "name": "stdout",
     "output_type": "stream",
     "text": [
      "Owned Games: 216\n",
      "User's top games (for training):\n",
      "+--------------------+--------------------+----------------------+\n",
      "|                name|              genres|time_played_in_minutes|\n",
      "+--------------------+--------------------+----------------------+\n",
      "|                DOOM|            [Action]|                  6566|\n",
      "|          Anno 2070™|          [Strategy]|                  3850|\n",
      "|           Tropico 5|[RPG, Simulation,...|                  3836|\n",
      "|LEGO® Batman™ 3: ...| [Action, Adventure]|                  3699|\n",
      "|Call of Duty®: Bl...|            [Action]|                  2774|\n",
      "|     Game Dev Tycoon|[Casual, Indie, S...|                  2627|\n",
      "|  Duke Nukem Forever|            [Action]|                  2432|\n",
      "|    Castle Crashers®|[Action, Adventur...|                  2198|\n",
      "|Jurassic World Ev...|[Simulation, Stra...|                  2025|\n",
      "|Call of Duty®: In...| [Action, Adventure]|                  1922|\n",
      "|Counter-Strike: G...|[Action, Free to ...|                  1884|\n",
      "|      Rocket League®|[Action, Indie, R...|                  1713|\n",
      "|Wolfenstein: The ...|            [Action]|                  1703|\n",
      "|      Counter-Strike|            [Action]|                  1538|\n",
      "|           Tropico 4|[Simulation, Stra...|                  1363|\n",
      "|           Homefront|            [Action]|                  1143|\n",
      "|LARA CROFT AND TH...| [Action, Adventure]|                  1143|\n",
      "|Battlefield: Bad ...|            [Action]|                  1020|\n",
      "|Batman™: Arkham O...| [Action, Adventure]|                  1009|\n",
      "|      Sniper Elite 4| [Action, Adventure]|                  1003|\n",
      "+--------------------+--------------------+----------------------+\n",
      "only showing top 20 rows\n",
      "\n",
      "The user's top predicted games (with predicted minutes played if they owned it):\n",
      "+------+--------------------+--------------------+--------------------+------------------+\n",
      "| appid|            features|              genres|                name|        prediction|\n",
      "+------+--------------------+--------------------+--------------------+------------------+\n",
      "|242760|(62,[0,1,2,3,5,10...|[Action, Adventur...|          The Forest| 3950.584626696832|\n",
      "|244850|(62,[0,1,2,3,5,10...|[Action, Indie, S...|     Space Engineers|3218.4487933634996|\n",
      "|413150|(62,[0,1,2,3,4,5,...|[Indie, RPG, Simu...|      Stardew Valley| 3039.575579077785|\n",
      "|381210|(62,[0,1,2,3,4,10...|            [Action]|    Dead by Daylight| 2765.735604164829|\n",
      "|582010|(62,[0,1,2,3,4,5,...|            [Action]|MONSTER HUNTER: W...| 2677.244599863201|\n",
      "|374320|(62,[0,1,2,3,4,10...|            [Action]|     DARK SOULS™ III|2470.7736247597954|\n",
      "|359550|(62,[0,1,2,3,4,5,...|            [Action]|Tom Clancy's Rain...| 2454.223766529868|\n",
      "|873860|(62,[0,1,2,3,5,10...|[Action, Indie, S...|Pop Island - Let'...|2348.4563003663006|\n",
      "|698780|(62,[0,2,3,20,34,...|[Casual, Free to ...|Doki Doki Literat...|2237.3033912846413|\n",
      "|275850|(62,[0,1,2,3,10,1...| [Action, Adventure]|        No Man's Sky| 2223.874589672075|\n",
      "|291550|(62,[0,2,3,4,10,1...|[Action, Free to ...|          Brawlhalla|2202.9201190476188|\n",
      "|301520|(62,[0,2,3,4,13,1...|[Action, Free to ...|           Robocraft| 2192.012261904762|\n",
      "|444090|(62,[0,2,3,4,5,17...|[Action, Free to ...|           Paladins®|2146.7243904157854|\n",
      "|383120|(62,[0,1,2,3,5,10...|[Adventure, Indie...|Empyrion - Galact...|2142.5571266968327|\n",
      "|232090|(62,[0,1,2,3,4,10...|            [Action]|     Killing Floor 2| 2083.037235870906|\n",
      "|489830|(62,[0,1,2,3,5,20...|               [RPG]|The Elder Scrolls...|2037.0922081372796|\n",
      "|227940|(62,[0,2,3,13,17,...|[Action, Free to ...|   Heroes & Generals|1990.0522377622378|\n",
      "|573090|(62,[0,1,2,3,5,10...|[Simulation, Earl...|Stormworks: Build...|1985.1376406926406|\n",
      "|365590|(62,[0,1,2,3,4,10...|[Action, Adventur...|Tom Clancy’s The ...| 1955.608322689288|\n",
      "|322330|(62,[0,1,2,3,4,10...|[Adventure, Indie...|Don't Starve Toge...|1954.5262933634992|\n",
      "|264710|(62,[0,1,2,3,4,8,...|  [Adventure, Indie]|          Subnautica|1926.2807046722198|\n",
      "|246620|(62,[0,1,2,3,4,5,...|[Casual, Indie, S...| Plague Inc: Evolved|1904.0014013074324|\n",
      "|552080|(62,[0,1,2,3,10,1...|[Action, Indie, S...|         IronWolf VR|1863.4632142418989|\n",
      "|211820|(62,[0,1,2,3,4,10...|[Action, Adventur...|           Starbound|1862.7318177655677|\n",
      "|394360|(62,[0,1,2,3,4,10...|[Simulation, Stra...|   Hearts of Iron IV| 1860.367698035657|\n",
      "|439960|(62,[0,1,2,3,10,2...|[Indie, Simulatio...|Falling Stars: Wa...|1838.6656481923874|\n",
      "|290080|(62,[0,1,2,3,4,9,...|[Action, Indie, R...|Life is Feudal: Y...| 1831.365243023563|\n",
      "|252490|(62,[0,1,2,3,4,9,...|[Action, Adventur...|                Rust|1827.6166828562527|\n",
      "|286160|(62,[0,1,2,3,4,10...|[Casual, Indie, R...|  Tabletop Simulator|1827.2272402159244|\n",
      "|708760|(62,[0,1,2,3,10,1...|[Casual, Indie, S...|Social Club VR : ...|1821.0899792960663|\n",
      "|611720|(62,[0,1,2,3,10,2...|[Action, Indie, S...|        Practisim VR|1798.3793073593074|\n",
      "|313160|(62,[0,1,2,3,4,5,...|        [Simulation]|Farming Simulator 15| 1795.005762492538|\n",
      "|493900|(62,[0,1,2,3,4,10...|[Simulation, Stra...|          Dungeons 3|1770.0285866343402|\n",
      "|431960|(62,[0,1,2,3,4,19...|[Animation & Mode...|    Wallpaper Engine|1769.1893617679634|\n",
      "|489380|(62,[0,1,2,3,10,1...|[Action, Casual, ...|               QuiVr|1768.9632142418984|\n",
      "|676500|(62,[0,1,2,3,10,2...|[Action, Adventur...|        Time Warpers|1756.8443830730673|\n",
      "|304930|(62,[0,2,3,4,8,9,...|[Action, Adventur...|            Unturned| 1751.536192002442|\n",
      "|427520|(62,[0,1,2,3,19,2...|[Casual, Indie, S...|            Factorio|1741.4085980022821|\n",
      "|225840|(62,[0,2,3,5,10,1...|[Action, Casual, ...|          Sven Co-op|1739.4347393291216|\n",
      "|346470|(62,[0,1,2,3,5,9,...|[Simulation, Sports]|   Tennis Elbow 2013|1729.9514078674947|\n",
      "|547480|(62,[0,1,2,3,5,10...|[Adventure, Casua...|Carly and the Rea...|1722.0075779913077|\n",
      "|656240|(62,[0,1,2,3,10,2...|[Action, Adventur...|                Heat|1690.0959740259739|\n",
      "|387990|(62,[0,1,2,3,10,2...|[Action, Adventur...|      Scrap Mechanic|1688.4541623308014|\n",
      "|304390|(62,[0,1,2,3,4,5,...|            [Action]|          FOR HONOR™|1687.9244199532418|\n",
      "|346110|(62,[0,1,2,3,8,10...|[Action, Adventur...|ARK: Survival Evo...|1665.2000161895862|\n",
      "|815280|(62,[0,1,2,3,10,2...|[Action, Indie, S...|      Crooked Waters|1650.4906481923874|\n",
      "|433850|(62,[0,2,3,17,22,...|[Action, Adventur...|    Z1 Battle Royale|1648.4454160568116|\n",
      "|314350|(62,[0,1,2,3,9,10...|[Action, Indie, S...|             Abatron| 1648.355097358782|\n",
      "|466560|(62,[0,1,2,3,4,10...|[Indie, Simulatio...|           Northgard|1634.3166213076354|\n",
      "|462440|(62,[0,1,2,3,4,10...|[Action, Adventur...|                ROKH|1632.2914285714285|\n",
      "+------+--------------------+--------------------+--------------------+------------------+\n",
      "only showing top 50 rows\n",
      "\n",
      "RMSE: 916.0071463654965\n",
      "+--------------------+-----+------------------+\n",
      "|                name|label|        prediction|\n",
      "+--------------------+-----+------------------+\n",
      "|       Day of Defeat|    0|143.15276471355736|\n",
      "|Half-Life: Blue S...|    0| 23.25949938754603|\n",
      "|Half-Life 2: Deat...|    0|141.25428500698942|\n",
      "|Half-Life Deathma...|    0|132.47868364120592|\n",
      "|       Left 4 Dead 2| 2002| 370.2544445416685|\n",
      "|              Dota 2| 2324|1442.5616526696608|\n",
      "|         Garry's Mod|    0| 752.0004167401225|\n",
      "|Trackmania United...| 1099| 464.3827544239386|\n",
      "|Runaway, A Road A...|   19|22.658436417165554|\n",
      "|                RAGE|  103| 280.3227542813688|\n",
      "|Grand Theft Auto:...|  105|110.82433432169884|\n",
      "|           Max Payne|    0| 23.25949938754603|\n",
      "|            Far Cry®|    0|24.472346609768252|\n",
      "|Tom Clancy's Rain...|    0| 38.47164299923882|\n",
      "|Tom Clancy's Spli...|    0|10.360071092972387|\n",
      "|Tom Clancy's Spli...|   18|28.266339078229983|\n",
      "|Tom Clancy's Rain...|    0| 59.47829566030324|\n",
      "|Tom Clancy's Rain...|    6|63.649768404311054|\n",
      "|Brothers in Arms:...|   17| 9.443400497625321|\n",
      "|     Crysis Warhead®|    0| 11.38541831519461|\n",
      "+--------------------+-----+------------------+\n",
      "only showing top 20 rows\n",
      "\n"
     ]
    }
   ],
   "source": [
    "# The users dataframe is not currently used.\n",
    "#users_df = spark.read.csv(users_csv, header=True, inferSchema=True)\n",
    "# Init the users/games relation dataframe.\n",
    "users_games_df = spark.read.csv(filename2, header=True, inferSchema=True).drop(\"_c0\")\n",
    "\n",
    "# DO CALCULATION HERE\n",
    "# Pick the user ID to test.\n",
    "user_id = 76561197960360459 # 76561197982716241\n",
    "\n",
    "# Feature assembler: make a vector of all features.\n",
    "inputColsList = [\"ratings\", \"price\", \"release_date\", \"totalRatings\"]\n",
    "inputColsList.extend(unic_cat_set)\n",
    "inputColsList.extend(unic_genres_set)\n",
    "vector_assembler = VectorAssembler().setInputCols(inputColsList).setOutputCol(\"features\")\n",
    "vectorized_games = vector_assembler.transform(games)\n",
    "#vectorized_games.select(\"name\", \"ratings\", \"Action\", \"Nudity\", \"Simulation\", \"features\").show()\n",
    "\n",
    "# Join the vectorized games with the user/games relation table.\n",
    "users_games_joined_df = users_games_df.join(vectorized_games, \"appid\", \"inner\")\n",
    "\n",
    "# Get the data for the games the player has played.\n",
    "owned_games_df = users_games_joined_df.filter(users_games_joined_df.steam_id == user_id)\n",
    "user_games_count = owned_games_df.count()\n",
    "print(\"Owned Games:\", user_games_count)\n",
    "if user_games_count > 0:\n",
    "    training_df, testing_df = owned_games_df.randomSplit([0.8, 0.2], seed = 2022)\n",
    "\n",
    "    # Print the games this user has played the most (for comparison to final predictions).\n",
    "    print(\"User's top games (for training):\")\n",
    "    training_df.sort(training_df.time_played_in_minutes.desc()).select(\"name\", \"genres\", \"time_played_in_minutes\").show()\n",
    "    #owned_games_df.sort(owned_games_df.time_played_in_minutes.desc()).select(\"name\", \"genres\", \"time_played_in_minutes\").show()\n",
    "\n",
    "    # Extract the list of unowned games by removing the already owned ones.\n",
    "    unowned_games_df = vectorized_games.join(owned_games_df, \"appid\", \"leftanti\")\n",
    "\n",
    "    # Build Random Forest Regression based on time the user played each game in their library.\n",
    "    randForest = RandomForestRegressor()\n",
    "    model = randForest.fit(training_df.withColumnRenamed(\"time_played_in_minutes\", \"label\"))\n",
    "\n",
    "    # Run the model on unowned game data.\n",
    "    predictions = model.transform(unowned_games_df).sort(col(\"prediction\").desc())\n",
    "    print(\"The user's top predicted games (with predicted minutes played if they owned it):\")\n",
    "    predictions.select('appid', 'features', 'genres', 'name', 'prediction').show(50)\n",
    "\n",
    "    # Model evaluation (probably not really possible)\n",
    "    # We'd need both labels and predictions to determine how far off we were.\n",
    "    # But the labels don't exist for unknown games. :'(\n",
    "    evaluator = RegressionEvaluator(labelCol=\"label\", predictionCol=\"prediction\")\n",
    "    testing_df = model.transform(testing_df.withColumnRenamed(\"time_played_in_minutes\", \"label\"))\n",
    "    rmse = evaluator.evaluate(testing_df, {evaluator.metricName: \"rmse\"})\n",
    "    print(\"RMSE:\", rmse)\n",
    "    testing_df.select('name', 'label', 'prediction').show()"
   ]
  }
 ],
 "metadata": {
  "kernelspec": {
   "display_name": "Python 3 (ipykernel)",
   "language": "python",
   "name": "python3"
  },
  "language_info": {
   "codemirror_mode": {
    "name": "ipython",
    "version": 3
   },
   "file_extension": ".py",
   "mimetype": "text/x-python",
   "name": "python",
   "nbconvert_exporter": "python",
   "pygments_lexer": "ipython3",
   "version": "3.10.4"
  }
 },
 "nbformat": 4,
 "nbformat_minor": 5
}
