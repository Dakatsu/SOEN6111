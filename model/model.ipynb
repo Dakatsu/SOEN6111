{
 "cells": [
  {
   "cell_type": "code",
   "execution_count": 45,
   "id": "fad0ad65",
   "metadata": {},
   "outputs": [],
   "source": [
    "import csv\n",
    "import os\n",
    "import sys\n",
    "# Spark imports\n",
    "from pyspark.rdd import RDD\n",
    "from pyspark.sql import DataFrame\n",
    "from pyspark.sql.types import IntegerType\n",
    "from pyspark.sql import SparkSession\n",
    "import operator\n",
    "# Dask imports\n",
    "import dask.bag as db\n",
    "import dask.dataframe as df  # you can use Dask bags or dataframes\n",
    "from csv import reader\n",
    "import numpy as np\n",
    "import pandas as pd\n",
    "import datetime\n",
    "from pyspark.sql.functions import *\n",
    "import sklearn\n",
    "from sklearn import preprocessing\n",
    "from sklearn.datasets import make_blobs\n",
    "from sklearn.preprocessing import StandardScaler\n",
    "from sklearn.feature_extraction.text import TfidfVectorizer\n",
    "from sklearn.metrics.pairwise import cosine_similarity\n",
    "import re\n",
    "# from scipy.sparse import csr_matrix\n",
    "# import scipy as sp\n",
    "import heapq\n",
    "# from surprise import CoClustering\n",
    "# from surprise import Dataset, Reader, SVD, accuracy\n",
    "# from surprise import KNNBaseline\n",
    "\n",
    "\n",
    "# Packages for model evaluation\n",
    "from sklearn.metrics import mean_squared_error\n",
    "from sklearn.metrics import mean_absolute_error\n",
    "from time import time\n",
    "\n",
    "# from surprise.model_selection import train_test_split\n",
    "# from sklearn.model_selection import train_test_split\n",
    "\n",
    "# Package to suppress warnings\n",
    "import warnings\n",
    "warnings.filterwarnings(\"ignore\")\n",
    "from pyspark.sql.functions import monotonically_increasing_id\n",
    "# Packages for saving models\n",
    "import pickle\n",
    "\n",
    "from re import split\n",
    "from pyspark.sql import SparkSession\n",
    "from pyspark.sql.types import StructType, DoubleType, IntegerType, StringType, DateType\n",
    "from pyspark.sql.functions import *\n",
    "from pyspark.ml.feature import VectorAssembler\n",
    "from pyspark.ml.evaluation import RegressionEvaluator\n",
    "from pyspark.ml.regression import RandomForestRegressor"
   ]
  },
  {
   "cell_type": "code",
   "execution_count": 2,
   "id": "c5ad03bd",
   "metadata": {},
   "outputs": [],
   "source": [
    "def init_spark():\n",
    "    spark = SparkSession \\\n",
    "        .builder \\\n",
    "        .appName(\"Python Spark SQL basic example\") \\\n",
    "        .config(\"spark.some.config.option\", \"some-value\") \\\n",
    "        .getOrCreate()\n",
    "    return spark"
   ]
  },
  {
   "cell_type": "code",
   "execution_count": 3,
   "id": "31128bad",
   "metadata": {},
   "outputs": [],
   "source": [
    "spark=init_spark()"
   ]
  },
  {
   "cell_type": "code",
   "execution_count": 4,
   "id": "5fa7a6e2",
   "metadata": {},
   "outputs": [],
   "source": [
    "filename=\"../data/datasets/games.csv\"\n",
    "filename2=\"../data/datasets/steam_id_games.csv\""
   ]
  },
  {
   "cell_type": "code",
   "execution_count": 5,
   "id": "35b9346c",
   "metadata": {},
   "outputs": [],
   "source": [
    "from pyspark.sql.types import *\n",
    "games_schema = StructType() \\\n",
    "    .add(\"appid\", IntegerType(), True) \\\n",
    "    .add(\"name\", StringType(), True) \\\n",
    "    .add(\"price\", DoubleType(), True) \\\n",
    "    .add(\"release_date\", StringType(), True) \\\n",
    "    .add(\"required_age\", IntegerType(), True) \\\n",
    "    .add(\"publishers\", StringType(), True) \\\n",
    "    .add(\"developers\", StringType(), True) \\\n",
    "    .add(\"categories\", StringType(), True) \\\n",
    "    .add(\"genres\", StringType(), True) \\\n",
    "    .add(\"ratings\", DoubleType(), True) \\\n",
    "    .add(\"totalRatings\", IntegerType(), True) \\\n",
    "    .add(\"average_playtime\", DoubleType(), True) \\\n",
    "    .add(\"median_playtime\", IntegerType(), True) \\\n",
    "    .add(\"num_owners\", StringType(), True)\n",
    "games = spark.read.schema(games_schema).csv(filename, header=True).dropna()\n"
   ]
  },
  {
   "cell_type": "code",
   "execution_count": 6,
   "id": "ae101f92",
   "metadata": {},
   "outputs": [
    {
     "data": {
      "text/plain": "[Row(appid=10, name='Counter-Strike', price=7.19, release_date='2000-11-01', required_age=0, publishers='Valve', developers='Valve', categories='Multi-player;Online Multi-Player;Local Multi-Player;Valve Anti-Cheat enabled', genres='Action', ratings=97.39, totalRatings=127873, average_playtime=17612.0, median_playtime=317, num_owners='10000000-20000000'),\n Row(appid=20, name='Team Fortress Classic', price=3.99, release_date='1999-04-01', required_age=0, publishers='Valve', developers='Valve', categories='Multi-player;Online Multi-Player;Local Multi-Player;Valve Anti-Cheat enabled', genres='Action', ratings=83.98, totalRatings=3951, average_playtime=277.0, median_playtime=62, num_owners='5000000-10000000'),\n Row(appid=30, name='Day of Defeat', price=3.99, release_date='2003-05-01', required_age=0, publishers='Valve', developers='Valve', categories='Multi-player;Valve Anti-Cheat enabled', genres='Action', ratings=89.56, totalRatings=3814, average_playtime=187.0, median_playtime=34, num_owners='5000000-10000000'),\n Row(appid=40, name='Deathmatch Classic', price=3.99, release_date='2001-06-01', required_age=0, publishers='Valve', developers='Valve', categories='Multi-player;Online Multi-Player;Local Multi-Player;Valve Anti-Cheat enabled', genres='Action', ratings=82.66, totalRatings=1540, average_playtime=258.0, median_playtime=184, num_owners='5000000-10000000'),\n Row(appid=50, name='Half-Life: Opposing Force', price=3.99, release_date='1999-11-01', required_age=0, publishers='Valve', developers='Gearbox Software', categories='Single-player;Multi-player;Valve Anti-Cheat enabled', genres='Action', ratings=94.8, totalRatings=5538, average_playtime=624.0, median_playtime=415, num_owners='5000000-10000000')]"
     },
     "execution_count": 6,
     "metadata": {},
     "output_type": "execute_result"
    }
   ],
   "source": [
    "games.take(5)"
   ]
  },
  {
   "cell_type": "markdown",
   "source": [
    "Data Preprocessing"
   ],
   "metadata": {
    "collapsed": false,
    "pycharm": {
     "name": "#%% md\n"
    }
   }
  },
  {
   "cell_type": "code",
   "execution_count": 7,
   "outputs": [],
   "source": [
    "# get the yaer of release_date\n",
    "games = games.withColumn('release_date', col('release_date')[0:4])\n",
    "games = games.withColumn(\"release_date\", games[\"release_date\"].cast(IntegerType()))"
   ],
   "metadata": {
    "collapsed": false,
    "pycharm": {
     "name": "#%%\n"
    }
   }
  },
  {
   "cell_type": "code",
   "execution_count": 8,
   "outputs": [],
   "source": [
    "#create columns for genres\n",
    "games = games.withColumn('genres', split(col('genres'), ';'))\n",
    "uniq_genres = games.select('genres').distinct().collect()\n",
    "unic_genres_set = set()\n",
    "for u in uniq_genres:\n",
    "    for i in u.genres:\n",
    "        unic_genres_set.add(i)\n",
    "unic_genres_set\n",
    "\n",
    "for i in unic_genres_set:\n",
    "    games = games.withColumn(i,when(array_contains(games.genres,i), 1).otherwise(0))"
   ],
   "metadata": {
    "collapsed": false,
    "pycharm": {
     "name": "#%%\n"
    }
   }
  },
  {
   "cell_type": "code",
   "execution_count": 9,
   "outputs": [],
   "source": [
    "# create columns for the categories\n",
    "games = games.withColumn('categories', split(col('categories'), ';'))\n",
    "uniq_cat = games.select('categories').distinct().collect()\n",
    "unic_cat_set = set()\n",
    "for u in uniq_cat:\n",
    "    for i in u.categories:\n",
    "        # if not i in games2.columns:\n",
    "        #     games2 = games2.withColumn(i, 0)\n",
    "        unic_cat_set.add(i)\n",
    "unic_cat_set\n",
    "\n",
    "for i in unic_cat_set:\n",
    "    games = games.withColumn(i,when(array_contains(games.categories,i), 1).otherwise(0))"
   ],
   "metadata": {
    "collapsed": false,
    "pycharm": {
     "name": "#%%\n"
    }
   }
  },
  {
   "cell_type": "code",
   "execution_count": 10,
   "outputs": [
    {
     "data": {
      "text/plain": "[Row(appid=10, name='Counter-Strike', price=7.19, release_date=2000, required_age=0, publishers='Valve', developers='Valve', categories=['Multi-player', 'Online Multi-Player', 'Local Multi-Player', 'Valve Anti-Cheat enabled'], genres=['Action'], ratings=97.39, totalRatings=127873, average_playtime=17612.0, median_playtime=317, num_owners='10000000-20000000', Sexual Content=0, Indie=0, Casual=0, Action=1, Simulation=0, Software Training=0, Sports=0, Game Development=0, Web Publishing=0, Nudity=0, Education=0, Free to Play=0, Adventure=0, Massively Multiplayer=0, Design & Illustration=0, Violent=0, Photo Editing=0, Early Access=0, Strategy=0, Documentary=0, Animation & Modeling=0, Racing=0, Utilities=0, Accounting=0, Tutorial=0, Gore=0, Video Production=0, RPG=0, Audio Production=0, In-App Purchases=0, Steam Turn Notifications=0, Steam Cloud=0, VR Support=0, Valve Anti-Cheat enabled=1, Single-player=0, Multi-player=1, MMO=0, Commentary available=0, Captions available=0, Online Multi-Player=1, SteamVR Collectibles=0, Local Co-op=0, Mods=0, Stats=0, Includes level editor=0, Steam Workshop=0, Shared/Split Screen=0, Mods (require HL2)=0, Full controller support=0, Online Co-op=0, Cross-Platform Multiplayer=0, Steam Trading Cards=0, Co-op=0, Partial Controller Support=0, Local Multi-Player=1, Steam Achievements=0, Steam Leaderboards=0, Includes Source SDK=0, RowNumber=0)]"
     },
     "execution_count": 10,
     "metadata": {},
     "output_type": "execute_result"
    }
   ],
   "source": [
    "# add the column to store the index of the row\n",
    "games = games.select(\"*\").withColumn(\"RowNumber\", monotonically_increasing_id())\n",
    "games.take(1)"
   ],
   "metadata": {
    "collapsed": false,
    "pycharm": {
     "name": "#%%\n"
    }
   }
  },
  {
   "cell_type": "code",
   "execution_count": 11,
   "outputs": [],
   "source": [
    "# create a dataset with features that we need for the model\n",
    "myGames=games.drop('appid',\"developers\",\"genres\",\"name\",\"publishers\",\"categories\",\"num_owners\",)"
   ],
   "metadata": {
    "collapsed": false,
    "pycharm": {
     "name": "#%%\n"
    }
   }
  },
  {
   "cell_type": "code",
   "execution_count": 12,
   "id": "2a55182c",
   "metadata": {},
   "outputs": [
    {
     "data": {
      "text/plain": "[Row(price=7.19, release_date=2000, required_age=0, ratings=97.39, totalRatings=127873, average_playtime=17612.0, median_playtime=317, Sexual Content=0, Indie=0, Casual=0, Action=1, Simulation=0, Software Training=0, Sports=0, Game Development=0, Web Publishing=0, Nudity=0, Education=0, Free to Play=0, Adventure=0, Massively Multiplayer=0, Design & Illustration=0, Violent=0, Photo Editing=0, Early Access=0, Strategy=0, Documentary=0, Animation & Modeling=0, Racing=0, Utilities=0, Accounting=0, Tutorial=0, Gore=0, Video Production=0, RPG=0, Audio Production=0, In-App Purchases=0, Steam Turn Notifications=0, Steam Cloud=0, VR Support=0, Valve Anti-Cheat enabled=1, Single-player=0, Multi-player=1, MMO=0, Commentary available=0, Captions available=0, Online Multi-Player=1, SteamVR Collectibles=0, Local Co-op=0, Mods=0, Stats=0, Includes level editor=0, Steam Workshop=0, Shared/Split Screen=0, Mods (require HL2)=0, Full controller support=0, Online Co-op=0, Cross-Platform Multiplayer=0, Steam Trading Cards=0, Co-op=0, Partial Controller Support=0, Local Multi-Player=1, Steam Achievements=0, Steam Leaderboards=0, Includes Source SDK=0, RowNumber=0)]"
     },
     "execution_count": 12,
     "metadata": {},
     "output_type": "execute_result"
    }
   ],
   "source": [
    "myGames.head(1)"
   ]
  },
  {
   "cell_type": "markdown",
   "source": [
    "Model1 : Cosine Similarity"
   ],
   "metadata": {
    "collapsed": false,
    "pycharm": {
     "name": "#%% md\n"
    }
   }
  },
  {
   "cell_type": "code",
   "execution_count": 14,
   "id": "562d62cb",
   "metadata": {},
   "outputs": [
    {
     "data": {
      "text/plain": "array([[1.00000000e+00, 8.97414146e-01, 8.89050930e-01, ...,\n        3.76547723e-09, 3.99609567e-09, 6.07002769e-09],\n       [8.97414146e-01, 1.00000000e+00, 9.99682562e-01, ...,\n        2.25443188e-04, 2.25443395e-04, 2.25445218e-04],\n       [8.89050930e-01, 9.99682562e-01, 1.00000000e+00, ...,\n        4.63813819e-04, 4.63814024e-04, 4.63815831e-04],\n       ...,\n       [3.76547723e-09, 2.25443188e-04, 4.63813819e-04, ...,\n        1.00000000e+00, 1.00000000e+00, 1.00000000e+00],\n       [3.99609567e-09, 2.25443395e-04, 4.63814024e-04, ...,\n        1.00000000e+00, 1.00000000e+00, 1.00000000e+00],\n       [6.07002769e-09, 2.25445218e-04, 4.63815831e-04, ...,\n        1.00000000e+00, 1.00000000e+00, 1.00000000e+00]])"
     },
     "execution_count": 14,
     "metadata": {},
     "output_type": "execute_result"
    }
   ],
   "source": [
    "from sklearn.metrics.pairwise import cosine_similarity\n",
    "myGames2 = myGames.take(27000)\n",
    "\n",
    "cos_sim_data = cosine_similarity(myGames2)\n",
    "cos_sim_data"
   ]
  },
  {
   "cell_type": "code",
   "execution_count": 15,
   "outputs": [
    {
     "data": {
      "text/plain": "list"
     },
     "execution_count": 15,
     "metadata": {},
     "output_type": "execute_result"
    }
   ],
   "source": [
    "type(myGames2)"
   ],
   "metadata": {
    "collapsed": false,
    "pycharm": {
     "name": "#%%\n"
    }
   }
  },
  {
   "cell_type": "code",
   "execution_count": 16,
   "outputs": [],
   "source": [
    "# temp = pd.DataFrame(cos_sim_data)\n",
    "# cos_sim_df = spark.createDataFrame(temp)\n",
    "# cos_sim_df.take(5)"
   ],
   "metadata": {
    "collapsed": false,
    "pycharm": {
     "name": "#%%\n"
    }
   }
  },
  {
   "cell_type": "code",
   "execution_count": 58,
   "outputs": [],
   "source": [
    "# // I need to create a function that get the appId and find the N top similar apps!!!\n",
    "def generate_top_N_recommendationsX(appId, N=10):\n",
    "    # appId = 0\n",
    "    row = GetValueFromDataframe(games.filter(games.appid == appId),\"RowNumber\")\n",
    "    sim_scores = list(enumerate(cos_sim_data[row]))\n",
    "    sim_scores = sorted(sim_scores, key=lambda x: x[1], reverse=True)\n",
    "    sim_scores = sim_scores[1:N]\n",
    "    game_indices = [i[0] for i in sim_scores]\n",
    "    names = games.where(col(\"RowNumber\").isin(game_indices)).select(\"name\")\n",
    "    return names\n",
    "\n",
    "\n",
    "def GetValueFromDataframe(_df,columnName):\n",
    "    for row in _df.rdd.collect():\n",
    "        return row[columnName]"
   ],
   "metadata": {
    "collapsed": false,
    "pycharm": {
     "name": "#%%\n"
    }
   }
  },
  {
   "cell_type": "code",
   "execution_count": 59,
   "outputs": [
    {
     "name": "stdout",
     "output_type": "stream",
     "text": [
      "+--------------------+\n",
      "|                name|\n",
      "+--------------------+\n",
      "|Counter-Strike: S...|\n",
      "|Mount & Blade: Wa...|\n",
      "|              Arma 3|\n",
      "|        APB Reloaded|\n",
      "|Realm of the Mad God|\n",
      "|Total War™: ROME ...|\n",
      "|Kerbal Space Program|\n",
      "|       Path of Exile|\n",
      "|ARK: Survival Evo...|\n",
      "+--------------------+\n",
      "\n"
     ]
    }
   ],
   "source": [
    "equalnames = generate_top_N_recommendationsX(str(10))\n",
    "equalnames.show()"
   ],
   "metadata": {
    "collapsed": false,
    "pycharm": {
     "name": "#%%\n"
    }
   }
  },
  {
   "cell_type": "markdown",
   "source": [
    "Model2 :  : Random Forest"
   ],
   "metadata": {
    "collapsed": false,
    "pycharm": {
     "name": "#%% md\n"
    }
   }
  },
  {
   "cell_type": "markdown",
   "source": [],
   "metadata": {
    "collapsed": false
   }
  },
  {
   "cell_type": "code",
   "execution_count": 47,
   "outputs": [
    {
     "name": "stdout",
     "output_type": "stream",
     "text": [
      "Owned Games: 216\n",
      "User's top games:\n",
      "+--------------------+--------------------+----------------------+\n",
      "|                name|              genres|time_played_in_minutes|\n",
      "+--------------------+--------------------+----------------------+\n",
      "|                DOOM|            [Action]|                  6566|\n",
      "|  Two Point Hospital| [Indie, Simulation]|                  5606|\n",
      "|          Anno 2070™|          [Strategy]|                  3850|\n",
      "|           Tropico 5|[RPG, Simulation,...|                  3836|\n",
      "|LEGO® Batman™ 3: ...| [Action, Adventure]|                  3699|\n",
      "|Call of Duty®: Bl...|            [Action]|                  2774|\n",
      "|     Game Dev Tycoon|[Casual, Indie, S...|                  2627|\n",
      "|  Duke Nukem Forever|            [Action]|                  2432|\n",
      "|              Dota 2|[Action, Free to ...|                  2324|\n",
      "|    Castle Crashers®|[Action, Adventur...|                  2198|\n",
      "|Jurassic World Ev...|[Simulation, Stra...|                  2025|\n",
      "|       Left 4 Dead 2|            [Action]|                  2002|\n",
      "|Call of Duty®: In...| [Action, Adventure]|                  1922|\n",
      "|Counter-Strike: G...|[Action, Free to ...|                  1884|\n",
      "|      Rocket League®|[Action, Indie, R...|                  1713|\n",
      "|Wolfenstein: The ...|            [Action]|                  1703|\n",
      "|LEGO® Indiana Jon...| [Action, Adventure]|                  1629|\n",
      "|      Counter-Strike|            [Action]|                  1538|\n",
      "|           Tropico 4|[Simulation, Stra...|                  1363|\n",
      "|           Homefront|            [Action]|                  1143|\n",
      "+--------------------+--------------------+----------------------+\n",
      "only showing top 20 rows\n",
      "\n",
      "The user's top predicted games (with predicted minutes played if they owned it):\n",
      "+-------+--------------------+--------------------+----------------------+------------------+\n",
      "|  appid|            features|              genres|                  name|        prediction|\n",
      "+-------+--------------------+--------------------+----------------------+------------------+\n",
      "| 242760|(62,[0,1,2,3,6,9,...|[Action, Adventur...|            The Forest| 3220.470436507937|\n",
      "| 244850|(62,[0,1,2,3,6,9,...|[Action, Indie, S...|       Space Engineers| 3010.692658730159|\n",
      "| 582010|(62,[0,1,2,3,6,9,...|            [Action]|  MONSTER HUNTER: W...| 2948.414473304473|\n",
      "| 666140|(62,[0,1,2,3,6,9,...|[Adventure, Casua...|     My Time At Portia|2615.9935615079366|\n",
      "| 228380|(62,[0,1,2,3,9,10...|[Action, Indie, R...|             Wreckfest| 2578.110615079365|\n",
      "| 299740|(62,[0,1,2,3,8,10...|[Action, Adventur...|            Miscreated|2479.1025793650797|\n",
      "| 233860|(62,[0,1,2,3,9,19...|[Action, Indie, R...|                Kenshi| 2440.975805860806|\n",
      "| 255710|(62,[0,1,2,3,6,9,...|[Simulation, Stra...|      Cities: Skylines| 2377.192097069597|\n",
      "| 107410|(62,[0,1,2,3,9,10...|[Action, Simulati...|                Arma 3|2372.7904304029303|\n",
      "| 466560|(62,[0,1,2,3,6,9,...|[Indie, Simulatio...|             Northgard|2356.5565374440375|\n",
      "| 305490|(62,[0,1,2,3,6,9,...|[Adventure, Casua...|  Heileen 3: New Ho...|2184.9009381930205|\n",
      "| 880380|(62,[0,1,2,3,9,10...|[Indie, Simulatio...|  Franchise Hockey ...|2183.2041200828157|\n",
      "| 440900|(62,[0,1,2,3,9,10...|[Action, Adventur...|          Conan Exiles|2146.6907967032967|\n",
      "| 413150|(62,[0,1,2,3,6,9,...|[Indie, RPG, Simu...|        Stardew Valley|2145.9110024601364|\n",
      "| 591370|(62,[0,1,2,3,6,9,...|[Indie, Simulatio...|  Production Line :...|2096.5460112647206|\n",
      "| 842250|(62,[0,1,2,3,9,10...|[Action, Adventur...|  GM Forge - Virtua...|2063.5778099521444|\n",
      "| 242130|(62,[0,1,2,3,9,10...|[Action, Indie, S...|         Vector Thrust|2044.2635825163393|\n",
      "| 251570|(62,[0,1,2,3,9,10...|[Nudity, Violent,...|         7 Days to Die|2043.4941075468646|\n",
      "| 862990|(62,[0,1,2,3,10,1...|[Gore, Action, Ad...|      Survive the West| 2026.405089285714|\n",
      "| 317300|(62,[0,1,2,3,6,9,...|[Adventure, Indie...|             Roommates|2017.8634381930206|\n",
      "| 552920|(62,[0,1,2,3,9,11...|[Indie, Massively...|  Sailaway - The Sa...|2011.5955281729334|\n",
      "| 895580|(62,[0,1,2,3,9,30...|[Indie, RPG, Simu...|        Yoga Lesson VR| 2006.211641091219|\n",
      "| 313160|(62,[0,1,2,3,6,9,...|        [Simulation]|  Farming Simulator 15|  2006.17482802313|\n",
      "| 294100|(62,[0,1,2,3,6,9,...|[Indie, Simulatio...|              RimWorld|2005.3875793650793|\n",
      "| 227300|(62,[0,1,2,3,6,9,...| [Indie, Simulation]|  Euro Truck Simula...|2004.9398086769856|\n",
      "| 955890|(62,[1,2,3,9,28,3...|[Action, Adventur...|          War Platform|1994.2436805555553|\n",
      "| 457140|(62,[0,1,2,3,9,34...|[Indie, Simulatio...|   Oxygen Not Included|1982.3321235246235|\n",
      "| 236150|(62,[0,1,2,3,6,9,...|[Action, RPG, Sim...|    Starpoint Gemini 2|1956.0086345101795|\n",
      "| 240760|(62,[0,1,2,3,6,9,...|[Adventure, Indie...|  Wasteland 2: Dire...| 1954.917646019382|\n",
      "| 211820|(62,[0,1,2,3,9,10...|[Action, Adventur...|             Starbound|1944.6444703194702|\n",
      "| 428690|(62,[0,1,2,3,6,9,...|[Indie, Simulatio...|        Youtubers Life|1936.4609276018098|\n",
      "| 358750|(62,[0,1,2,3,9,26...|[Sexual Content, ...|  Sunrider: Liberat...|1919.7254488078538|\n",
      "| 880470|(62,[0,1,2,3,6,9,...|[Indie, Simulatio...|  Pro Basketball Ma...|1910.5090202364256|\n",
      "| 544550|(62,[0,1,2,3,6,9,...|[Action, Indie, S...|           Stationeers|1909.5901779313874|\n",
      "| 804490|(62,[0,1,2,3,9,14...|[Action, Indie, S...|  Creed: Rise to Gl...|1903.9769537250381|\n",
      "| 737710|(62,[0,1,2,3,6,9,...|[Adventure, Casua...|Melody of Iris-虹色...|1900.3310440459493|\n",
      "| 489830|(62,[0,1,2,3,6,9,...|               [RPG]|  The Elder Scrolls...|1888.4719002239585|\n",
      "| 289130|(62,[0,1,2,3,6,9,...|     [RPG, Strategy]|       Endless Legend™| 1883.327458337902|\n",
      "| 673210|(62,[0,1,2,3,9,20...|[Adventure, Indie...|  Frontier Pilot Si...|1882.9312424586474|\n",
      "| 914180|(62,[0,1,2,3,9,30...|[Action, Indie, S...|      MMA Team Manager|1881.8988392857143|\n",
      "| 765460|(62,[0,1,2,3,9,10...|[Violent, Action,...|                 Atoms|  1866.18397066643|\n",
      "| 862390|(62,[0,1,2,3,9,18...|[Indie, Simulatio...|  FlyInside Flight ...|1864.9399726173779|\n",
      "| 598330|(62,[0,1,2,3,6,9,...|[Casual, Indie, S...|            SimAirport|1863.1232941778858|\n",
      "| 221100|(62,[0,1,2,3,6,8,...|[Action, Adventur...|                  DayZ|1861.2465903540901|\n",
      "| 210970|(62,[0,1,2,3,6,9,...|  [Adventure, Indie]|           The Witness|1859.3374130444718|\n",
      "| 244030|(62,[0,1,2,3,9,10...|        [Simulation]|          Take On Mars| 1848.864649122807|\n",
      "| 558870|(62,[0,1,2,3,9,30...|[Sexual Content, ...|          Club Naughty|1848.1305059523809|\n",
      "| 453090|(62,[0,1,2,3,6,9,...| [Indie, Simulation]|             Parkitect|1838.2393049155144|\n",
      "| 641990|(62,[0,1,2,3,6,9,...|[Indie, Simulatio...|       The Escapists 2|1830.6831318681318|\n",
      "|1013700|(62,[0,1,2,3,9,34...|[Indie, Simulatio...|  Draft Day Sports:...|1825.4198343685298|\n",
      "+-------+--------------------+--------------------+----------------------+------------------+\n",
      "only showing top 50 rows\n",
      "\n"
     ]
    }
   ],
   "source": [
    "# The users dataframe is not currently used.\n",
    "#users_df = spark.read.csv(users_csv, header=True, inferSchema=True)\n",
    "# Init the users/games relation dataframe.\n",
    "users_games_df = spark.read.csv(filename2, header=True, inferSchema=True).drop(\"_c0\")\n",
    "\n",
    "# DO CALCULATION HERE\n",
    "# Pick the user ID to test.\n",
    "user_id = 76561197960360459 # 76561197982716241\n",
    "\n",
    "# Feature assembler: make a vector of all features.\n",
    "inputColsList = [\"ratings\", \"price\", \"release_date\", \"totalRatings\"]\n",
    "inputColsList.extend(unic_cat_set)\n",
    "inputColsList.extend(unic_genres_set)\n",
    "vector_assembler = VectorAssembler().setInputCols(inputColsList).setOutputCol(\"features\")\n",
    "vectorized_games = vector_assembler.transform(games)\n",
    "#vectorized_games.select(\"name\", \"ratings\", \"Action\", \"Nudity\", \"Simulation\", \"features\").show()\n",
    "\n",
    "# Join the vectorized games with the user/games relation table.\n",
    "users_games_joined_df = users_games_df.join(vectorized_games, \"appid\", \"inner\")\n",
    "\n",
    "# Get the data for the games the player has played.\n",
    "owned_games_df = users_games_joined_df.filter(users_games_joined_df.steam_id == user_id)\n",
    "user_games_count = owned_games_df.count()\n",
    "print(\"Owned Games:\", user_games_count)\n",
    "if user_games_count > 0:\n",
    "    # Print the games this user has played the most (for comparison to final predictions).\n",
    "    print(\"User's top games:\")\n",
    "    owned_games_df.sort(owned_games_df.time_played_in_minutes.desc()).select(\"name\", \"genres\", \"time_played_in_minutes\").show()\n",
    "\n",
    "    # Extract the list of unowned games by removing the already owned ones.\n",
    "    unowned_games_df = vectorized_games.join(owned_games_df, \"appid\", \"leftanti\")\n",
    "\n",
    "    # Build Random Forest Regression based on time the user played each game in their library.\n",
    "    randForest = RandomForestRegressor()\n",
    "    model = randForest.fit(owned_games_df.withColumnRenamed(\"time_played_in_minutes\", \"label\"))\n",
    "\n",
    "    # Run the model on unowned game data.\n",
    "    predictions = model.transform(unowned_games_df).sort(col(\"prediction\").desc())\n",
    "    print(\"The user's top predicted games (with predicted minutes played if they owned it):\")\n",
    "    predictions.select('appid', 'features', 'genres', 'name', 'prediction').show(50)\n",
    "\n",
    "    # Model evaluation (probably not really possible)\n",
    "    # We'd need both labels and predictions to determine how far off we were.\n",
    "    # But the labels don't exist for unknown games. :'(\n",
    "    #evaluator = RegressionEvaluator()\n",
    "    #print(evaluator.evaluate(predictions, {evaluator.metricName: \"rmse\"}))"
   ],
   "metadata": {
    "collapsed": false,
    "pycharm": {
     "name": "#%%\n"
    }
   }
  },
  {
   "cell_type": "code",
   "execution_count": null,
   "outputs": [],
   "source": [],
   "metadata": {
    "collapsed": false,
    "pycharm": {
     "name": "#%%\n"
    }
   }
  }
 ],
 "metadata": {
  "kernelspec": {
   "display_name": "Python 3 (ipykernel)",
   "language": "python",
   "name": "python3"
  },
  "language_info": {
   "codemirror_mode": {
    "name": "ipython",
    "version": 3
   },
   "file_extension": ".py",
   "mimetype": "text/x-python",
   "name": "python",
   "nbconvert_exporter": "python",
   "pygments_lexer": "ipython3",
   "version": "3.8.12"
  }
 },
 "nbformat": 4,
 "nbformat_minor": 5
}