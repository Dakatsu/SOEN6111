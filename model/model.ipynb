{
 "cells": [
  {
   "cell_type": "markdown",
   "id": "d97a558a",
   "metadata": {},
   "source": [
    "# Imports"
   ]
  },
  {
   "cell_type": "code",
   "execution_count": 1,
   "id": "fad0ad65",
   "metadata": {},
   "outputs": [],
   "source": [
    "import csv\n",
    "import os\n",
    "import sys\n",
    "# Spark imports\n",
    "from pyspark.rdd import RDD\n",
    "from pyspark.sql import DataFrame\n",
    "from pyspark.sql.types import IntegerType\n",
    "from pyspark.sql import SparkSession\n",
    "import operator\n",
    "# Dask imports\n",
    "import dask.bag as db\n",
    "import dask.dataframe as df  # you can use Dask bags or dataframes\n",
    "from csv import reader\n",
    "import numpy as np\n",
    "import pandas as pd\n",
    "import datetime\n",
    "from pyspark.sql.functions import *\n",
    "import sklearn\n",
    "from sklearn import preprocessing\n",
    "from sklearn.datasets import make_blobs\n",
    "from sklearn.preprocessing import StandardScaler\n",
    "from sklearn.feature_extraction.text import TfidfVectorizer\n",
    "from sklearn.metrics.pairwise import cosine_similarity\n",
    "import re\n",
    "# from scipy.sparse import csr_matrix\n",
    "# import scipy as sp\n",
    "import heapq\n",
    "# from surprise import CoClustering\n",
    "# from surprise import Dataset, Reader, SVD, accuracy\n",
    "# from surprise import KNNBaseline\n",
    "\n",
    "\n",
    "# Packages for model evaluation\n",
    "from sklearn.metrics import mean_squared_error\n",
    "from sklearn.metrics import mean_absolute_error\n",
    "from time import time\n",
    "\n",
    "# from surprise.model_selection import train_test_split\n",
    "# from sklearn.model_selection import train_test_split\n",
    "\n",
    "# Package to suppress warnings\n",
    "import warnings\n",
    "warnings.filterwarnings(\"ignore\")\n",
    "from pyspark.sql.functions import monotonically_increasing_id\n",
    "# Packages for saving models\n",
    "import pickle\n",
    "\n",
    "from re import split\n",
    "from pyspark.sql import SparkSession\n",
    "from pyspark.sql.types import StructType, DoubleType, IntegerType, StringType, DateType\n",
    "from pyspark.sql.functions import *\n",
    "from pyspark.ml.feature import VectorAssembler\n",
    "from pyspark.ml.evaluation import RegressionEvaluator\n",
    "from pyspark.ml.regression import RandomForestRegressor"
   ]
  },
  {
   "cell_type": "code",
   "execution_count": 2,
   "id": "c5ad03bd",
   "metadata": {},
   "outputs": [],
   "source": [
    "def init_spark():\n",
    "    spark = SparkSession \\\n",
    "        .builder \\\n",
    "        .appName(\"Python Spark SQL basic example\") \\\n",
    "        .config(\"spark.some.config.option\", \"some-value\") \\\n",
    "        .getOrCreate()\n",
    "    return spark"
   ]
  },
  {
   "cell_type": "code",
   "execution_count": 3,
   "id": "31128bad",
   "metadata": {},
   "outputs": [],
   "source": [
    "spark=init_spark()"
   ]
  },
  {
   "cell_type": "markdown",
   "id": "fecee1f5",
   "metadata": {},
   "source": [
    "## Generate Data For Base Game DataSet"
   ]
  },
  {
   "cell_type": "code",
   "execution_count": 4,
   "id": "a2e4d185",
   "metadata": {},
   "outputs": [],
   "source": [
    "def generateData():\n",
    "    path_to_write = parentPath+'/data/datasets'\n",
    "    originalDataSet = pd.read_csv(parentPath+'/data/datasets/steam.csv')\n",
    "    if os.path.exists(path_to_write+'/games.csv'):\n",
    "        return pd.read_csv(path_to_write+'/games.csv')\n",
    "    for row in originalDataSet.iterrows():\n",
    "        row =row[1]\n",
    "        totalRatings = (row['positive_ratings'] + row['negative_ratings'])\n",
    "        if totalRatings == 0:\n",
    "            ratings = 0\n",
    "        else:\n",
    "            ratings = round((row['positive_ratings']/totalRatings) * 100,2)\n",
    "        dictionnary[row['appid']] = {\n",
    "                    \"name\": row['name'],\n",
    "                    \"price\": row['price'],\n",
    "                    \"release_date\": row['release_date'],\n",
    "                    \"required_age\": row['required_age'],\n",
    "                    \"publishers\": row['publisher'],\n",
    "                    \"developers\": row['developer'],\n",
    "                    \"categories\": row['categories'],\n",
    "                    \"genres\": row['genres'],\n",
    "                    \"ratings\": ratings,\n",
    "                    \"totalRatings\": totalRatings,\n",
    "                    \"average_playtime\": row['average_playtime'],\n",
    "                    \"median_playtime\": row['median_playtime'],\n",
    "                    \"num_owners\": row['owners']\n",
    "        }\n",
    "    \n",
    "    \n",
    "\n",
    "    df = pd.DataFrame.from_dict(dictionnary, orient='index')\n",
    "    df.index.name = 'appid'\n",
    "    if not os.path.exists(path_to_write):\n",
    "        os.mkdir(path_to_write)\n",
    "    \n",
    "    df.to_csv(path_to_write+'/games.csv')\n",
    "    return df"
   ]
  },
  {
   "cell_type": "markdown",
   "id": "cc90d1f2",
   "metadata": {},
   "source": [
    "## Generate the User Steam Dataset"
   ]
  },
  {
   "cell_type": "code",
   "execution_count": 5,
   "id": "2960becc",
   "metadata": {},
   "outputs": [],
   "source": [
    "url_user_info = \"https://api.steampowered.com/IPlayerService/GetOwnedGames/v1/?key=D399B9CAE07939881781DD36CC8CC442&steamid={}&include_appinfo=true&include_played_free_games=true\"\n",
    "def generateDataForUserSteamDataset():\n",
    "    dictionary=[]\n",
    "    path_to_write = parentPath+'/data/datasets'\n",
    "    if os.path.exists(path_to_write+'/steam_id_games.csv'):\n",
    "        return pd.read_csv(path_to_write+'/steam_id_games.csv')\n",
    "    originalDataSet = pd.read_csv(parentPath+'/data/datasets/steam_id.csv')\n",
    "    for row in originalDataSet.iterrows():\n",
    "        row =row[1]\n",
    "        try:\n",
    "            games = requests.get(url_user_info.format(row['steamid_a'])).json()['response']\n",
    "        except:\n",
    "            continue\n",
    "        if 'games' not in games:\n",
    "            continue\n",
    "        dataset = [{'steam_id':row['steamid_a'],\"appid\" :str(game['appid']), \"time_played_in_minutes\": game['playtime_forever'] } for game in games['games']]\n",
    "        dictionary = dataset+dictionary\n",
    "    df = pd.DataFrame.from_records(dictionary)\n",
    "    if not os.path.exists(path_to_write):\n",
    "        os.mkdir(path_to_write)\n",
    "    \n",
    "    df.to_csv(path_to_write+'/steam_id_games.csv')\n",
    "    return df"
   ]
  },
  {
   "cell_type": "code",
   "execution_count": 6,
   "id": "5fa7a6e2",
   "metadata": {},
   "outputs": [],
   "source": [
    "filename=\"../data/datasets/games.csv\"\n",
    "filename2=\"../data/datasets/steam_id_games.csv\""
   ]
  },
  {
   "cell_type": "code",
   "execution_count": 7,
   "id": "35b9346c",
   "metadata": {},
   "outputs": [],
   "source": [
    "from pyspark.sql.types import *\n",
    "games_schema = StructType() \\\n",
    "    .add(\"appid\", IntegerType(), True) \\\n",
    "    .add(\"name\", StringType(), True) \\\n",
    "    .add(\"price\", DoubleType(), True) \\\n",
    "    .add(\"release_date\", StringType(), True) \\\n",
    "    .add(\"required_age\", IntegerType(), True) \\\n",
    "    .add(\"publishers\", StringType(), True) \\\n",
    "    .add(\"developers\", StringType(), True) \\\n",
    "    .add(\"categories\", StringType(), True) \\\n",
    "    .add(\"genres\", StringType(), True) \\\n",
    "    .add(\"ratings\", DoubleType(), True) \\\n",
    "    .add(\"totalRatings\", IntegerType(), True) \\\n",
    "    .add(\"average_playtime\", DoubleType(), True) \\\n",
    "    .add(\"median_playtime\", IntegerType(), True) \\\n",
    "    .add(\"num_owners\", StringType(), True)\n",
    "games = spark.read.schema(games_schema).csv(filename, header=True).dropna()\n"
   ]
  },
  {
   "cell_type": "code",
   "execution_count": 8,
   "id": "ae101f92",
   "metadata": {},
   "outputs": [
    {
     "data": {
      "text/plain": [
       "[Row(appid=10, name='Counter-Strike', price=7.19, release_date='2000-11-01', required_age=0, publishers='Valve', developers='Valve', categories='Multi-player;Online Multi-Player;Local Multi-Player;Valve Anti-Cheat enabled', genres='Action', ratings=97.39, totalRatings=127873, average_playtime=17612.0, median_playtime=317, num_owners='10000000-20000000'),\n",
       " Row(appid=20, name='Team Fortress Classic', price=3.99, release_date='1999-04-01', required_age=0, publishers='Valve', developers='Valve', categories='Multi-player;Online Multi-Player;Local Multi-Player;Valve Anti-Cheat enabled', genres='Action', ratings=83.98, totalRatings=3951, average_playtime=277.0, median_playtime=62, num_owners='5000000-10000000'),\n",
       " Row(appid=30, name='Day of Defeat', price=3.99, release_date='2003-05-01', required_age=0, publishers='Valve', developers='Valve', categories='Multi-player;Valve Anti-Cheat enabled', genres='Action', ratings=89.56, totalRatings=3814, average_playtime=187.0, median_playtime=34, num_owners='5000000-10000000'),\n",
       " Row(appid=40, name='Deathmatch Classic', price=3.99, release_date='2001-06-01', required_age=0, publishers='Valve', developers='Valve', categories='Multi-player;Online Multi-Player;Local Multi-Player;Valve Anti-Cheat enabled', genres='Action', ratings=82.66, totalRatings=1540, average_playtime=258.0, median_playtime=184, num_owners='5000000-10000000'),\n",
       " Row(appid=50, name='Half-Life: Opposing Force', price=3.99, release_date='1999-11-01', required_age=0, publishers='Valve', developers='Gearbox Software', categories='Single-player;Multi-player;Valve Anti-Cheat enabled', genres='Action', ratings=94.8, totalRatings=5538, average_playtime=624.0, median_playtime=415, num_owners='5000000-10000000')]"
      ]
     },
     "execution_count": 8,
     "metadata": {},
     "output_type": "execute_result"
    }
   ],
   "source": [
    "games.take(5)"
   ]
  },
  {
   "cell_type": "markdown",
   "id": "c5a4d906",
   "metadata": {},
   "source": [
    "## Normalization"
   ]
  },
  {
   "cell_type": "code",
   "execution_count": 9,
   "id": "5cbe3584",
   "metadata": {},
   "outputs": [],
   "source": [
    "# normalizer = Normalizer(inputCol=\"price\", outputCol=\"price\")\n",
    "# myGames = normalizer.transform(myGames)\n",
    "#hasher = FeatureHasher(inputCols=[\"price\", \"release_date\", \"required_age\", \"ratings\",\"totalRatings\",\"average_playtime\",\"median_playtime\",\"Action\"],\n",
    "#                       outputCol=\"features\")\n",
    "\n",
    "#featurized = hasher.transform(myGames)\n",
    "#listOfGames=featurized.take(100)\n",
    "\n",
    "#featurized.head()\n",
    "\n",
    "#myGames3 = myGames.take(10000)\n",
    "#normalizer = Normalizer(inputCol=\"features\", outputCol=\"normFeatures\", p=1.0)\n",
    "#l1NormData = normalizer.transform(featurized)\n",
    "#l1NormData.head()\n",
    "\n",
    "# lInfNormData = normalizer.transform(featurized, {normalizer.p: float(\"inf\")})\n",
    "#listOfGames=l1NormData.take(10)\n",
    "# listOfGames.reshape(-1, 1)\n",
    "# X_normalized = normalizer(myGames, copy=True)\n",
    "#type(listOfGames)\n",
    "#listOfGames=np.array([listOfGames], dtype=object)"
   ]
  },
  {
   "cell_type": "markdown",
   "id": "3c70905a",
   "metadata": {
    "pycharm": {
     "name": "#%% md\n"
    }
   },
   "source": [
    "## Data Preprocessing"
   ]
  },
  {
   "cell_type": "code",
   "execution_count": 10,
   "id": "12b221ab",
   "metadata": {
    "pycharm": {
     "name": "#%%\n"
    }
   },
   "outputs": [],
   "source": [
    "# get the yaer of release_date\n",
    "games = games.withColumn('release_date', col('release_date')[0:4])\n",
    "games = games.withColumn(\"release_date\", games[\"release_date\"].cast(IntegerType()))"
   ]
  },
  {
   "cell_type": "code",
   "execution_count": 11,
   "id": "92a86dd4",
   "metadata": {
    "pycharm": {
     "name": "#%%\n"
    }
   },
   "outputs": [],
   "source": [
    "#create columns for genres\n",
    "games = games.withColumn('genres', split(col('genres'), ';'))\n",
    "uniq_genres = games.select('genres').distinct().collect()\n",
    "unic_genres_set = set()\n",
    "for u in uniq_genres:\n",
    "    for i in u.genres:\n",
    "        unic_genres_set.add(i)\n",
    "unic_genres_set\n",
    "\n",
    "for i in unic_genres_set:\n",
    "    games = games.withColumn(i,when(array_contains(games.genres,i), 1).otherwise(0))"
   ]
  },
  {
   "cell_type": "code",
   "execution_count": 12,
   "id": "fbc54b9a",
   "metadata": {
    "pycharm": {
     "name": "#%%\n"
    }
   },
   "outputs": [],
   "source": [
    "# create columns for the categories\n",
    "games = games.withColumn('categories', split(col('categories'), ';'))\n",
    "uniq_cat = games.select('categories').distinct().collect()\n",
    "unic_cat_set = set()\n",
    "for u in uniq_cat:\n",
    "    for i in u.categories:\n",
    "        # if not i in games2.columns:\n",
    "        #     games2 = games2.withColumn(i, 0)\n",
    "        unic_cat_set.add(i)\n",
    "unic_cat_set\n",
    "\n",
    "for i in unic_cat_set:\n",
    "    games = games.withColumn(i,when(array_contains(games.categories,i), 1).otherwise(0))"
   ]
  },
  {
   "cell_type": "code",
   "execution_count": 13,
   "id": "b333936a",
   "metadata": {
    "pycharm": {
     "name": "#%%\n"
    }
   },
   "outputs": [
    {
     "data": {
      "text/plain": [
       "[Row(appid=10, name='Counter-Strike', price=7.19, release_date=2000, required_age=0, publishers='Valve', developers='Valve', categories=['Multi-player', 'Online Multi-Player', 'Local Multi-Player', 'Valve Anti-Cheat enabled'], genres=['Action'], ratings=97.39, totalRatings=127873, average_playtime=17612.0, median_playtime=317, num_owners='10000000-20000000', Racing=0, Casual=0, Tutorial=0, Strategy=0, RPG=0, Indie=0, Free to Play=0, Photo Editing=0, Sexual Content=0, Audio Production=0, Nudity=0, Gore=0, Game Development=0, Documentary=0, Early Access=0, Action=1, Accounting=0, Massively Multiplayer=0, Violent=0, Design & Illustration=0, Software Training=0, Animation & Modeling=0, Education=0, Utilities=0, Adventure=0, Simulation=0, Video Production=0, Web Publishing=0, Sports=0, Steam Cloud=0, Partial Controller Support=0, Valve Anti-Cheat enabled=1, Mods=0, Full controller support=0, Online Multi-Player=1, Local Multi-Player=1, VR Support=0, Steam Trading Cards=0, Co-op=0, Steam Workshop=0, Cross-Platform Multiplayer=0, SteamVR Collectibles=0, Single-player=0, Captions available=0, Online Co-op=0, MMO=0, Steam Leaderboards=0, Includes Source SDK=0, Stats=0, Mods (require HL2)=0, Steam Achievements=0, Shared/Split Screen=0, Steam Turn Notifications=0, Multi-player=1, In-App Purchases=0, Commentary available=0, Local Co-op=0, Includes level editor=0, RowNumber=0)]"
      ]
     },
     "execution_count": 13,
     "metadata": {},
     "output_type": "execute_result"
    }
   ],
   "source": [
    "# add the column to store the index of the row\n",
    "games = games.select(\"*\").withColumn(\"RowNumber\", monotonically_increasing_id())\n",
    "games.take(1)"
   ]
  },
  {
   "cell_type": "code",
   "execution_count": 14,
   "id": "5e66acb4",
   "metadata": {
    "pycharm": {
     "name": "#%%\n"
    }
   },
   "outputs": [],
   "source": [
    "# create a dataset with features that we need for the model\n",
    "myGames=games.drop('appid',\"developers\",\"genres\",\"name\",\"publishers\",\"categories\",\"num_owners\",)"
   ]
  },
  {
   "cell_type": "code",
   "execution_count": 15,
   "id": "2a55182c",
   "metadata": {},
   "outputs": [
    {
     "data": {
      "text/plain": [
       "[Row(price=7.19, release_date=2000, required_age=0, ratings=97.39, totalRatings=127873, average_playtime=17612.0, median_playtime=317, Racing=0, Casual=0, Tutorial=0, Strategy=0, RPG=0, Indie=0, Free to Play=0, Photo Editing=0, Sexual Content=0, Audio Production=0, Nudity=0, Gore=0, Game Development=0, Documentary=0, Early Access=0, Action=1, Accounting=0, Massively Multiplayer=0, Violent=0, Design & Illustration=0, Software Training=0, Animation & Modeling=0, Education=0, Utilities=0, Adventure=0, Simulation=0, Video Production=0, Web Publishing=0, Sports=0, Steam Cloud=0, Partial Controller Support=0, Valve Anti-Cheat enabled=1, Mods=0, Full controller support=0, Online Multi-Player=1, Local Multi-Player=1, VR Support=0, Steam Trading Cards=0, Co-op=0, Steam Workshop=0, Cross-Platform Multiplayer=0, SteamVR Collectibles=0, Single-player=0, Captions available=0, Online Co-op=0, MMO=0, Steam Leaderboards=0, Includes Source SDK=0, Stats=0, Mods (require HL2)=0, Steam Achievements=0, Shared/Split Screen=0, Steam Turn Notifications=0, Multi-player=1, In-App Purchases=0, Commentary available=0, Local Co-op=0, Includes level editor=0, RowNumber=0)]"
      ]
     },
     "execution_count": 15,
     "metadata": {},
     "output_type": "execute_result"
    }
   ],
   "source": [
    "myGames.head(1)"
   ]
  },
  {
   "cell_type": "markdown",
   "id": "0089ae4b",
   "metadata": {
    "pycharm": {
     "name": "#%% md\n"
    }
   },
   "source": [
    "## First Model : Cosine Similarity"
   ]
  },
  {
   "cell_type": "code",
   "execution_count": 16,
   "id": "562d62cb",
   "metadata": {},
   "outputs": [
    {
     "data": {
      "text/plain": [
       "array([[1.00000000e+00, 8.97414146e-01, 8.89050930e-01, ...,\n",
       "        3.76547717e-09, 3.99609560e-09, 6.07002759e-09],\n",
       "       [8.97414146e-01, 1.00000000e+00, 9.99682562e-01, ...,\n",
       "        2.25443188e-04, 2.25443395e-04, 2.25445218e-04],\n",
       "       [8.89050930e-01, 9.99682562e-01, 1.00000000e+00, ...,\n",
       "        4.63813819e-04, 4.63814024e-04, 4.63815831e-04],\n",
       "       ...,\n",
       "       [3.76547717e-09, 2.25443188e-04, 4.63813819e-04, ...,\n",
       "        1.00000000e+00, 1.00000000e+00, 1.00000000e+00],\n",
       "       [3.99609560e-09, 2.25443395e-04, 4.63814024e-04, ...,\n",
       "        1.00000000e+00, 1.00000000e+00, 1.00000000e+00],\n",
       "       [6.07002759e-09, 2.25445218e-04, 4.63815831e-04, ...,\n",
       "        1.00000000e+00, 1.00000000e+00, 1.00000000e+00]])"
      ]
     },
     "execution_count": 16,
     "metadata": {},
     "output_type": "execute_result"
    }
   ],
   "source": [
    "from sklearn.metrics.pairwise import cosine_similarity\n",
    "myGames2 = myGames.take(27000)\n",
    "\n",
    "cos_sim_data = cosine_similarity(myGames2)\n",
    "cos_sim_data"
   ]
  },
  {
   "cell_type": "code",
   "execution_count": 17,
   "id": "3e249ca3",
   "metadata": {
    "pycharm": {
     "name": "#%%\n"
    }
   },
   "outputs": [
    {
     "data": {
      "text/plain": [
       "list"
      ]
     },
     "execution_count": 17,
     "metadata": {},
     "output_type": "execute_result"
    }
   ],
   "source": [
    "type(myGames2)"
   ]
  },
  {
   "cell_type": "code",
   "execution_count": 18,
   "id": "6f658ed8",
   "metadata": {
    "pycharm": {
     "name": "#%%\n"
    }
   },
   "outputs": [],
   "source": [
    "# temp = pd.DataFrame(cos_sim_data)\n",
    "# cos_sim_df = spark.createDataFrame(temp)\n",
    "# cos_sim_df.take(5)"
   ]
  },
  {
   "cell_type": "code",
   "execution_count": 19,
   "id": "49dd976b",
   "metadata": {
    "pycharm": {
     "name": "#%%\n"
    }
   },
   "outputs": [],
   "source": [
    "# // I need to create a function that get the appId and find the N top similar apps!!!\n",
    "def generate_top_N_recommendationsX(appId, N=10):\n",
    "    # appId = 0\n",
    "    row = GetValueFromDataframe(games.filter(games.appid == appId),\"RowNumber\")\n",
    "    sim_scores = list(enumerate(cos_sim_data[row]))\n",
    "    sim_scores = sorted(sim_scores, key=lambda x: x[1], reverse=True)\n",
    "    sim_scores = sim_scores[1:N]\n",
    "    game_indices = [i[0] for i in sim_scores]\n",
    "    names = games.where(col(\"RowNumber\").isin(game_indices)).select(\"name\")\n",
    "    return names\n",
    "\n",
    "\n",
    "def GetValueFromDataframe(_df,columnName):\n",
    "    for row in _df.rdd.collect():\n",
    "        return row[columnName]"
   ]
  },
  {
   "cell_type": "code",
   "execution_count": 20,
   "id": "f169a19f",
   "metadata": {
    "pycharm": {
     "name": "#%%\n"
    }
   },
   "outputs": [
    {
     "name": "stdout",
     "output_type": "stream",
     "text": [
      "+--------------------+\n",
      "|                name|\n",
      "+--------------------+\n",
      "|Counter-Strike: S...|\n",
      "|Mount & Blade: Wa...|\n",
      "|              Arma 3|\n",
      "|        APB Reloaded|\n",
      "|Realm of the Mad God|\n",
      "|Total War™: ROME ...|\n",
      "|Kerbal Space Program|\n",
      "|       Path of Exile|\n",
      "|ARK: Survival Evo...|\n",
      "+--------------------+\n",
      "\n"
     ]
    }
   ],
   "source": [
    "equalnames = generate_top_N_recommendationsX(str(10))\n",
    "equalnames.show()"
   ]
  },
  {
   "cell_type": "markdown",
   "id": "17b2c8f8",
   "metadata": {
    "pycharm": {
     "name": "#%% md\n"
    }
   },
   "source": [
    "## Model2 :  : Random Forest"
   ]
  },
  {
   "cell_type": "markdown",
   "id": "645a8d57",
   "metadata": {},
   "source": []
  },
  {
   "cell_type": "code",
   "execution_count": 50,
   "id": "32a70373",
   "metadata": {
    "pycharm": {
     "name": "#%%\n"
    }
   },
   "outputs": [],
   "source": [
    "# The users dataframe is not currently used.\n",
    "#users_df = spark.read.csv(users_csv, header=True, inferSchema=True)\n",
    "# Init the users/games relation dataframe.\n",
    "users_games_df = spark.read.csv(filename2, header=True, inferSchema=True).drop(\"_c0\")\n",
    "\n",
    "# Feature assembler: make a vector of all features.\n",
    "inputColsList = [\"ratings\", \"price\", \"release_date\", \"totalRatings\"]\n",
    "inputColsList.extend(unic_cat_set)\n",
    "inputColsList.extend(unic_genres_set)\n",
    "vector_assembler = VectorAssembler().setInputCols(inputColsList).setOutputCol(\"features\")\n",
    "vectorized_games = vector_assembler.transform(games)\n",
    "\n",
    "# Join the vectorized games with the user/games relation table.\n",
    "users_games_joined_df = users_games_df.join(vectorized_games, \"appid\", \"inner\")\n",
    "\n",
    "def DoRandomForest(user_id, num_recommendations = 10, seed = 2022):\n",
    "    # Get the data for the games the player has played.\n",
    "    owned_games_df = users_games_joined_df.filter(users_games_joined_df.steam_id == user_id) #.filter(users_games_joined_df.time_played_in_minutes > 0)\n",
    "    user_games_count = owned_games_df.count()\n",
    "    print(\"Owned Games:\", owned_games_df.count())\n",
    "    if user_games_count > 0:\n",
    "        training_df, testing_df = owned_games_df.randomSplit([0.8, 0.2], seed)\n",
    "\n",
    "        # Print the games this user has played the most (for comparison to final predictions).\n",
    "        print(\"User's top games (from training set):\")\n",
    "        training_df.sort(training_df.time_played_in_minutes.desc()).select(\"name\", \"genres\", \"time_played_in_minutes\").show()\n",
    "        #owned_games_df.sort(owned_games_df.time_played_in_minutes.desc()).select(\"name\", \"genres\", \"time_played_in_minutes\").show()\n",
    "\n",
    "        # Extract the list of unowned games by removing the already owned ones.\n",
    "        unowned_games_df = vectorized_games.join(owned_games_df, \"appid\", \"leftanti\")\n",
    "\n",
    "        # Build Random Forest Regression based on time the user played each game in their library.\n",
    "        randForest = RandomForestRegressor()\n",
    "        model = randForest.fit(training_df.withColumnRenamed(\"time_played_in_minutes\", \"label\"))\n",
    "\n",
    "        # Run the model on unowned game data.\n",
    "        predictions = model.transform(unowned_games_df).sort(col(\"prediction\").desc())\n",
    "        print(\"The user's top \" + str(num_recommendations) + \" predicted games (with predicted minutes played if they owned it):\")\n",
    "        predictions.select('appid', 'features', 'genres', 'name', 'prediction').show(num_recommendations)\n",
    "\n",
    "        # Model evaluation via RMSE\n",
    "        evaluator = RegressionEvaluator(labelCol=\"label\", predictionCol=\"prediction\")\n",
    "        testing_df = model.transform(testing_df.withColumnRenamed(\"time_played_in_minutes\", \"label\"))\n",
    "        rmse = evaluator.evaluate(testing_df, {evaluator.metricName: \"rmse\"})\n",
    "        print(\"RMSE:\", rmse)\n",
    "        testing_df.select('name', 'label', 'prediction').show()\n",
    "\n",
    "        # Determine the importance of each feature\n",
    "        print(\"Feature Importances:\")\n",
    "        featuresArr = model.featureImportances.toArray()\n",
    "        featureImportanceCombined = []\n",
    "        for i in range(0, len(inputColsList)):\n",
    "            featureImportanceCombined.append((inputColsList[i], featuresArr[i].item()))\n",
    "        feature_df = spark.createDataFrame(featureImportanceCombined).toDF('feature', 'importance').sort('importance', ascending=False)\n",
    "        feature_df.show()"
   ]
  },
  {
   "cell_type": "code",
   "execution_count": 51,
   "metadata": {},
   "outputs": [
    {
     "name": "stdout",
     "output_type": "stream",
     "text": [
      "Owned Games: 216\n",
      "User's top games (from training set):\n",
      "+--------------------+--------------------+----------------------+\n",
      "|                name|              genres|time_played_in_minutes|\n",
      "+--------------------+--------------------+----------------------+\n",
      "|                DOOM|            [Action]|                  6566|\n",
      "|          Anno 2070™|          [Strategy]|                  3850|\n",
      "|           Tropico 5|[RPG, Simulation,...|                  3836|\n",
      "|LEGO® Batman™ 3: ...| [Action, Adventure]|                  3699|\n",
      "|Call of Duty®: Bl...|            [Action]|                  2774|\n",
      "|     Game Dev Tycoon|[Casual, Indie, S...|                  2627|\n",
      "|  Duke Nukem Forever|            [Action]|                  2432|\n",
      "|    Castle Crashers®|[Action, Adventur...|                  2198|\n",
      "|Jurassic World Ev...|[Simulation, Stra...|                  2025|\n",
      "|Call of Duty®: In...| [Action, Adventure]|                  1922|\n",
      "|Counter-Strike: G...|[Action, Free to ...|                  1884|\n",
      "|      Rocket League®|[Action, Indie, R...|                  1713|\n",
      "|Wolfenstein: The ...|            [Action]|                  1703|\n",
      "|      Counter-Strike|            [Action]|                  1538|\n",
      "|           Tropico 4|[Simulation, Stra...|                  1363|\n",
      "|           Homefront|            [Action]|                  1143|\n",
      "|LARA CROFT AND TH...| [Action, Adventure]|                  1143|\n",
      "|Battlefield: Bad ...|            [Action]|                  1020|\n",
      "|Batman™: Arkham O...| [Action, Adventure]|                  1009|\n",
      "|      Sniper Elite 4| [Action, Adventure]|                  1003|\n",
      "+--------------------+--------------------+----------------------+\n",
      "only showing top 20 rows\n",
      "\n",
      "Feature Importances:\n",
      "[9.30868653e-02 1.40220435e-01 1.34199692e-01 2.88314037e-01\n",
      " 7.84204864e-03 4.92207150e-02 4.38039176e-03 0.00000000e+00\n",
      " 2.73082104e-02 0.00000000e+00 1.68360433e-03 3.41581402e-07\n",
      " 6.75314494e-03 4.91390442e-02 0.00000000e+00 1.64570650e-02\n",
      " 0.00000000e+00 4.85873749e-03 3.50762885e-05 6.36475541e-03\n",
      " 0.00000000e+00 4.61750451e-03 6.63410476e-04 1.20269038e-02\n",
      " 0.00000000e+00 1.96566531e-02 1.49298665e-02 0.00000000e+00\n",
      " 1.56580154e-02 6.15904685e-03 2.99802400e-03 3.12241438e-03\n",
      " 3.73768400e-04 1.31946936e-03 1.86158654e-02 0.00000000e+00\n",
      " 1.34042509e-02 6.21648514e-03 1.72874476e-02 0.00000000e+00\n",
      " 0.00000000e+00 0.00000000e+00 0.00000000e+00 0.00000000e+00\n",
      " 0.00000000e+00 0.00000000e+00 0.00000000e+00 0.00000000e+00\n",
      " 5.88627498e-03 0.00000000e+00 0.00000000e+00 0.00000000e+00\n",
      " 0.00000000e+00 0.00000000e+00 0.00000000e+00 0.00000000e+00\n",
      " 0.00000000e+00 4.64013019e-03 2.09089346e-02 0.00000000e+00\n",
      " 0.00000000e+00 1.65136945e-03]\n",
      "[('ratings', 0.09308686529935209), ('price', 0.1402204354712891), ('release_date', 0.13419969237776785), ('totalRatings', 0.28831403683905604), ('Steam Cloud', 0.007842048638453078), ('Partial Controller Support', 0.049220715021817234), ('Valve Anti-Cheat enabled', 0.004380391762656634), ('Mods', 0.0), ('Full controller support', 0.02730821038824115), ('Online Multi-Player', 0.0), ('Local Multi-Player', 0.0016836043284665786), ('VR Support', 3.415814021169656e-07), ('Steam Trading Cards', 0.00675314493902319), ('Co-op', 0.049139044172845), ('Steam Workshop', 0.0), ('Cross-Platform Multiplayer', 0.016457065025554864), ('SteamVR Collectibles', 0.0), ('Single-player', 0.004858737493456741), ('Captions available', 3.507628845788222e-05), ('Online Co-op', 0.0063647554124724864), ('MMO', 0.0), ('Steam Leaderboards', 0.004617504512607508), ('Includes Source SDK', 0.0006634104757164923), ('Stats', 0.012026903793677783), ('Mods (require HL2)', 0.0), ('Steam Achievements', 0.01965665309014269), ('Shared/Split Screen', 0.014929866517907831), ('Steam Turn Notifications', 0.0), ('Multi-player', 0.01565801537745335), ('In-App Purchases', 0.006159046847571228), ('Commentary available', 0.00299802399996617), ('Local Co-op', 0.003122414375756839), ('Includes level editor', 0.0003737683997359419), ('Racing', 0.0013194693573309363), ('Casual', 0.018615865350619903), ('Tutorial', 0.0), ('Strategy', 0.013404250850518051), ('RPG', 0.006216485138812216), ('Indie', 0.01728744760970608), ('Free to Play', 0.0), ('Photo Editing', 0.0), ('Sexual Content', 0.0), ('Audio Production', 0.0), ('Nudity', 0.0), ('Gore', 0.0), ('Game Development', 0.0), ('Documentary', 0.0), ('Early Access', 0.0), ('Action', 0.0058862749766108915), ('Accounting', 0.0), ('Massively Multiplayer', 0.0), ('Violent', 0.0), ('Design & Illustration', 0.0), ('Software Training', 0.0), ('Animation & Modeling', 0.0), ('Education', 0.0), ('Utilities', 0.0), ('Adventure', 0.00464013019458492), ('Simulation', 0.020908934638536467), ('Video Production', 0.0), ('Web Publishing', 0.0), ('Sports', 0.0016513694524326855)]\n",
      "+--------------------+--------------------+\n",
      "|                name|          percentage|\n",
      "+--------------------+--------------------+\n",
      "|        totalRatings| 0.28831403683905604|\n",
      "|               price|  0.1402204354712891|\n",
      "|        release_date| 0.13419969237776785|\n",
      "|             ratings| 0.09308686529935209|\n",
      "|Partial Controlle...|0.049220715021817234|\n",
      "|               Co-op|   0.049139044172845|\n",
      "|Full controller s...| 0.02730821038824115|\n",
      "|          Simulation|0.020908934638536467|\n",
      "|  Steam Achievements| 0.01965665309014269|\n",
      "|              Casual|0.018615865350619903|\n",
      "|               Indie| 0.01728744760970608|\n",
      "|Cross-Platform Mu...|0.016457065025554864|\n",
      "|        Multi-player| 0.01565801537745335|\n",
      "| Shared/Split Screen|0.014929866517907831|\n",
      "|            Strategy|0.013404250850518051|\n",
      "|               Stats|0.012026903793677783|\n",
      "|         Steam Cloud|0.007842048638453078|\n",
      "| Steam Trading Cards| 0.00675314493902319|\n",
      "|        Online Co-op|0.006364755412472...|\n",
      "|                 RPG|0.006216485138812216|\n",
      "+--------------------+--------------------+\n",
      "only showing top 20 rows\n",
      "\n",
      "The user's top 10 predicted games (with predicted minutes played if they owned it):\n",
      "+------+--------------------+--------------------+--------------------+------------------+\n",
      "| appid|            features|              genres|                name|        prediction|\n",
      "+------+--------------------+--------------------+--------------------+------------------+\n",
      "|244850|(62,[0,1,2,3,4,5,...|[Action, Indie, S...|     Space Engineers| 4412.345652173914|\n",
      "|242760|(62,[0,1,2,3,4,5,...|[Action, Adventur...|          The Forest|            3986.8|\n",
      "|582010|(62,[0,1,2,3,4,5,...|            [Action]|MONSTER HUNTER: W...|3422.7192632850247|\n",
      "|211820|(62,[0,1,2,3,9,12...|[Action, Adventur...|           Starbound|3324.0435200746965|\n",
      "|107410|(62,[0,1,2,3,5,9,...|[Action, Simulati...|              Arma 3|3245.5764774114773|\n",
      "|365590|(62,[0,1,2,3,12,1...|[Action, Adventur...|Tom Clancy’s The ...| 3144.815185140946|\n",
      "|413150|(62,[0,1,2,3,4,5,...|[Indie, RPG, Simu...|      Stardew Valley| 3123.549642857143|\n",
      "|381210|(62,[0,1,2,3,4,8,...|            [Action]|    Dead by Daylight|2936.2600187969924|\n",
      "|489830|(62,[0,1,2,3,4,5,...|               [RPG]|The Elder Scrolls...| 2854.265002315692|\n",
      "|322330|(62,[0,1,2,3,8,12...|[Adventure, Indie...|Don't Starve Toge...|2669.3107954545458|\n",
      "+------+--------------------+--------------------+--------------------+------------------+\n",
      "only showing top 10 rows\n",
      "\n",
      "RMSE: 958.9774840378076\n",
      "+--------------------+-----+------------------+\n",
      "|                name|label|        prediction|\n",
      "+--------------------+-----+------------------+\n",
      "|       Day of Defeat|    0| 97.08263069624488|\n",
      "|Half-Life: Blue S...|    0|11.607798412685273|\n",
      "|Half-Life 2: Deat...|    0|  105.505861876829|\n",
      "|Half-Life Deathma...|    0|106.44757073621824|\n",
      "|       Left 4 Dead 2| 2002| 685.4015846975911|\n",
      "|              Dota 2| 2324|1396.2306268568034|\n",
      "|         Garry's Mod|    0|1835.6773082303873|\n",
      "|Trackmania United...| 1099|250.59309257195696|\n",
      "|Runaway, A Road A...|   19|12.881156663467289|\n",
      "|                RAGE|  103|  618.509135452631|\n",
      "|Grand Theft Auto:...|  105|305.94114796760124|\n",
      "|           Max Payne|    0|12.444628556225945|\n",
      "|            Far Cry®|    0|14.401446738044125|\n",
      "|Tom Clancy's Rain...|    0| 9.845304593251848|\n",
      "|Tom Clancy's Spli...|    0|12.444628556225945|\n",
      "|Tom Clancy's Spli...|   18|34.719130245013346|\n",
      "|Tom Clancy's Rain...|    0|105.87604039738628|\n",
      "|Tom Clancy's Rain...|    6| 65.69767211818039|\n",
      "|Brothers in Arms:...|   17|10.480195140179626|\n",
      "|     Crysis Warhead®|    0|12.444628556225945|\n",
      "+--------------------+-----+------------------+\n",
      "only showing top 20 rows\n",
      "\n"
     ]
    }
   ],
   "source": [
    "DoRandomForest(76561197960360459)"
   ]
  },
  {
   "cell_type": "code",
   "execution_count": 52,
   "id": "59157195",
   "metadata": {},
   "outputs": [
    {
     "name": "stdout",
     "output_type": "stream",
     "text": [
      "Owned Games: 136\n",
      "User's top games (from training set):\n",
      "+--------------------+--------------------+----------------------+\n",
      "|                name|              genres|time_played_in_minutes|\n",
      "+--------------------+--------------------+----------------------+\n",
      "|Counter-Strike: G...|[Action, Free to ...|                 30157|\n",
      "|Sid Meier's Civil...|          [Strategy]|                 17603|\n",
      "|       Killing Floor|            [Action]|                 16366|\n",
      "|Kerbal Space Program| [Indie, Simulation]|                 11131|\n",
      "|MechWarrior Onlin...|[Action, Free to ...|                  9815|\n",
      "|Sid Meier’s Civil...|          [Strategy]|                  9192|\n",
      "|Sins of a Solar E...|   [Indie, Strategy]|                  8750|\n",
      "|Red Orchestra 2: ...|[Action, Massivel...|                  6684|\n",
      "|             XCOM® 2|          [Strategy]|                  5412|\n",
      "|Supreme Commander...|          [Strategy]|                  5283|\n",
      "|Defense Grid: The...|   [Indie, Strategy]|                  5262|\n",
      "|          BATTLETECH|[Action, Adventur...|                  4129|\n",
      "| XCOM: Enemy Unknown|          [Strategy]|                  4091|\n",
      "|Rising Storm 2: V...|[Action, Massivel...|                  3880|\n",
      "|           Stellaris|[Simulation, Stra...|                  3614|\n",
      "|           Half-Life|            [Action]|                  3298|\n",
      "|            Banished|[Indie, Simulatio...|                  3080|\n",
      "|Command & Conquer...|          [Strategy]|                  2844|\n",
      "|PLAYERUNKNOWN'S B...|[Action, Adventur...|                  2434|\n",
      "|      Counter-Strike|            [Action]|                  1969|\n",
      "+--------------------+--------------------+----------------------+\n",
      "only showing top 20 rows\n",
      "\n",
      "Feature Importances:\n",
      "[1.48181750e-01 1.19733236e-01 1.54763703e-01 1.73296656e-01\n",
      " 1.36065463e-02 3.42186185e-03 4.37374020e-02 0.00000000e+00\n",
      " 2.06313384e-02 5.68635805e-03 2.67930326e-03 0.00000000e+00\n",
      " 8.04910681e-03 1.54543883e-02 2.70231667e-02 1.02531719e-02\n",
      " 0.00000000e+00 9.65206931e-03 0.00000000e+00 5.19902406e-03\n",
      " 1.42130754e-02 4.73984295e-05 0.00000000e+00 2.00225471e-02\n",
      " 0.00000000e+00 2.48931897e-02 0.00000000e+00 0.00000000e+00\n",
      " 5.57583644e-03 1.56715639e-02 1.17381557e-05 1.16386046e-03\n",
      " 1.45075279e-02 0.00000000e+00 0.00000000e+00 0.00000000e+00\n",
      " 2.73072718e-02 6.17520216e-03 3.05778329e-04 4.95375297e-02\n",
      " 0.00000000e+00 0.00000000e+00 0.00000000e+00 0.00000000e+00\n",
      " 0.00000000e+00 0.00000000e+00 0.00000000e+00 0.00000000e+00\n",
      " 1.67909046e-02 0.00000000e+00 3.56620939e-02 0.00000000e+00\n",
      " 0.00000000e+00 0.00000000e+00 0.00000000e+00 0.00000000e+00\n",
      " 0.00000000e+00 3.13100284e-03 1.94807419e-03 0.00000000e+00\n",
      " 0.00000000e+00 1.66632277e-03]\n",
      "[('ratings', 0.1481817499994651), ('price', 0.11973323579696579), ('release_date', 0.15476370318701785), ('totalRatings', 0.1732966561871875), ('Steam Cloud', 0.013606546335881398), ('Partial Controller Support', 0.003421861852489588), ('Valve Anti-Cheat enabled', 0.04373740202987676), ('Mods', 0.0), ('Full controller support', 0.020631338441147413), ('Online Multi-Player', 0.005686358051633599), ('Local Multi-Player', 0.002679303263485765), ('VR Support', 0.0), ('Steam Trading Cards', 0.00804910681133927), ('Co-op', 0.01545438833733108), ('Steam Workshop', 0.02702316670493185), ('Cross-Platform Multiplayer', 0.010253171944529757), ('SteamVR Collectibles', 0.0), ('Single-player', 0.009652069312237804), ('Captions available', 0.0), ('Online Co-op', 0.0051990240557276595), ('MMO', 0.014213075388225102), ('Steam Leaderboards', 4.739842949967617e-05), ('Includes Source SDK', 0.0), ('Stats', 0.020022547103735324), ('Mods (require HL2)', 0.0), ('Steam Achievements', 0.024893189695088705), ('Shared/Split Screen', 0.0), ('Steam Turn Notifications', 0.0), ('Multi-player', 0.005575836435625384), ('In-App Purchases', 0.01567156394652443), ('Commentary available', 1.1738155675980053e-05), ('Local Co-op', 0.001163860456700629), ('Includes level editor', 0.014507527867828824), ('Racing', 0.0), ('Casual', 0.0), ('Tutorial', 0.0), ('Strategy', 0.02730727176174579), ('RPG', 0.006175202156583874), ('Indie', 0.00030577832937612857), ('Free to Play', 0.04953752965671454), ('Photo Editing', 0.0), ('Sexual Content', 0.0), ('Audio Production', 0.0), ('Nudity', 0.0), ('Gore', 0.0), ('Game Development', 0.0), ('Documentary', 0.0), ('Early Access', 0.0), ('Action', 0.016790904628036542), ('Accounting', 0.0), ('Massively Multiplayer', 0.03566209388607676), ('Violent', 0.0), ('Design & Illustration', 0.0), ('Software Training', 0.0), ('Animation & Modeling', 0.0), ('Education', 0.0), ('Utilities', 0.0), ('Adventure', 0.0031310028356488027), ('Simulation', 0.0019480741852124228), ('Video Production', 0.0), ('Web Publishing', 0.0), ('Sports', 0.0016663227704530569)]\n",
      "+--------------------+--------------------+\n",
      "|                name|          percentage|\n",
      "+--------------------+--------------------+\n",
      "|        totalRatings|  0.1732966561871875|\n",
      "|        release_date| 0.15476370318701785|\n",
      "|             ratings|  0.1481817499994651|\n",
      "|               price| 0.11973323579696579|\n",
      "|        Free to Play| 0.04953752965671454|\n",
      "|Valve Anti-Cheat ...| 0.04373740202987676|\n",
      "|Massively Multipl...| 0.03566209388607676|\n",
      "|            Strategy| 0.02730727176174579|\n",
      "|      Steam Workshop| 0.02702316670493185|\n",
      "|  Steam Achievements|0.024893189695088705|\n",
      "|Full controller s...|0.020631338441147413|\n",
      "|               Stats|0.020022547103735324|\n",
      "|              Action|0.016790904628036542|\n",
      "|    In-App Purchases| 0.01567156394652443|\n",
      "|               Co-op| 0.01545438833733108|\n",
      "|Includes level ed...|0.014507527867828824|\n",
      "|                 MMO|0.014213075388225102|\n",
      "|         Steam Cloud|0.013606546335881398|\n",
      "|Cross-Platform Mu...|0.010253171944529757|\n",
      "|       Single-player|0.009652069312237804|\n",
      "+--------------------+--------------------+\n",
      "only showing top 20 rows\n",
      "\n",
      "The user's top 10 predicted games (with predicted minutes played if they owned it):\n",
      "+------+--------------------+--------------------+--------------------+------------------+\n",
      "| appid|            features|              genres|                name|        prediction|\n",
      "+------+--------------------+--------------------+--------------------+------------------+\n",
      "|   570|(62,[0,2,3,6,12,1...|[Action, Free to ...|              Dota 2|15873.072222222225|\n",
      "|291480|(62,[0,2,3,9,12,1...|[Action, Free to ...|             Warface| 8438.725541770058|\n",
      "|273110|(62,[0,2,3,12,13,...|[Action, Casual, ...|Counter-Strike Ne...| 8385.088041770057|\n",
      "|260430|(62,[0,2,3,5,6,9,...|[Casual, Free to ...|The Four Kings Ca...| 8363.139061583579|\n",
      "|227940|(62,[0,2,3,9,19,2...|[Action, Free to ...|   Heroes & Generals| 8043.906256055772|\n",
      "|429540|(62,[0,2,3,12,15,...|[Free to Play, Ma...|Prime World: Defe...| 7949.892640692642|\n",
      "|301520|(62,[0,2,3,9,12,1...|[Action, Free to ...|           Robocraft| 7876.372922722439|\n",
      "|438040|(62,[0,2,3,15,17,...|[Adventure, Casua...|   Shakes and Fidget| 7686.194635176651|\n",
      "|552990|(62,[0,2,3,9,12,1...|[Action, Free to ...|   World of Warships| 7665.502208436725|\n",
      "|236390|(62,[0,2,3,5,13,1...|[Action, Free to ...|         War Thunder| 7604.903041770059|\n",
      "+------+--------------------+--------------------+--------------------+------------------+\n",
      "only showing top 10 rows\n",
      "\n",
      "RMSE: 1605.7846958590071\n",
      "+--------------------+-----+------------------+\n",
      "|                name|label|        prediction|\n",
      "+--------------------+-----+------------------+\n",
      "|Half-Life: Opposi...| 1836| 483.8662042522277|\n",
      "|Counter-Strike: S...| 1959|2237.1269840777504|\n",
      "|Half-Life 2: Deat...|   10| 631.9537042522277|\n",
      "|Half-Life Deathma...|    0|2022.8362828279871|\n",
      "|       Left 4 Dead 2|    0| 4810.555586635586|\n",
      "|            Portal 2| 1135|2145.0230866355864|\n",
      "|          Multiwinia|    0|360.09826726483107|\n",
      "|      Wolfenstein 3D|  224| 262.0827857970261|\n",
      "|       Ultimate Doom|    3|221.14360900890202|\n",
      "|            QUAKE II|  811|322.80183082231287|\n",
      "|Star Wars: Battle...| 1895| 599.9464020614429|\n",
      "|Civilization IV: ...|    0| 537.6785845023958|\n",
      "|Call of Duty: Wor...|   33| 2486.727450650506|\n",
      "|Unreal 2: The Awa...|  491| 604.5214039626408|\n",
      "|Unreal Tournament...| 6126|2229.6025828690863|\n",
      "|Unreal Tournament...| 5266| 1557.390028526881|\n",
      "|            Far Cry®|  377| 577.4279577038193|\n",
      "|Sid Meier's Civil...|    0| 647.1641612147972|\n",
      "|Company of Heroes...|    0| 763.1302159731927|\n",
      "|SimCity™ 4 Deluxe...|   41| 916.4069239791255|\n",
      "+--------------------+-----+------------------+\n",
      "only showing top 20 rows\n",
      "\n"
     ]
    }
   ],
   "source": [
    "# Kyle's Steam ID\n",
    "DoRandomForest(76561197982716241)"
   ]
  }
 ],
 "metadata": {
  "kernelspec": {
   "display_name": "Python 3 (ipykernel)",
   "language": "python",
   "name": "python3"
  },
  "language_info": {
   "codemirror_mode": {
    "name": "ipython",
    "version": 3
   },
   "file_extension": ".py",
   "mimetype": "text/x-python",
   "name": "python",
   "nbconvert_exporter": "python",
   "pygments_lexer": "ipython3",
   "version": "3.10.4"
  }
 },
 "nbformat": 4,
 "nbformat_minor": 5
}
