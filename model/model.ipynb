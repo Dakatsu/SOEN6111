{
 "cells": [
  {
   "cell_type": "markdown",
   "id": "585ee0ed",
   "metadata": {},
   "source": [
    "# Imports"
   ]
  },
  {
   "cell_type": "code",
   "execution_count": 22,
   "id": "fad0ad65",
   "metadata": {},
   "outputs": [],
   "source": [
    "import csv\n",
    "import os\n",
    "import sys\n",
    "# Spark imports\n",
    "from pyspark.rdd import RDD\n",
    "from pyspark.sql import DataFrame\n",
    "from pyspark.sql.types import IntegerType\n",
    "from pyspark.sql import SparkSession\n",
    "import operator\n",
    "# Dask imports\n",
    "import dask.bag as db\n",
    "import dask.dataframe as df  # you can use Dask bags or dataframes\n",
    "from csv import reader\n",
    "import numpy as np\n",
    "import pandas as pd\n",
    "import datetime\n",
    "from pyspark.sql.functions import *\n",
    "import sklearn\n",
    "from sklearn import preprocessing\n",
    "from sklearn.datasets import make_blobs\n",
    "from sklearn.preprocessing import StandardScaler\n",
    "from sklearn.feature_extraction.text import TfidfVectorizer\n",
    "from sklearn.metrics.pairwise import cosine_similarity\n",
    "import re\n",
    "# from scipy.sparse import csr_matrix\n",
    "# import scipy as sp\n",
    "import heapq\n",
    "# from surprise import CoClustering\n",
    "# from surprise import Dataset, Reader, SVD, accuracy\n",
    "# from surprise import KNNBaseline\n",
    "\n",
    "\n",
    "# Packages for model evaluation\n",
    "from sklearn.metrics import mean_squared_error\n",
    "from sklearn.metrics import mean_absolute_error\n",
    "from time import time\n",
    "\n",
    "# from surprise.model_selection import train_test_split\n",
    "# from sklearn.model_selection import train_test_split\n",
    "\n",
    "# Package to suppress warnings\n",
    "import warnings\n",
    "warnings.filterwarnings(\"ignore\")\n",
    "from pyspark.sql.functions import monotonically_increasing_id\n",
    "# Packages for saving models\n",
    "import pickle\n",
    "\n",
    "from re import split\n",
    "from pyspark.sql import SparkSession\n",
    "from pyspark.sql.types import StructType, DoubleType, IntegerType, StringType, DateType\n",
    "from pyspark.sql.functions import *\n",
    "from pyspark.ml.feature import VectorAssembler\n",
    "from pyspark.ml.evaluation import RegressionEvaluator\n",
    "from pyspark.ml.regression import RandomForestRegressor\n",
    "\n",
    "from pyspark.ml.feature import Normalizer\n",
    "from pyspark.ml.feature import FeatureHasher"
   ]
  },
  {
   "cell_type": "code",
   "execution_count": 2,
   "id": "c5ad03bd",
   "metadata": {},
   "outputs": [],
   "source": [
    "def init_spark():\n",
    "    spark = SparkSession \\\n",
    "        .builder \\\n",
    "        .appName(\"Python Spark SQL basic example\") \\\n",
    "        .config(\"spark.some.config.option\", \"some-value\") \\\n",
    "        .getOrCreate()\n",
    "    return spark"
   ]
  },
  {
   "cell_type": "code",
   "execution_count": 3,
   "id": "31128bad",
   "metadata": {},
   "outputs": [
    {
     "name": "stderr",
     "output_type": "stream",
     "text": [
      "22/03/30 20:03:52 WARN Utils: Your hostname, Sams-MacBook-Pro-2.local resolves to a loopback address: 127.0.0.1; using 172.30.120.246 instead (on interface en0)\n",
      "22/03/30 20:03:52 WARN Utils: Set SPARK_LOCAL_IP if you need to bind to another address\n",
      "22/03/30 20:03:53 WARN NativeCodeLoader: Unable to load native-hadoop library for your platform... using builtin-java classes where applicable\n",
      "Using Spark's default log4j profile: org/apache/spark/log4j-defaults.properties\n",
      "Setting default log level to \"WARN\".\n",
      "To adjust logging level use sc.setLogLevel(newLevel). For SparkR, use setLogLevel(newLevel).\n",
      "22/03/30 20:03:54 WARN Utils: Service 'SparkUI' could not bind on port 4040. Attempting port 4041.\n"
     ]
    }
   ],
   "source": [
    "spark=init_spark()"
   ]
  },
  {
   "cell_type": "markdown",
   "id": "29e0a618",
   "metadata": {},
   "source": [
    "## Generate Data For Base Game DataSet"
   ]
  },
  {
   "cell_type": "code",
   "execution_count": 4,
   "id": "a5a54997",
   "metadata": {},
   "outputs": [],
   "source": [
    "def generateData():\n",
    "    path_to_write = parentPath+'/data/datasets'\n",
    "    originalDataSet = pd.read_csv(parentPath+'/data/datasets/steam.csv')\n",
    "    if os.path.exists(path_to_write+'/games.csv'):\n",
    "        return pd.read_csv(path_to_write+'/games.csv')\n",
    "    for row in originalDataSet.iterrows():\n",
    "        row =row[1]\n",
    "        totalRatings = (row['positive_ratings'] + row['negative_ratings'])\n",
    "        if totalRatings == 0:\n",
    "            ratings = 0\n",
    "        else:\n",
    "            ratings = round((row['positive_ratings']/totalRatings) * 100,2)\n",
    "        dictionnary[row['appid']] = {\n",
    "                    \"name\": row['name'],\n",
    "                    \"price\": row['price'],\n",
    "                    \"release_date\": row['release_date'],\n",
    "                    \"required_age\": row['required_age'],\n",
    "                    \"publishers\": row['publisher'],\n",
    "                    \"developers\": row['developer'],\n",
    "                    \"categories\": row['categories'],\n",
    "                    \"genres\": row['genres'],\n",
    "                    \"ratings\": ratings,\n",
    "                    \"totalRatings\": totalRatings,\n",
    "                    \"average_playtime\": row['average_playtime'],\n",
    "                    \"median_playtime\": row['median_playtime'],\n",
    "                    \"num_owners\": row['owners']\n",
    "        }\n",
    "    \n",
    "    \n",
    "\n",
    "    df = pd.DataFrame.from_dict(dictionnary, orient='index')\n",
    "    df.index.name = 'appid'\n",
    "    if not os.path.exists(path_to_write):\n",
    "        os.mkdir(path_to_write)\n",
    "    \n",
    "    df.to_csv(path_to_write+'/games.csv')\n",
    "    return df"
   ]
  },
  {
   "cell_type": "markdown",
   "id": "e9a6d9af",
   "metadata": {},
   "source": [
    "## Generate the User Steam Dataset"
   ]
  },
  {
   "cell_type": "code",
   "execution_count": 5,
   "id": "304f0767",
   "metadata": {},
   "outputs": [],
   "source": [
    "url_user_info = \"https://api.steampowered.com/IPlayerService/GetOwnedGames/v1/?key=D399B9CAE07939881781DD36CC8CC442&steamid={}&include_appinfo=true&include_played_free_games=true\"\n",
    "def generateDataForUserSteamDataset():\n",
    "    dictionary=[]\n",
    "    path_to_write = parentPath+'/data/datasets'\n",
    "    if os.path.exists(path_to_write+'/steam_id_games.csv'):\n",
    "        return pd.read_csv(path_to_write+'/steam_id_games.csv')\n",
    "    originalDataSet = pd.read_csv(parentPath+'/data/datasets/steam_id.csv')\n",
    "    for row in originalDataSet.iterrows():\n",
    "        row =row[1]\n",
    "        try:\n",
    "            games = requests.get(url_user_info.format(row['steamid_a'])).json()['response']\n",
    "        except:\n",
    "            continue\n",
    "        if 'games' not in games:\n",
    "            continue\n",
    "        dataset = [{'steam_id':row['steamid_a'],\"appid\" :str(game['appid']), \"time_played_in_minutes\": game['playtime_forever'] } for game in games['games']]\n",
    "        dictionary = dataset+dictionary\n",
    "    df = pd.DataFrame.from_records(dictionary)\n",
    "    if not os.path.exists(path_to_write):\n",
    "        os.mkdir(path_to_write)\n",
    "    \n",
    "    df.to_csv(path_to_write+'/steam_id_games.csv')\n",
    "    return df"
   ]
  },
  {
   "cell_type": "code",
   "execution_count": 6,
   "id": "5fa7a6e2",
   "metadata": {},
   "outputs": [],
   "source": [
    "filename=\"../data/datasets/games.csv\"\n",
    "filename2=\"../data/datasets/steam_id_games.csv\""
   ]
  },
  {
   "cell_type": "code",
   "execution_count": 7,
   "id": "35b9346c",
   "metadata": {},
   "outputs": [],
   "source": [
    "from pyspark.sql.types import *\n",
    "games_schema = StructType() \\\n",
    "    .add(\"appid\", IntegerType(), True) \\\n",
    "    .add(\"name\", StringType(), True) \\\n",
    "    .add(\"price\", DoubleType(), True) \\\n",
    "    .add(\"release_date\", StringType(), True) \\\n",
    "    .add(\"required_age\", IntegerType(), True) \\\n",
    "    .add(\"publishers\", StringType(), True) \\\n",
    "    .add(\"developers\", StringType(), True) \\\n",
    "    .add(\"categories\", StringType(), True) \\\n",
    "    .add(\"genres\", StringType(), True) \\\n",
    "    .add(\"ratings\", DoubleType(), True) \\\n",
    "    .add(\"totalRatings\", IntegerType(), True) \\\n",
    "    .add(\"average_playtime\", DoubleType(), True) \\\n",
    "    .add(\"median_playtime\", IntegerType(), True) \\\n",
    "    .add(\"num_owners\", StringType(), True)\n",
    "games = spark.read.schema(games_schema).csv(filename, header=True).dropna()\n"
   ]
  },
  {
   "cell_type": "code",
   "execution_count": 8,
   "id": "ae101f92",
   "metadata": {},
   "outputs": [
    {
     "data": {
      "text/plain": [
       "[Row(appid=10, name='Counter-Strike', price=7.19, release_date='2000-11-01', required_age=0, publishers='Valve', developers='Valve', categories='Multi-player;Online Multi-Player;Local Multi-Player;Valve Anti-Cheat enabled', genres='Action', ratings=97.39, totalRatings=127873, average_playtime=17612.0, median_playtime=317, num_owners='10000000-20000000'),\n",
       " Row(appid=20, name='Team Fortress Classic', price=3.99, release_date='1999-04-01', required_age=0, publishers='Valve', developers='Valve', categories='Multi-player;Online Multi-Player;Local Multi-Player;Valve Anti-Cheat enabled', genres='Action', ratings=83.98, totalRatings=3951, average_playtime=277.0, median_playtime=62, num_owners='5000000-10000000'),\n",
       " Row(appid=30, name='Day of Defeat', price=3.99, release_date='2003-05-01', required_age=0, publishers='Valve', developers='Valve', categories='Multi-player;Valve Anti-Cheat enabled', genres='Action', ratings=89.56, totalRatings=3814, average_playtime=187.0, median_playtime=34, num_owners='5000000-10000000'),\n",
       " Row(appid=40, name='Deathmatch Classic', price=3.99, release_date='2001-06-01', required_age=0, publishers='Valve', developers='Valve', categories='Multi-player;Online Multi-Player;Local Multi-Player;Valve Anti-Cheat enabled', genres='Action', ratings=82.66, totalRatings=1540, average_playtime=258.0, median_playtime=184, num_owners='5000000-10000000'),\n",
       " Row(appid=50, name='Half-Life: Opposing Force', price=3.99, release_date='1999-11-01', required_age=0, publishers='Valve', developers='Gearbox Software', categories='Single-player;Multi-player;Valve Anti-Cheat enabled', genres='Action', ratings=94.8, totalRatings=5538, average_playtime=624.0, median_playtime=415, num_owners='5000000-10000000')]"
      ]
     },
     "execution_count": 8,
     "metadata": {},
     "output_type": "execute_result"
    }
   ],
   "source": [
    "games.take(5)"
   ]
  },
  {
   "cell_type": "markdown",
   "id": "2a0b0b1e",
   "metadata": {},
   "source": [
    "## Normalization"
   ]
  },
  {
   "cell_type": "markdown",
   "id": "5cb35676",
   "metadata": {},
   "source": [
    "We wanted to have some sort of normilization to improve the accuarcy of our models. We first wanted to focus on the columns that were quantatitive, but we ended using the FeatureHasher for transforming our dataframe into vectors. The reason behind such a decision is that we had a mixture of data that was not uniform that why we want with this one, instead of other transformers such as Word2Vec, TF-IDF, etc.\n",
    "We ended up normalization two columns mainly totalRatings and AveragePlayTime"
   ]
  },
  {
   "cell_type": "code",
   "execution_count": 23,
   "id": "e3c00732",
   "metadata": {},
   "outputs": [],
   "source": [
    "# normalizer = Normalizer(inputCol=\"price\", outputCol=\"price\")\n",
    "# myGames = normalizer.transform(myGames)\n",
    "hasher = FeatureHasher(inputCols=[\"price\", \"release_date\", \"required_age\", \"ratings\",\"totalRatings\",\"average_playtime\",\"median_playtime\",\"Action\"],\n",
    "                       outputCol=\"features\")\n",
    "\n",
    "featurized = hasher.transform(myGames)\n",
    "listOfGames=featurized.take(100)\n",
    "\n",
    "featurized.head()\n",
    "\n",
    "myGames3 = myGames.take(10000)\n",
    "normalizer = Normalizer(inputCol=\"features\", outputCol=\"normFeatures\", p=1.0)\n",
    "l1NormData = normalizer.transform(featurized)\n",
    "l1NormData.head()\n",
    "\n",
    "# lInfNormData = normalizer.transform(featurized, {normalizer.p: float(\"inf\")})\n",
    "listOfGames=l1NormData.take(10)\n",
    "# listOfGames.reshape(-1, 1)\n",
    "# X_normalized = normalizer(myGames, copy=True)\n",
    "type(listOfGames)\n",
    "listOfGames=np.array([listOfGames], dtype=object)"
   ]
  },
  {
   "cell_type": "markdown",
   "id": "3c70905a",
   "metadata": {
    "pycharm": {
     "name": "#%% md\n"
    }
   },
   "source": [
    "## Data Preprocessing"
   ]
  },
  {
   "cell_type": "markdown",
   "id": "87c178e8",
   "metadata": {},
   "source": [
    "Our data was already cleaned by Steam due to constraints on gathering their data"
   ]
  },
  {
   "cell_type": "code",
   "execution_count": 9,
   "id": "12b221ab",
   "metadata": {
    "pycharm": {
     "name": "#%%\n"
    }
   },
   "outputs": [],
   "source": [
    "# get the yaer of release_date\n",
    "games = games.withColumn('release_date', col('release_date')[0:4])\n",
    "games = games.withColumn(\"release_date\", games[\"release_date\"].cast(IntegerType()))"
   ]
  },
  {
   "cell_type": "markdown",
   "id": "ede78312",
   "metadata": {},
   "source": [
    "Genres and Categories were extremely strings leading to be 977 different features, we eneded up seperating those features which made the total number of categories and genres to less than 50. "
   ]
  },
  {
   "cell_type": "code",
   "execution_count": 10,
   "id": "92a86dd4",
   "metadata": {
    "pycharm": {
     "name": "#%%\n"
    }
   },
   "outputs": [
    {
     "name": "stderr",
     "output_type": "stream",
     "text": [
      "                                                                                \r"
     ]
    }
   ],
   "source": [
    "#create columns for genres\n",
    "games = games.withColumn('genres', split(col('genres'), ';'))\n",
    "uniq_genres = games.select('genres').distinct().collect()\n",
    "unic_genres_set = set()\n",
    "for u in uniq_genres:\n",
    "    for i in u.genres:\n",
    "        unic_genres_set.add(i)\n",
    "unic_genres_set\n",
    "\n",
    "for i in unic_genres_set:\n",
    "    games = games.withColumn(i,when(array_contains(games.genres,i), 1).otherwise(0))"
   ]
  },
  {
   "cell_type": "code",
   "execution_count": 11,
   "id": "fbc54b9a",
   "metadata": {
    "pycharm": {
     "name": "#%%\n"
    }
   },
   "outputs": [
    {
     "name": "stderr",
     "output_type": "stream",
     "text": [
      "22/03/30 20:04:00 WARN package: Truncated the string representation of a plan since it was too large. This behavior can be adjusted by setting 'spark.sql.debug.maxToStringFields'.\n"
     ]
    }
   ],
   "source": [
    "# create columns for the categories\n",
    "games = games.withColumn('categories', split(col('categories'), ';'))\n",
    "uniq_cat = games.select('categories').distinct().collect()\n",
    "unic_cat_set = set()\n",
    "for u in uniq_cat:\n",
    "    for i in u.categories:\n",
    "        # if not i in games2.columns:\n",
    "        #     games2 = games2.withColumn(i, 0)\n",
    "        unic_cat_set.add(i)\n",
    "unic_cat_set\n",
    "\n",
    "for i in unic_cat_set:\n",
    "    games = games.withColumn(i,when(array_contains(games.categories,i), 1).otherwise(0))"
   ]
  },
  {
   "cell_type": "code",
   "execution_count": 12,
   "id": "b333936a",
   "metadata": {
    "pycharm": {
     "name": "#%%\n"
    }
   },
   "outputs": [
    {
     "data": {
      "text/plain": [
       "[Row(appid=10, name='Counter-Strike', price=7.19, release_date=2000, required_age=0, publishers='Valve', developers='Valve', categories=['Multi-player', 'Online Multi-Player', 'Local Multi-Player', 'Valve Anti-Cheat enabled'], genres=['Action'], ratings=97.39, totalRatings=127873, average_playtime=17612.0, median_playtime=317, num_owners='10000000-20000000', Massively Multiplayer=0, Documentary=0, Software Training=0, Education=0, Indie=0, Simulation=0, Sports=0, Audio Production=0, RPG=0, Sexual Content=0, Strategy=0, Tutorial=0, Early Access=0, Game Development=0, Gore=0, Photo Editing=0, Video Production=0, Free to Play=0, Violent=0, Nudity=0, Racing=0, Utilities=0, Action=1, Accounting=0, Animation & Modeling=0, Casual=0, Design & Illustration=0, Adventure=0, Web Publishing=0, Steam Leaderboards=0, Full controller support=0, Online Multi-Player=1, Mods (require HL2)=0, Includes level editor=0, Multi-player=1, Valve Anti-Cheat enabled=1, Stats=0, Mods=0, Includes Source SDK=0, Online Co-op=0, Shared/Split Screen=0, Co-op=0, VR Support=0, Cross-Platform Multiplayer=0, Local Co-op=0, Steam Turn Notifications=0, Steam Cloud=0, Steam Workshop=0, SteamVR Collectibles=0, Captions available=0, MMO=0, Steam Trading Cards=0, Local Multi-Player=1, Commentary available=0, Single-player=0, Steam Achievements=0, In-App Purchases=0, Partial Controller Support=0, RowNumber=0)]"
      ]
     },
     "execution_count": 12,
     "metadata": {},
     "output_type": "execute_result"
    }
   ],
   "source": [
    "# add the column to store the index of the row\n",
    "games = games.select(\"*\").withColumn(\"RowNumber\", monotonically_increasing_id())\n",
    "games.take(1)"
   ]
  },
  {
   "cell_type": "code",
   "execution_count": 13,
   "id": "5e66acb4",
   "metadata": {
    "pycharm": {
     "name": "#%%\n"
    }
   },
   "outputs": [],
   "source": [
    "# create a dataset with features that we need for the model\n",
    "myGames=games.drop('appid',\"developers\",\"genres\",\"name\",\"publishers\",\"categories\",\"num_owners\",)"
   ]
  },
  {
   "cell_type": "code",
   "execution_count": 14,
   "id": "2a55182c",
   "metadata": {},
   "outputs": [
    {
     "data": {
      "text/plain": [
       "[Row(price=7.19, release_date=2000, required_age=0, ratings=97.39, totalRatings=127873, average_playtime=17612.0, median_playtime=317, Massively Multiplayer=0, Documentary=0, Software Training=0, Education=0, Indie=0, Simulation=0, Sports=0, Audio Production=0, RPG=0, Sexual Content=0, Strategy=0, Tutorial=0, Early Access=0, Game Development=0, Gore=0, Photo Editing=0, Video Production=0, Free to Play=0, Violent=0, Nudity=0, Racing=0, Utilities=0, Action=1, Accounting=0, Animation & Modeling=0, Casual=0, Design & Illustration=0, Adventure=0, Web Publishing=0, Steam Leaderboards=0, Full controller support=0, Online Multi-Player=1, Mods (require HL2)=0, Includes level editor=0, Multi-player=1, Valve Anti-Cheat enabled=1, Stats=0, Mods=0, Includes Source SDK=0, Online Co-op=0, Shared/Split Screen=0, Co-op=0, VR Support=0, Cross-Platform Multiplayer=0, Local Co-op=0, Steam Turn Notifications=0, Steam Cloud=0, Steam Workshop=0, SteamVR Collectibles=0, Captions available=0, MMO=0, Steam Trading Cards=0, Local Multi-Player=1, Commentary available=0, Single-player=0, Steam Achievements=0, In-App Purchases=0, Partial Controller Support=0, RowNumber=0)]"
      ]
     },
     "execution_count": 14,
     "metadata": {},
     "output_type": "execute_result"
    }
   ],
   "source": [
    "myGames.head(1)"
   ]
  },
  {
   "cell_type": "markdown",
   "id": "0089ae4b",
   "metadata": {
    "pycharm": {
     "name": "#%% md\n"
    }
   },
   "source": [
    "## First Model : Cosine Similarity"
   ]
  },
  {
   "cell_type": "code",
   "execution_count": 15,
   "id": "562d62cb",
   "metadata": {},
   "outputs": [
    {
     "name": "stderr",
     "output_type": "stream",
     "text": [
      "                                                                                \r"
     ]
    },
    {
     "data": {
      "text/plain": [
       "array([[1.00000000e+00, 8.97414146e-01, 8.89050930e-01, ...,\n",
       "        3.76547723e-09, 3.99609567e-09, 6.07002769e-09],\n",
       "       [8.97414146e-01, 1.00000000e+00, 9.99682562e-01, ...,\n",
       "        2.25443188e-04, 2.25443395e-04, 2.25445218e-04],\n",
       "       [8.89050930e-01, 9.99682562e-01, 1.00000000e+00, ...,\n",
       "        4.63813819e-04, 4.63814024e-04, 4.63815831e-04],\n",
       "       ...,\n",
       "       [3.76547723e-09, 2.25443188e-04, 4.63813819e-04, ...,\n",
       "        1.00000000e+00, 1.00000000e+00, 1.00000000e+00],\n",
       "       [3.99609567e-09, 2.25443395e-04, 4.63814024e-04, ...,\n",
       "        1.00000000e+00, 1.00000000e+00, 1.00000000e+00],\n",
       "       [6.07002769e-09, 2.25445218e-04, 4.63815831e-04, ...,\n",
       "        1.00000000e+00, 1.00000000e+00, 1.00000000e+00]])"
      ]
     },
     "execution_count": 15,
     "metadata": {},
     "output_type": "execute_result"
    }
   ],
   "source": [
    "from sklearn.metrics.pairwise import cosine_similarity\n",
    "myGames2 = myGames.take(27000)\n",
    "\n",
    "cos_sim_data = cosine_similarity(myGames2)\n",
    "cos_sim_data"
   ]
  },
  {
   "cell_type": "code",
   "execution_count": 16,
   "id": "3e249ca3",
   "metadata": {
    "pycharm": {
     "name": "#%%\n"
    }
   },
   "outputs": [
    {
     "data": {
      "text/plain": [
       "list"
      ]
     },
     "execution_count": 16,
     "metadata": {},
     "output_type": "execute_result"
    }
   ],
   "source": [
    "type(myGames2)"
   ]
  },
  {
   "cell_type": "code",
   "execution_count": 17,
   "id": "6f658ed8",
   "metadata": {
    "pycharm": {
     "name": "#%%\n"
    }
   },
   "outputs": [],
   "source": [
    "# temp = pd.DataFrame(cos_sim_data)\n",
    "# cos_sim_df = spark.createDataFrame(temp)\n",
    "# cos_sim_df.take(5)"
   ]
  },
  {
   "cell_type": "code",
   "execution_count": 18,
   "id": "49dd976b",
   "metadata": {
    "pycharm": {
     "name": "#%%\n"
    }
   },
   "outputs": [],
   "source": [
    "# // I need to create a function that get the appId and find the N top similar apps!!!\n",
    "def generate_top_N_recommendationsX(appId, N=10):\n",
    "    # appId = 0\n",
    "    row = GetValueFromDataframe(games.filter(games.appid == appId),\"RowNumber\")\n",
    "    sim_scores = list(enumerate(cos_sim_data[row]))\n",
    "    sim_scores = sorted(sim_scores, key=lambda x: x[1], reverse=True)\n",
    "    sim_scores = sim_scores[1:N]\n",
    "    game_indices = [i[0] for i in sim_scores]\n",
    "    names = games.where(col(\"RowNumber\").isin(game_indices)).select(\"name\")\n",
    "    return names\n",
    "\n",
    "\n",
    "def GetValueFromDataframe(_df,columnName):\n",
    "    for row in _df.rdd.collect():\n",
    "        return row[columnName]"
   ]
  },
  {
   "cell_type": "code",
   "execution_count": 19,
   "id": "f169a19f",
   "metadata": {
    "pycharm": {
     "name": "#%%\n"
    }
   },
   "outputs": [
    {
     "name": "stdout",
     "output_type": "stream",
     "text": [
      "+--------------------+\n",
      "|                name|\n",
      "+--------------------+\n",
      "|Counter-Strike: S...|\n",
      "|Mount & Blade: Wa...|\n",
      "|              Arma 3|\n",
      "|        APB Reloaded|\n",
      "|Realm of the Mad God|\n",
      "|Total War™: ROME ...|\n",
      "|Kerbal Space Program|\n",
      "|       Path of Exile|\n",
      "|ARK: Survival Evo...|\n",
      "+--------------------+\n",
      "\n"
     ]
    }
   ],
   "source": [
    "equalnames = generate_top_N_recommendationsX(str(10))\n",
    "equalnames.show()"
   ]
  },
  {
   "cell_type": "markdown",
   "id": "17b2c8f8",
   "metadata": {
    "pycharm": {
     "name": "#%% md\n"
    }
   },
   "source": [
    "## Model2 : Random Forest"
   ]
  },
  {
   "cell_type": "markdown",
   "id": "645a8d57",
   "metadata": {},
   "source": []
  },
  {
   "cell_type": "code",
   "execution_count": 20,
   "id": "32a70373",
   "metadata": {
    "pycharm": {
     "name": "#%%\n"
    }
   },
   "outputs": [
    {
     "name": "stderr",
     "output_type": "stream",
     "text": [
      "\r",
      "[Stage 13:>                                                         (0 + 3) / 3]\r",
      "\r",
      "                                                                                \r"
     ]
    },
    {
     "name": "stdout",
     "output_type": "stream",
     "text": [
      "Owned Games: 216\n",
      "User's top games:\n",
      "+--------------------+--------------------+----------------------+\n",
      "|                name|              genres|time_played_in_minutes|\n",
      "+--------------------+--------------------+----------------------+\n",
      "|                DOOM|            [Action]|                  6566|\n",
      "|  Two Point Hospital| [Indie, Simulation]|                  5606|\n",
      "|          Anno 2070™|          [Strategy]|                  3850|\n",
      "|           Tropico 5|[RPG, Simulation,...|                  3836|\n",
      "|LEGO® Batman™ 3: ...| [Action, Adventure]|                  3699|\n",
      "|Call of Duty®: Bl...|            [Action]|                  2774|\n",
      "|     Game Dev Tycoon|[Casual, Indie, S...|                  2627|\n",
      "|  Duke Nukem Forever|            [Action]|                  2432|\n",
      "|              Dota 2|[Action, Free to ...|                  2324|\n",
      "|    Castle Crashers®|[Action, Adventur...|                  2198|\n",
      "|Jurassic World Ev...|[Simulation, Stra...|                  2025|\n",
      "|       Left 4 Dead 2|            [Action]|                  2002|\n",
      "|Call of Duty®: In...| [Action, Adventure]|                  1922|\n",
      "|Counter-Strike: G...|[Action, Free to ...|                  1884|\n",
      "|      Rocket League®|[Action, Indie, R...|                  1713|\n",
      "|Wolfenstein: The ...|            [Action]|                  1703|\n",
      "|LEGO® Indiana Jon...| [Action, Adventure]|                  1629|\n",
      "|      Counter-Strike|            [Action]|                  1538|\n",
      "|           Tropico 4|[Simulation, Stra...|                  1363|\n",
      "|           Homefront|            [Action]|                  1143|\n",
      "+--------------------+--------------------+----------------------+\n",
      "only showing top 20 rows\n",
      "\n"
     ]
    },
    {
     "name": "stderr",
     "output_type": "stream",
     "text": [
      "                                                                                \r"
     ]
    },
    {
     "name": "stdout",
     "output_type": "stream",
     "text": [
      "The user's top predicted games (with predicted minutes played if they owned it):\n"
     ]
    },
    {
     "name": "stderr",
     "output_type": "stream",
     "text": [
      "\r",
      "[Stage 36:=============================>                            (1 + 1) / 2]\r"
     ]
    },
    {
     "name": "stdout",
     "output_type": "stream",
     "text": [
      "+------+--------------------+--------------------+--------------------+------------------+\n",
      "| appid|            features|              genres|                name|        prediction|\n",
      "+------+--------------------+--------------------+--------------------+------------------+\n",
      "|244850|(62,[0,1,2,3,6,8,...|[Action, Indie, S...|     Space Engineers|3844.2050000000004|\n",
      "|252490|(62,[0,1,2,3,6,9,...|[Action, Adventur...|                Rust| 3833.979878048781|\n",
      "|582010|(62,[0,1,2,3,4,9,...|            [Action]|MONSTER HUNTER: W...| 3823.551724137931|\n",
      "|242760|(62,[0,1,2,3,9,16...|[Action, Adventur...|          The Forest| 3798.164523809524|\n",
      "|365590|(62,[0,1,2,3,9,16...|[Action, Adventur...|Tom Clancy’s The ...|3529.1231249999996|\n",
      "|381210|(62,[0,1,2,3,5,6,...|            [Action]|    Dead by Daylight|3195.2059327458583|\n",
      "|253250|(62,[0,1,2,3,6,9,...|[Indie, Simulatio...|         Stonehearth|2948.2115447154474|\n",
      "|275850|(62,[0,1,2,3,5,6,...| [Action, Adventure]|        No Man's Sky|2844.4048642208872|\n",
      "|374320|(62,[0,1,2,3,5,9,...|            [Action]|     DARK SOULS™ III| 2839.258011500437|\n",
      "|302670|(62,[0,2,3,4,6,8,...|[Action, Free to ...|        Call to Arms|2745.7880341880345|\n",
      "|291550|(62,[0,2,3,5,6,9,...|[Action, Free to ...|          Brawlhalla| 2723.925447775264|\n",
      "|787860|(62,[0,1,2,3,5,9,...|        [Simulation]|Farming Simulator 19|2696.1647736161767|\n",
      "|444090|(62,[0,2,3,6,9,26...|[Action, Free to ...|           Paladins®| 2652.253769479595|\n",
      "|489830|(62,[0,1,2,3,21,2...|               [RPG]|The Elder Scrolls...|2625.0519766631833|\n",
      "|232890|(62,[0,1,2,3,6,8,...|[Simulation, Stra...|Stronghold Crusad...|2562.0908843240095|\n",
      "|413150|(62,[0,1,2,3,9,16...|[Indie, RPG, Simu...|      Stardew Valley| 2561.745927167379|\n",
      "|211820|(62,[0,1,2,3,6,9,...|[Action, Adventur...|           Starbound|2561.5552614278467|\n",
      "|232090|(62,[0,1,2,3,5,6,...|            [Action]|     Killing Floor 2|  2559.98768617203|\n",
      "|264710|(62,[0,1,2,3,5,17...|  [Adventure, Indie]|          Subnautica|2498.3633888028735|\n",
      "|466560|(62,[0,1,2,3,6,9,...|[Indie, Simulatio...|           Northgard|2428.3693302632328|\n",
      "|578080|(62,[0,1,2,3,6,9,...|[Action, Adventur...|PLAYERUNKNOWN'S B...|2422.2828472222222|\n",
      "|359550|(62,[0,1,2,3,9,16...|            [Action]|Tom Clancy's Rain...|2390.8152129120876|\n",
      "|221100|(62,[0,1,2,3,6,9,...|[Action, Adventur...|                DayZ|2384.5495482295482|\n",
      "|357310|(62,[0,1,2,3,6,9,...|[Indie, Simulatio...|    Oriental Empires|2364.7885506346465|\n",
      "|431960|(62,[0,1,2,3,8,22...|[Animation & Mode...|    Wallpaper Engine| 2356.461937019595|\n",
      "|245470|(62,[0,1,2,3,4,22...|[Indie, Simulatio...|         Democracy 3|2354.6477844563806|\n",
      "|502500|(62,[0,1,2,3,5,6,...|[Action, Simulation]|ACE COMBAT™ 7: SK...|2338.9462214276246|\n",
      "|301520|(62,[0,2,3,6,9,14...|[Action, Free to ...|           Robocraft|2319.8053485947835|\n",
      "|517780|(62,[0,1,2,3,6,9,...|   [Indie, Strategy]|                Ogre| 2316.809801795531|\n",
      "|858810|(62,[0,1,2,3,22,2...|[Indie, Simulatio...|         Dawn of Man| 2292.295725069407|\n",
      "|560380|(62,[0,2,3,6,9,14...|[Action, Adventur...|        MapleStory 2|2286.3192329669555|\n",
      "|507490|(62,[0,1,2,3,6,9,...|[Indie, Simulatio...|Ashes of the Sing...| 2274.366418600014|\n",
      "|346110|(62,[0,1,2,3,5,8,...|[Action, Adventur...|ARK: Survival Evo...|2237.5775150829563|\n",
      "|387090|(62,[0,1,2,3,8,9,...|[Adventure, Indie...|Revolution : Virt...|2229.7205508474576|\n",
      "|675010|(62,[0,1,2,3,5,14...|        [Simulation]|           MudRunner| 2203.529714311656|\n",
      "|599140|(62,[0,1,2,3,5,21...|[Adventure, Indie...|    Graveyard Keeper| 2180.667408182046|\n",
      "|613100|(62,[0,1,2,3,5,21...| [Indie, Simulation]|       House Flipper| 2180.667408182046|\n",
      "|227940|(62,[0,2,3,6,9,14...|[Action, Free to ...|   Heroes & Generals| 2178.861230947725|\n",
      "|244030|(62,[0,1,2,3,9,16...|        [Simulation]|        Take On Mars| 2171.589259719039|\n",
      "|842250|(62,[0,1,2,3,6,8,...|[Action, Adventur...|GM Forge - Virtua...| 2165.730805860806|\n",
      "|641990|(62,[0,1,2,3,4,5,...|[Indie, Simulatio...|     The Escapists 2| 2165.372217215256|\n",
      "|552920|(62,[0,1,2,3,6,22...|[Indie, Massively...|Sailaway - The Sa...|2165.1587957385755|\n",
      "|308173|(62,[0,1,2,3,8,21...|[Indie, Simulatio...|Hegemony III: Cla...| 2146.312360158456|\n",
      "|515180|(62,[0,1,2,3,9,16...|        [Simulation]|    Bus Simulator 18|2140.9904335452134|\n",
      "|431700|(62,[0,1,2,3,8,9,...|[Indie, RPG, Stra...|Age of Fear 3: Th...|2123.4114839901476|\n",
      "|279140|(62,[0,1,2,3,8,9,...|[Indie, Simulatio...|Making History: T...|2105.2519855144856|\n",
      "|107410|(62,[0,1,2,3,4,6,...|[Action, Simulati...|              Arma 3|2100.6501831501832|\n",
      "|735280|(62,[0,1,2,3,6,8,...|[Simulation, Stra...|        EMERGENCY 20| 2092.086004836948|\n",
      "|552500|(62,[0,1,2,3,14,1...|            [Action]|Warhammer: Vermin...|2091.2223921273494|\n",
      "|455980|(62,[0,1,2,3,21,2...|[Indie, Simulatio...|Judgment: Apocaly...|2089.4262907978173|\n",
      "+------+--------------------+--------------------+--------------------+------------------+\n",
      "only showing top 50 rows\n",
      "\n"
     ]
    },
    {
     "name": "stderr",
     "output_type": "stream",
     "text": [
      "\r",
      "[Stage 37:===================================================>  (191 + 9) / 200]\r",
      "\r",
      "                                                                                \r"
     ]
    }
   ],
   "source": [
    "# The users dataframe is not currently used.\n",
    "#users_df = spark.read.csv(users_csv, header=True, inferSchema=True)\n",
    "# Init the users/games relation dataframe.\n",
    "users_games_df = spark.read.csv(filename2, header=True, inferSchema=True).drop(\"_c0\")\n",
    "\n",
    "# DO CALCULATION HERE\n",
    "# Pick the user ID to test.\n",
    "user_id = 76561197960360459 # 76561197982716241\n",
    "\n",
    "# Feature assembler: make a vector of all features.\n",
    "inputColsList = [\"ratings\", \"price\", \"release_date\", \"totalRatings\"]\n",
    "inputColsList.extend(unic_cat_set)\n",
    "inputColsList.extend(unic_genres_set)\n",
    "vector_assembler = VectorAssembler().setInputCols(inputColsList).setOutputCol(\"features\")\n",
    "vectorized_games = vector_assembler.transform(games)\n",
    "#vectorized_games.select(\"name\", \"ratings\", \"Action\", \"Nudity\", \"Simulation\", \"features\").show()\n",
    "\n",
    "# Join the vectorized games with the user/games relation table.\n",
    "users_games_joined_df = users_games_df.join(vectorized_games, \"appid\", \"inner\")\n",
    "\n",
    "# Get the data for the games the player has played.\n",
    "owned_games_df = users_games_joined_df.filter(users_games_joined_df.steam_id == user_id)\n",
    "user_games_count = owned_games_df.count()\n",
    "print(\"Owned Games:\", user_games_count)\n",
    "if user_games_count > 0:\n",
    "    # Print the games this user has played the most (for comparison to final predictions).\n",
    "    print(\"User's top games:\")\n",
    "    owned_games_df.sort(owned_games_df.time_played_in_minutes.desc()).select(\"name\", \"genres\", \"time_played_in_minutes\").show()\n",
    "\n",
    "    # Extract the list of unowned games by removing the already owned ones.\n",
    "    unowned_games_df = vectorized_games.join(owned_games_df, \"appid\", \"leftanti\")\n",
    "\n",
    "    # Build Random Forest Regression based on time the user played each game in their library.\n",
    "    randForest = RandomForestRegressor()\n",
    "    model = randForest.fit(owned_games_df.withColumnRenamed(\"time_played_in_minutes\", \"label\"))\n",
    "\n",
    "    # Run the model on unowned game data.\n",
    "    predictions = model.transform(unowned_games_df).sort(col(\"prediction\").desc())\n",
    "    print(\"The user's top predicted games (with predicted minutes played if they owned it):\")\n",
    "    predictions.select('appid', 'features', 'genres', 'name', 'prediction').show(50)\n",
    "\n",
    "    # Model evaluation (probably not really possible)\n",
    "    # We'd need both labels and predictions to determine how far off we were.\n",
    "    # But the labels don't exist for unknown games. :'(\n",
    "    #evaluator = RegressionEvaluator()\n",
    "    #print(evaluator.evaluate(predictions, {evaluator.metricName: \"rmse\"}))"
   ]
  },
  {
   "cell_type": "code",
   "execution_count": null,
   "id": "ce3e650b",
   "metadata": {
    "pycharm": {
     "name": "#%%\n"
    }
   },
   "outputs": [],
   "source": []
  }
 ],
 "metadata": {
  "kernelspec": {
   "display_name": "Python 3 (ipykernel)",
   "language": "python",
   "name": "python3"
  },
  "language_info": {
   "codemirror_mode": {
    "name": "ipython",
    "version": 3
   },
   "file_extension": ".py",
   "mimetype": "text/x-python",
   "name": "python",
   "nbconvert_exporter": "python",
   "pygments_lexer": "ipython3",
   "version": "3.8.12"
  }
 },
 "nbformat": 4,
 "nbformat_minor": 5
}
