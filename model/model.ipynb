{
 "cells": [
  {
   "cell_type": "markdown",
   "id": "d97a558a",
   "metadata": {},
   "source": [
    "# Imports"
   ]
  },
  {
   "cell_type": "code",
   "execution_count": 90,
   "id": "fad0ad65",
   "metadata": {},
   "outputs": [],
   "source": [
    "import csv\n",
    "import os\n",
    "import sys\n",
    "# Spark imports\n",
    "from pyspark.rdd import RDD\n",
    "from pyspark.sql import DataFrame\n",
    "from pyspark.sql.types import IntegerType\n",
    "from pyspark.sql import SparkSession\n",
    "from pyspark.sql.types import *\n",
    "import operator\n",
    "# Dask imports\n",
    "import dask.bag as db\n",
    "import dask.dataframe as df  # you can use Dask bags or dataframes\n",
    "from csv import reader\n",
    "import numpy as np\n",
    "import pandas as pd\n",
    "import datetime\n",
    "from pyspark.sql.functions import *\n",
    "import sklearn\n",
    "from sklearn import preprocessing\n",
    "from sklearn.datasets import make_blobs\n",
    "from sklearn.preprocessing import StandardScaler\n",
    "from sklearn.feature_extraction.text import TfidfVectorizer\n",
    "from sklearn.metrics.pairwise import cosine_similarity\n",
    "import re\n",
    "# from scipy.sparse import csr_matrix\n",
    "# import scipy as sp\n",
    "import heapq\n",
    "# from surprise import CoClustering\n",
    "# from surprise import Dataset, Reader, SVD, accuracy\n",
    "# from surprise import KNNBaseline\n",
    "\n",
    "\n",
    "# Packages for model evaluation\n",
    "from sklearn.metrics import mean_squared_error\n",
    "from sklearn.metrics import mean_absolute_error\n",
    "from time import time\n",
    "\n",
    "# from surprise.model_selection import train_test_split\n",
    "# from sklearn.model_selection import train_test_split\n",
    "\n",
    "# Package to suppress warnings\n",
    "import warnings\n",
    "warnings.filterwarnings(\"ignore\")\n",
    "from pyspark.sql.functions import monotonically_increasing_id\n",
    "# Packages for saving models\n",
    "import pickle\n",
    "\n",
    "from re import split\n",
    "from pyspark.sql import SparkSession\n",
    "from pyspark.sql.types import StructType, DoubleType, IntegerType, StringType, DateType\n",
    "from pyspark.sql.functions import *\n",
    "from pyspark.ml.feature import VectorAssembler\n",
    "from pyspark.ml.evaluation import RegressionEvaluator\n",
    "from pyspark.ml.regression import RandomForestRegressor"
   ]
  },
  {
   "cell_type": "code",
   "execution_count": 2,
   "id": "c5ad03bd",
   "metadata": {},
   "outputs": [],
   "source": [
    "def init_spark():\n",
    "    spark = SparkSession \\\n",
    "        .builder \\\n",
    "        .appName(\"Python Spark SQL basic example\") \\\n",
    "        .config(\"spark.some.config.option\", \"some-value\") \\\n",
    "        .getOrCreate()\n",
    "    return spark"
   ]
  },
  {
   "cell_type": "code",
   "execution_count": 3,
   "id": "31128bad",
   "metadata": {},
   "outputs": [
    {
     "name": "stderr",
     "output_type": "stream",
     "text": [
      "22/04/11 18:19:59 WARN Utils: Your hostname, Sams-MacBook-Pro-2.local resolves to a loopback address: 127.0.0.1; using 172.30.22.156 instead (on interface en0)\n",
      "22/04/11 18:19:59 WARN Utils: Set SPARK_LOCAL_IP if you need to bind to another address\n",
      "22/04/11 18:20:00 WARN NativeCodeLoader: Unable to load native-hadoop library for your platform... using builtin-java classes where applicable\n",
      "Using Spark's default log4j profile: org/apache/spark/log4j-defaults.properties\n",
      "Setting default log level to \"WARN\".\n",
      "To adjust logging level use sc.setLogLevel(newLevel). For SparkR, use setLogLevel(newLevel).\n",
      "22/04/11 18:20:01 WARN Utils: Service 'SparkUI' could not bind on port 4040. Attempting port 4041.\n"
     ]
    }
   ],
   "source": [
    "spark=init_spark()"
   ]
  },
  {
   "cell_type": "markdown",
   "id": "fecee1f5",
   "metadata": {},
   "source": [
    "## Generate Data For Base Game DataSet"
   ]
  },
  {
   "cell_type": "code",
   "execution_count": 4,
   "id": "a2e4d185",
   "metadata": {},
   "outputs": [],
   "source": [
    "def generateData():\n",
    "    path_to_write = parentPath+'/data/datasets'\n",
    "    originalDataSet = pd.read_csv(parentPath+'/data/datasets/steam.csv')\n",
    "    if os.path.exists(path_to_write+'/games.csv'):\n",
    "        return pd.read_csv(path_to_write+'/games.csv')\n",
    "    for row in originalDataSet.iterrows():\n",
    "        row =row[1]\n",
    "        totalRatings = (row['positive_ratings'] + row['negative_ratings'])\n",
    "        if totalRatings == 0:\n",
    "            ratings = 0\n",
    "        else:\n",
    "            ratings = round((row['positive_ratings']/totalRatings) * 100,2)\n",
    "        dictionnary[row['appid']] = {\n",
    "                    \"name\": row['name'],\n",
    "                    \"price\": row['price'],\n",
    "                    \"release_date\": row['release_date'],\n",
    "                    \"required_age\": row['required_age'],\n",
    "                    \"publishers\": row['publisher'],\n",
    "                    \"developers\": row['developer'],\n",
    "                    \"categories\": row['categories'],\n",
    "                    \"genres\": row['genres'],\n",
    "                    \"ratings\": ratings,\n",
    "                    \"totalRatings\": totalRatings,\n",
    "                    \"average_playtime\": row['average_playtime'],\n",
    "                    \"median_playtime\": row['median_playtime'],\n",
    "                    \"num_owners\": row['owners']\n",
    "        }\n",
    "    \n",
    "    \n",
    "\n",
    "    df = pd.DataFrame.from_dict(dictionnary, orient='index')\n",
    "    df.index.name = 'appid'\n",
    "    if not os.path.exists(path_to_write):\n",
    "        os.mkdir(path_to_write)\n",
    "    \n",
    "    df.to_csv(path_to_write+'/games.csv')\n",
    "    return df"
   ]
  },
  {
   "cell_type": "markdown",
   "id": "cc90d1f2",
   "metadata": {},
   "source": [
    "## Generate the User Steam Dataset"
   ]
  },
  {
   "cell_type": "code",
   "execution_count": 5,
   "id": "2960becc",
   "metadata": {},
   "outputs": [],
   "source": [
    "url_user_info = \"https://api.steampowered.com/IPlayerService/GetOwnedGames/v1/?key=D399B9CAE07939881781DD36CC8CC442&steamid={}&include_appinfo=true&include_played_free_games=true\"\n",
    "def generateDataForUserSteamDataset():\n",
    "    dictionary=[]\n",
    "    path_to_write = parentPath+'/data/datasets'\n",
    "    if os.path.exists(path_to_write+'/steam_id_games.csv'):\n",
    "        return pd.read_csv(path_to_write+'/steam_id_games.csv')\n",
    "    originalDataSet = pd.read_csv(parentPath+'/data/datasets/steam_id.csv')\n",
    "    for row in originalDataSet.iterrows():\n",
    "        row =row[1]\n",
    "        try:\n",
    "            games = requests.get(url_user_info.format(row['steamid_a'])).json()['response']\n",
    "        except:\n",
    "            continue\n",
    "        if 'games' not in games:\n",
    "            continue\n",
    "        dataset = [{'steam_id':row['steamid_a'],\"appid\" :str(game['appid']), \"time_played_in_minutes\": game['playtime_forever'] } for game in games['games']]\n",
    "        dictionary = dataset+dictionary\n",
    "    df = pd.DataFrame.from_records(dictionary)\n",
    "    if not os.path.exists(path_to_write):\n",
    "        os.mkdir(path_to_write)\n",
    "    \n",
    "    df.to_csv(path_to_write+'/steam_id_games.csv')\n",
    "    return df"
   ]
  },
  {
   "cell_type": "code",
   "execution_count": 6,
   "id": "5fa7a6e2",
   "metadata": {},
   "outputs": [],
   "source": [
    "filename=\"../data/datasets/games.csv\"\n",
    "filename2=\"../data/datasets/steam_id_games.csv\""
   ]
  },
  {
   "cell_type": "code",
   "execution_count": 7,
   "id": "35b9346c",
   "metadata": {},
   "outputs": [],
   "source": [
    "from pyspark.sql.types import *\n",
    "games_schema = StructType() \\\n",
    "    .add(\"appid\", IntegerType(), True) \\\n",
    "    .add(\"name\", StringType(), True) \\\n",
    "    .add(\"price\", DoubleType(), True) \\\n",
    "    .add(\"release_date\", StringType(), True) \\\n",
    "    .add(\"required_age\", IntegerType(), True) \\\n",
    "    .add(\"publishers\", StringType(), True) \\\n",
    "    .add(\"developers\", StringType(), True) \\\n",
    "    .add(\"categories\", StringType(), True) \\\n",
    "    .add(\"genres\", StringType(), True) \\\n",
    "    .add(\"ratings\", DoubleType(), True) \\\n",
    "    .add(\"totalRatings\", IntegerType(), True) \\\n",
    "    .add(\"average_playtime\", DoubleType(), True) \\\n",
    "    .add(\"median_playtime\", IntegerType(), True) \\\n",
    "    .add(\"num_owners\", StringType(), True)\n",
    "games = spark.read.schema(games_schema).csv(filename, header=True).dropna()\n"
   ]
  },
  {
   "cell_type": "code",
   "execution_count": 8,
   "id": "ae101f92",
   "metadata": {},
   "outputs": [
    {
     "data": {
      "text/plain": [
       "[Row(appid=10, name='Counter-Strike', price=7.19, release_date='2000-11-01', required_age=0, publishers='Valve', developers='Valve', categories='Multi-player;Online Multi-Player;Local Multi-Player;Valve Anti-Cheat enabled', genres='Action', ratings=97.39, totalRatings=127873, average_playtime=17612.0, median_playtime=317, num_owners='10000000-20000000'),\n",
       " Row(appid=20, name='Team Fortress Classic', price=3.99, release_date='1999-04-01', required_age=0, publishers='Valve', developers='Valve', categories='Multi-player;Online Multi-Player;Local Multi-Player;Valve Anti-Cheat enabled', genres='Action', ratings=83.98, totalRatings=3951, average_playtime=277.0, median_playtime=62, num_owners='5000000-10000000'),\n",
       " Row(appid=30, name='Day of Defeat', price=3.99, release_date='2003-05-01', required_age=0, publishers='Valve', developers='Valve', categories='Multi-player;Valve Anti-Cheat enabled', genres='Action', ratings=89.56, totalRatings=3814, average_playtime=187.0, median_playtime=34, num_owners='5000000-10000000'),\n",
       " Row(appid=40, name='Deathmatch Classic', price=3.99, release_date='2001-06-01', required_age=0, publishers='Valve', developers='Valve', categories='Multi-player;Online Multi-Player;Local Multi-Player;Valve Anti-Cheat enabled', genres='Action', ratings=82.66, totalRatings=1540, average_playtime=258.0, median_playtime=184, num_owners='5000000-10000000'),\n",
       " Row(appid=50, name='Half-Life: Opposing Force', price=3.99, release_date='1999-11-01', required_age=0, publishers='Valve', developers='Gearbox Software', categories='Single-player;Multi-player;Valve Anti-Cheat enabled', genres='Action', ratings=94.8, totalRatings=5538, average_playtime=624.0, median_playtime=415, num_owners='5000000-10000000')]"
      ]
     },
     "execution_count": 8,
     "metadata": {},
     "output_type": "execute_result"
    }
   ],
   "source": [
    "games.take(5)"
   ]
  },
  {
   "cell_type": "markdown",
   "id": "c5a4d906",
   "metadata": {},
   "source": [
    "## Normalization"
   ]
  },
  {
   "cell_type": "code",
   "execution_count": 9,
   "id": "5cbe3584",
   "metadata": {},
   "outputs": [],
   "source": [
    "# normalizer = Normalizer(inputCol=\"price\", outputCol=\"price\")\n",
    "# myGames = normalizer.transform(myGames)\n",
    "#hasher = FeatureHasher(inputCols=[\"price\", \"release_date\", \"required_age\", \"ratings\",\"totalRatings\",\"average_playtime\",\"median_playtime\",\"Action\"],\n",
    "#                       outputCol=\"features\")\n",
    "\n",
    "#featurized = hasher.transform(myGames)\n",
    "#listOfGames=featurized.take(100)\n",
    "\n",
    "#featurized.head()\n",
    "\n",
    "#myGames3 = myGames.take(10000)\n",
    "#normalizer = Normalizer(inputCol=\"features\", outputCol=\"normFeatures\", p=1.0)\n",
    "#l1NormData = normalizer.transform(featurized)\n",
    "#l1NormData.head()\n",
    "\n",
    "# lInfNormData = normalizer.transform(featurized, {normalizer.p: float(\"inf\")})\n",
    "#listOfGames=l1NormData.take(10)\n",
    "# listOfGames.reshape(-1, 1)\n",
    "# X_normalized = normalizer(myGames, copy=True)\n",
    "#type(listOfGames)\n",
    "#listOfGames=np.array([listOfGames], dtype=object)"
   ]
  },
  {
   "cell_type": "markdown",
   "id": "3c70905a",
   "metadata": {
    "pycharm": {
     "name": "#%% md\n"
    }
   },
   "source": [
    "## Data Preprocessing"
   ]
  },
  {
   "cell_type": "code",
   "execution_count": 10,
   "id": "12b221ab",
   "metadata": {
    "pycharm": {
     "name": "#%%\n"
    }
   },
   "outputs": [],
   "source": [
    "# get the yaer of release_date\n",
    "games = games.withColumn('release_date', col('release_date')[0:4])\n",
    "games = games.withColumn(\"release_date\", games[\"release_date\"].cast(IntegerType()))"
   ]
  },
  {
   "cell_type": "code",
   "execution_count": 11,
   "id": "92a86dd4",
   "metadata": {
    "pycharm": {
     "name": "#%%\n"
    }
   },
   "outputs": [
    {
     "name": "stderr",
     "output_type": "stream",
     "text": [
      "                                                                                \r"
     ]
    }
   ],
   "source": [
    "#create columns for genres\n",
    "games = games.withColumn('genres', split(col('genres'), ';'))\n",
    "uniq_genres = games.select('genres').distinct().collect()\n",
    "unic_genres_set = set()\n",
    "for u in uniq_genres:\n",
    "    for i in u.genres:\n",
    "        unic_genres_set.add(i)\n",
    "unic_genres_set\n",
    "\n",
    "for i in unic_genres_set:\n",
    "    games = games.withColumn(i,when(array_contains(games.genres,i), 1).otherwise(0))"
   ]
  },
  {
   "cell_type": "code",
   "execution_count": 12,
   "id": "fbc54b9a",
   "metadata": {
    "pycharm": {
     "name": "#%%\n"
    }
   },
   "outputs": [
    {
     "name": "stderr",
     "output_type": "stream",
     "text": [
      "22/04/11 18:20:08 WARN package: Truncated the string representation of a plan since it was too large. This behavior can be adjusted by setting 'spark.sql.debug.maxToStringFields'.\n"
     ]
    }
   ],
   "source": [
    "# create columns for the categories\n",
    "games = games.withColumn('categories', split(col('categories'), ';'))\n",
    "uniq_cat = games.select('categories').distinct().collect()\n",
    "unic_cat_set = set()\n",
    "for u in uniq_cat:\n",
    "    for i in u.categories:\n",
    "        # if not i in games2.columns:\n",
    "        #     games2 = games2.withColumn(i, 0)\n",
    "        unic_cat_set.add(i)\n",
    "unic_cat_set\n",
    "\n",
    "for i in unic_cat_set:\n",
    "    games = games.withColumn(i,when(array_contains(games.categories,i), 1).otherwise(0))"
   ]
  },
  {
   "cell_type": "code",
   "execution_count": 13,
   "id": "b333936a",
   "metadata": {
    "pycharm": {
     "name": "#%%\n"
    }
   },
   "outputs": [
    {
     "data": {
      "text/plain": [
       "[Row(appid=10, name='Counter-Strike', price=7.19, release_date=2000, required_age=0, publishers='Valve', developers='Valve', categories=['Multi-player', 'Online Multi-Player', 'Local Multi-Player', 'Valve Anti-Cheat enabled'], genres=['Action'], ratings=97.39, totalRatings=127873, average_playtime=17612.0, median_playtime=317, num_owners='10000000-20000000', Simulation=0, Design & Illustration=0, Video Production=0, Adventure=0, Audio Production=0, Casual=0, Sports=0, Early Access=0, Software Training=0, Education=0, Accounting=0, Violent=0, Massively Multiplayer=0, Documentary=0, Animation & Modeling=0, Utilities=0, Action=1, Indie=0, Racing=0, Free to Play=0, Sexual Content=0, Strategy=0, Tutorial=0, Photo Editing=0, Web Publishing=0, RPG=0, Game Development=0, Gore=0, Nudity=0, Co-op=0, Cross-Platform Multiplayer=0, Steam Achievements=0, Commentary available=0, SteamVR Collectibles=0, Steam Workshop=0, Steam Turn Notifications=0, Multi-player=1, Full controller support=0, Shared/Split Screen=0, Includes level editor=0, Local Multi-Player=1, Mods (require HL2)=0, Mods=0, VR Support=0, In-App Purchases=0, Steam Trading Cards=0, Online Multi-Player=1, Valve Anti-Cheat enabled=1, Captions available=0, Stats=0, Steam Leaderboards=0, Local Co-op=0, Single-player=0, MMO=0, Partial Controller Support=0, Online Co-op=0, Steam Cloud=0, Includes Source SDK=0, RowNumber=0)]"
      ]
     },
     "execution_count": 13,
     "metadata": {},
     "output_type": "execute_result"
    }
   ],
   "source": [
    "# add the column to store the index of the row\n",
    "games = games.select(\"*\").withColumn(\"RowNumber\", monotonically_increasing_id())\n",
    "games.take(1)"
   ]
  },
  {
   "cell_type": "code",
   "execution_count": 14,
   "id": "5e66acb4",
   "metadata": {
    "pycharm": {
     "name": "#%%\n"
    }
   },
   "outputs": [],
   "source": [
    "# create a dataset with features that we need for the model\n",
    "myGames=games.drop('appid',\"developers\",\"genres\",\"name\",\"publishers\",\"categories\",\"num_owners\",)"
   ]
  },
  {
   "cell_type": "code",
   "execution_count": 15,
   "id": "2a55182c",
   "metadata": {},
   "outputs": [
    {
     "data": {
      "text/plain": [
       "[Row(price=7.19, release_date=2000, required_age=0, ratings=97.39, totalRatings=127873, average_playtime=17612.0, median_playtime=317, Simulation=0, Design & Illustration=0, Video Production=0, Adventure=0, Audio Production=0, Casual=0, Sports=0, Early Access=0, Software Training=0, Education=0, Accounting=0, Violent=0, Massively Multiplayer=0, Documentary=0, Animation & Modeling=0, Utilities=0, Action=1, Indie=0, Racing=0, Free to Play=0, Sexual Content=0, Strategy=0, Tutorial=0, Photo Editing=0, Web Publishing=0, RPG=0, Game Development=0, Gore=0, Nudity=0, Co-op=0, Cross-Platform Multiplayer=0, Steam Achievements=0, Commentary available=0, SteamVR Collectibles=0, Steam Workshop=0, Steam Turn Notifications=0, Multi-player=1, Full controller support=0, Shared/Split Screen=0, Includes level editor=0, Local Multi-Player=1, Mods (require HL2)=0, Mods=0, VR Support=0, In-App Purchases=0, Steam Trading Cards=0, Online Multi-Player=1, Valve Anti-Cheat enabled=1, Captions available=0, Stats=0, Steam Leaderboards=0, Local Co-op=0, Single-player=0, MMO=0, Partial Controller Support=0, Online Co-op=0, Steam Cloud=0, Includes Source SDK=0, RowNumber=0)]"
      ]
     },
     "execution_count": 15,
     "metadata": {},
     "output_type": "execute_result"
    }
   ],
   "source": [
    "myGames.head(1)"
   ]
  },
  {
   "cell_type": "markdown",
   "id": "0089ae4b",
   "metadata": {
    "pycharm": {
     "name": "#%% md\n"
    }
   },
   "source": [
    "## First Model : Cosine Similarity"
   ]
  },
  {
   "cell_type": "code",
   "execution_count": 16,
   "id": "562d62cb",
   "metadata": {},
   "outputs": [
    {
     "name": "stderr",
     "output_type": "stream",
     "text": [
      "                                                                                \r"
     ]
    },
    {
     "data": {
      "text/plain": [
       "array([[1.00000000e+00, 8.97414146e-01, 8.89050930e-01, ...,\n",
       "        3.76547723e-09, 3.99609567e-09, 6.07002769e-09],\n",
       "       [8.97414146e-01, 1.00000000e+00, 9.99682562e-01, ...,\n",
       "        2.25443188e-04, 2.25443395e-04, 2.25445218e-04],\n",
       "       [8.89050930e-01, 9.99682562e-01, 1.00000000e+00, ...,\n",
       "        4.63813819e-04, 4.63814024e-04, 4.63815831e-04],\n",
       "       ...,\n",
       "       [3.76547723e-09, 2.25443188e-04, 4.63813819e-04, ...,\n",
       "        1.00000000e+00, 1.00000000e+00, 1.00000000e+00],\n",
       "       [3.99609567e-09, 2.25443395e-04, 4.63814024e-04, ...,\n",
       "        1.00000000e+00, 1.00000000e+00, 1.00000000e+00],\n",
       "       [6.07002769e-09, 2.25445218e-04, 4.63815831e-04, ...,\n",
       "        1.00000000e+00, 1.00000000e+00, 1.00000000e+00]])"
      ]
     },
     "execution_count": 16,
     "metadata": {},
     "output_type": "execute_result"
    }
   ],
   "source": [
    "from sklearn.metrics.pairwise import cosine_similarity\n",
    "myGames2 = myGames.take(27000)\n",
    "\n",
    "cos_sim_data = cosine_similarity(myGames2)\n",
    "cos_sim_data"
   ]
  },
  {
   "cell_type": "code",
   "execution_count": 17,
   "id": "3e249ca3",
   "metadata": {
    "pycharm": {
     "name": "#%%\n"
    }
   },
   "outputs": [
    {
     "data": {
      "text/plain": [
       "list"
      ]
     },
     "execution_count": 17,
     "metadata": {},
     "output_type": "execute_result"
    }
   ],
   "source": [
    "type(myGames2)"
   ]
  },
  {
   "cell_type": "code",
   "execution_count": 81,
   "id": "6f658ed8",
   "metadata": {
    "pycharm": {
     "name": "#%%\n"
    }
   },
   "outputs": [],
   "source": [
    "# temp = pd.DataFrame(cos_sim_data)\n",
    "# cos_sim_df = spark.createDataFrame(temp)\n",
    "# cos_sim_df.take(5)"
   ]
  },
  {
   "cell_type": "code",
   "execution_count": 82,
   "id": "a80f6174",
   "metadata": {},
   "outputs": [],
   "source": [
    "# The users dataframe is not currently used.\n",
    "#users_df = spark.read.csv(users_csv, header=True, inferSchema=True)\n",
    "# Init the users/games relation dataframe.\n",
    "users_games_df = spark.read.csv(filename2, header=True, inferSchema=True).drop(\"_c0\")\n",
    "\n",
    "# Feature assembler: make a vector of all features.\n",
    "inputColsList = [\"ratings\", \"price\", \"release_date\", \"totalRatings\"]\n",
    "inputColsList.extend(unic_cat_set)\n",
    "inputColsList.extend(unic_genres_set)\n",
    "vector_assembler = VectorAssembler().setInputCols(inputColsList).setOutputCol(\"features\")\n",
    "vectorized_games = vector_assembler.transform(games)\n",
    "\n",
    "# Join the vectorized games with the user/games relation table.\n",
    "users_games_joined_df = users_games_df.join(vectorized_games, \"appid\", \"inner\")"
   ]
  },
  {
   "cell_type": "code",
   "execution_count": 179,
   "id": "49dd976b",
   "metadata": {
    "pycharm": {
     "name": "#%%\n"
    }
   },
   "outputs": [],
   "source": [
    "# // I need to create a function that get the appId and find the N top similar apps!!!\n",
    "def generate_top_N_recommendationsX(appId, N=10):\n",
    "    # appId = 0\n",
    "    emp_RDD = spark.sparkContext.emptyRDD()\n",
    "    row = games.select(\"RowNumber\", \"appid\").rdd.filter(lambda x: x['appid'] == appId).collect()\n",
    "    if len(row) == 0:\n",
    "        columns = StructType([StructField('name',\n",
    "                                  StringType(), True),\n",
    "                    StructField('RowNumber',\n",
    "                                IntegerType(), True),\n",
    "                    StructField('index',\n",
    "                                IntegerType(), True),\n",
    "                    StructField('score',\n",
    "                                DoubleType(), True)])\n",
    "        df = spark.createDataFrame(data = emp_RDD,\n",
    "                           schema = columns)\n",
    "        return df\n",
    "    row = row[0]['RowNumber']\n",
    "    sim_scores = list(enumerate(cos_sim_data[row]))\n",
    "    sim_scores = sorted(sim_scores, key=lambda x: x[1], reverse=True)\n",
    "    sim_scores = sim_scores[1:N]\n",
    "    game_indices = [i[0] for i in sim_scores]\n",
    "    tempArray = []\n",
    "    tempArrayScore =[]\n",
    "    for val in range(0,len(game_indices)):\n",
    "        tempArray.append((game_indices[val], val))\n",
    "        tempArrayScore.append((game_indices[val],sim_scores[val][1]))\n",
    "    tempArray = dict(tempArray)\n",
    "    tempArrayScore= dict(tempArrayScore)\n",
    "    names = games.where(col(\"RowNumber\").isin(game_indices)).select(\"name\",\"RowNumber\").rdd.map(lambda row: (row[0], row[1],tempArray[row[1]],float(tempArrayScore[row[1]]) )).toDF(['name','RowNumber','index','score']).sort('index')\n",
    "    return names\n",
    "\n",
    "def GetValueFromDataframe(_df,columnName):\n",
    "    for row in _df.rdd.collect():\n",
    "        return row[columnName]"
   ]
  },
  {
   "cell_type": "code",
   "execution_count": 114,
   "id": "f169a19f",
   "metadata": {
    "pycharm": {
     "name": "#%%\n"
    }
   },
   "outputs": [
    {
     "name": "stdout",
     "output_type": "stream",
     "text": [
      "0\n",
      "[(1127, 0.9993242069743952), (895, 0.9990176266601736), (1491, 0.9989362257873207), (1421, 0.9987252665424053), (10, 0.9986169812280062), (1155, 0.998073755200959), (1173, 0.9975466116780457), (1772, 0.9972856364670377), (4712, 0.9972711169757251)]\n",
      "Temp Array\n",
      "**************************************************\n",
      "{1127: 0, 895: 1, 1491: 2, 1421: 3, 10: 4, 1155: 5, 1173: 6, 1772: 7, 4712: 8}\n",
      "TempArrayScore\n",
      "**************************************************\n",
      "{1127: 0.9993242069743952, 895: 0.9990176266601736, 1491: 0.9989362257873207, 1421: 0.9987252665424053, 10: 0.9986169812280062, 1155: 0.998073755200959, 1173: 0.9975466116780457, 1772: 0.9972856364670377, 4712: 0.9972711169757251}\n",
      "+--------------------+---------+-----+------------------+\n",
      "|                name|RowNumber|index|             score|\n",
      "+--------------------+---------+-----+------------------+\n",
      "|              Arma 3|     1127|    0|0.9993242069743952|\n",
      "|Mount & Blade: Wa...|      895|    1|0.9990176266601736|\n",
      "|Kerbal Space Program|     1491|    2|0.9989362257873207|\n",
      "|Total War™: ROME ...|     1421|    3|0.9987252665424053|\n",
      "|Counter-Strike: S...|       10|    4|0.9986169812280062|\n",
      "|        APB Reloaded|     1155|    5| 0.998073755200959|\n",
      "|Realm of the Mad God|     1173|    6|0.9975466116780457|\n",
      "|       Path of Exile|     1772|    7|0.9972856364670377|\n",
      "|ARK: Survival Evo...|     4712|    8|0.9972711169757251|\n",
      "+--------------------+---------+-----+------------------+\n",
      "\n"
     ]
    }
   ],
   "source": [
    "equalnames = generate_top_N_recommendationsX(str(10))\n",
    "equalnames.show()"
   ]
  },
  {
   "cell_type": "code",
   "execution_count": 190,
   "id": "f05f9fdb",
   "metadata": {},
   "outputs": [],
   "source": [
    "def getRecommendationForUserCosineSim(user_id:int,num_recommendations:int =10):\n",
    "    owned_games_df = users_games_df.filter(users_games_df.steam_id == user_id)\n",
    "    emp_RDD = spark.sparkContext.emptyRDD()\n",
    "    # Create an expected schema\n",
    "    columns = StructType([StructField('name',\n",
    "                                  StringType(), True),\n",
    "                    StructField('RowNumber',\n",
    "                                IntegerType(), True),\n",
    "                    StructField('index',\n",
    "                                IntegerType(), True),\n",
    "                    StructField('score',\n",
    "                                DoubleType(), True)])\n",
    "    df = spark.createDataFrame(data = emp_RDD,\n",
    "                           schema = columns)\n",
    "    for row in owned_games_df.collect():\n",
    "        df_temp = generate_top_N_recommendationsX(row.appid)\n",
    "        df = df.union(df_temp)\n",
    "    df.sort(col('score').desc()).show(num_recommendations)\n",
    "\n"
   ]
  },
  {
   "cell_type": "code",
   "execution_count": 192,
   "id": "4426d935",
   "metadata": {},
   "outputs": [
    {
     "name": "stderr",
     "output_type": "stream",
     "text": [
      "22/04/12 18:34:24 WARN DAGScheduler: Broadcasting large task binary with size 4.5 MiB\n",
      "22/04/12 18:37:40 WARN DAGScheduler: Broadcasting large task binary with size 4.5 MiB\n",
      "[Stage 8557:=================================================>(1928 + 8) / 1944]\r"
     ]
    },
    {
     "name": "stdout",
     "output_type": "stream",
     "text": [
      "+--------------------+---------+-----+------------------+\n",
      "|                name|RowNumber|index|             score|\n",
      "+--------------------+---------+-----+------------------+\n",
      "| Dimension Hunter VR|     9981|    0|0.9999997790062494|\n",
      "|  Lode Runner Legacy|    14449|    0|0.9999997723123002|\n",
      "|   DUNGEONS OF CHAOS|    14000|    0|0.9999996607369963|\n",
      "|     Fausts Alptraum|    12673|    0|0.9999996328669667|\n",
      "| Necromancer Returns|    14542|    1|0.9999995668308166|\n",
      "|             Blockle|    14558|    2|0.9999995110937684|\n",
      "|Alien Arena: Warr...|    14482|    3|0.9999995074103457|\n",
      "|         Beyond Eden|    14561|    4|0.9999994309347743|\n",
      "|Game Character Hu...|    11068|    0|0.9999993911961074|\n",
      "|      Mount Wingsuit|     9971|    1|0.9999993357544238|\n",
      "+--------------------+---------+-----+------------------+\n",
      "only showing top 10 rows\n",
      "\n"
     ]
    },
    {
     "name": "stderr",
     "output_type": "stream",
     "text": [
      "\r",
      "[Stage 8557:=================================================>(1937 + 7) / 1944]\r",
      "\r",
      "                                                                                \r"
     ]
    }
   ],
   "source": [
    "getRecommendationForUserCosineSim(user_id=76561197960360459)"
   ]
  },
  {
   "cell_type": "markdown",
   "id": "17b2c8f8",
   "metadata": {
    "pycharm": {
     "name": "#%% md\n"
    }
   },
   "source": [
    "## Model2 :  : Random Forest"
   ]
  },
  {
   "cell_type": "markdown",
   "id": "645a8d57",
   "metadata": {},
   "source": []
  },
  {
   "cell_type": "code",
   "execution_count": 84,
   "id": "32a70373",
   "metadata": {
    "pycharm": {
     "name": "#%%\n"
    }
   },
   "outputs": [],
   "source": [
    "def DoRandomForest(user_id, num_recommendations = 10, seed = 2022):\n",
    "    # Join the vectorized games with the user/games relation table.\n",
    "    users_games_joined_df = users_games_df.join(vectorized_games, \"appid\", \"inner\")\n",
    "\n",
    "    # Get the data for the games the player has played.\n",
    "    owned_games_df = users_games_joined_df.filter(users_games_joined_df.steam_id == user_id) #.filter(users_games_joined_df.time_played_in_minutes > 0)\n",
    "    user_games_count = owned_games_df.count()\n",
    "    print(\"Owned Games:\", user_games_count)\n",
    "    if user_games_count > 0:\n",
    "        training_df, testing_df = owned_games_df.randomSplit([0.8, 0.2], seed)\n",
    "\n",
    "        # Print the games this user has played the most (for comparison to final predictions).\n",
    "        print(\"User's top games (from training set):\")\n",
    "        training_df.sort(training_df.time_played_in_minutes.desc()).select(\"name\", \"genres\", \"time_played_in_minutes\").show()\n",
    "        #owned_games_df.sort(owned_games_df.time_played_in_minutes.desc()).select(\"name\", \"genres\", \"time_played_in_minutes\").show()\n",
    "\n",
    "        # Extract the list of unowned games by removing the already owned ones.\n",
    "        unowned_games_df = vectorized_games.join(owned_games_df, \"appid\", \"leftanti\")\n",
    "\n",
    "        # Build Random Forest Regression based on time the user played each game in their library.\n",
    "        randForest = RandomForestRegressor()\n",
    "        model = randForest.fit(training_df.withColumnRenamed(\"time_played_in_minutes\", \"label\"))\n",
    "\n",
    "        # Run the model on unowned game data.\n",
    "        predictions = model.transform(unowned_games_df).sort(col(\"prediction\").desc())\n",
    "        print(\"The user's top \" + str(num_recommendations) + \" predicted games (with predicted minutes played if they owned it):\")\n",
    "        predictions.select('appid', 'features', 'genres', 'name', 'prediction').show(num_recommendations)\n",
    "\n",
    "        # Model evaluation via RMSE\n",
    "        evaluator = RegressionEvaluator(labelCol=\"label\", predictionCol=\"prediction\")\n",
    "        testing_df = model.transform(testing_df.withColumnRenamed(\"time_played_in_minutes\", \"label\"))\n",
    "        rmse = evaluator.evaluate(testing_df, {evaluator.metricName: \"rmse\"})\n",
    "        print(\"RMSE:\", rmse)\n",
    "        testing_df.select('name', 'label', 'prediction').show()"
   ]
  },
  {
   "cell_type": "code",
   "execution_count": 85,
   "id": "e4598c60",
   "metadata": {},
   "outputs": [
    {
     "name": "stdout",
     "output_type": "stream",
     "text": [
      "Owned Games: 216\n",
      "User's top games (from training set):\n"
     ]
    },
    {
     "name": "stderr",
     "output_type": "stream",
     "text": [
      "                                                                                \r"
     ]
    },
    {
     "name": "stdout",
     "output_type": "stream",
     "text": [
      "+--------------------+--------------------+----------------------+\n",
      "|                name|              genres|time_played_in_minutes|\n",
      "+--------------------+--------------------+----------------------+\n",
      "|                DOOM|            [Action]|                  6566|\n",
      "|          Anno 2070™|          [Strategy]|                  3850|\n",
      "|           Tropico 5|[RPG, Simulation,...|                  3836|\n",
      "|LEGO® Batman™ 3: ...| [Action, Adventure]|                  3699|\n",
      "|Call of Duty®: Bl...|            [Action]|                  2774|\n",
      "|     Game Dev Tycoon|[Casual, Indie, S...|                  2627|\n",
      "|  Duke Nukem Forever|            [Action]|                  2432|\n",
      "|    Castle Crashers®|[Action, Adventur...|                  2198|\n",
      "|Jurassic World Ev...|[Simulation, Stra...|                  2025|\n",
      "|Call of Duty®: In...| [Action, Adventure]|                  1922|\n",
      "|Counter-Strike: G...|[Action, Free to ...|                  1884|\n",
      "|      Rocket League®|[Action, Indie, R...|                  1713|\n",
      "|Wolfenstein: The ...|            [Action]|                  1703|\n",
      "|      Counter-Strike|            [Action]|                  1538|\n",
      "|           Tropico 4|[Simulation, Stra...|                  1363|\n",
      "|           Homefront|            [Action]|                  1143|\n",
      "|LARA CROFT AND TH...| [Action, Adventure]|                  1143|\n",
      "|Battlefield: Bad ...|            [Action]|                  1020|\n",
      "|Batman™: Arkham O...| [Action, Adventure]|                  1009|\n",
      "|      Sniper Elite 4| [Action, Adventure]|                  1003|\n",
      "+--------------------+--------------------+----------------------+\n",
      "only showing top 20 rows\n",
      "\n"
     ]
    },
    {
     "name": "stderr",
     "output_type": "stream",
     "text": [
      "                                                                                \r"
     ]
    },
    {
     "name": "stdout",
     "output_type": "stream",
     "text": [
      "The user's top 10 predicted games (with predicted minutes played if they owned it):\n"
     ]
    },
    {
     "name": "stderr",
     "output_type": "stream",
     "text": [
      "                                                                                \r"
     ]
    },
    {
     "name": "stdout",
     "output_type": "stream",
     "text": [
      "+------+--------------------+--------------------+--------------------+------------------+\n",
      "| appid|            features|              genres|                name|        prediction|\n",
      "+------+--------------------+--------------------+--------------------+------------------+\n",
      "|242760|(62,[0,1,2,3,4,11...|[Action, Adventur...|          The Forest| 4263.479916815211|\n",
      "|582010|(62,[0,1,2,3,4,6,...|            [Action]|MONSTER HUNTER: W...| 3592.357189542484|\n",
      "|413150|(62,[0,1,2,3,4,6,...|[Indie, RPG, Simu...|      Stardew Valley| 3165.954411764706|\n",
      "|359550|(62,[0,1,2,3,4,11...|            [Action]|Tom Clancy's Rain...|3105.8143323996264|\n",
      "|211820|(62,[0,1,2,3,4,5,...|[Action, Adventur...|           Starbound|2927.6708502502124|\n",
      "|244850|(62,[0,1,2,3,4,6,...|[Action, Indie, S...|     Space Engineers| 2920.612727272727|\n",
      "|676500|(62,[0,1,2,3,4,5,...|[Action, Adventur...|        Time Warpers|2696.1833333333334|\n",
      "|365590|(62,[0,1,2,3,4,11...|[Action, Adventur...|Tom Clancy’s The ...|2653.0535480859007|\n",
      "|387090|(62,[0,1,2,3,4,5,...|[Adventure, Indie...|Revolution : Virt...|          2592.175|\n",
      "|381210|(62,[0,1,2,3,4,6,...|            [Action]|    Dead by Daylight|2518.4020981877597|\n",
      "+------+--------------------+--------------------+--------------------+------------------+\n",
      "only showing top 10 rows\n",
      "\n"
     ]
    },
    {
     "name": "stderr",
     "output_type": "stream",
     "text": [
      "                                                                                \r"
     ]
    },
    {
     "name": "stdout",
     "output_type": "stream",
     "text": [
      "RMSE: 941.2422048558764\n"
     ]
    },
    {
     "name": "stderr",
     "output_type": "stream",
     "text": [
      "\r",
      "[Stage 170:>                                                        (0 + 1) / 1]\r"
     ]
    },
    {
     "name": "stdout",
     "output_type": "stream",
     "text": [
      "+--------------------+-----+------------------+\n",
      "|                name|label|        prediction|\n",
      "+--------------------+-----+------------------+\n",
      "|       Day of Defeat|    0| 188.0674683539425|\n",
      "|Half-Life: Blue S...|    0|14.659514788525689|\n",
      "|Half-Life 2: Deat...|    0|196.30208373855788|\n",
      "|Half-Life Deathma...|    0|197.05702975745126|\n",
      "|       Left 4 Dead 2| 2002| 987.3943842921784|\n",
      "|              Dota 2| 2324|1711.9699495822529|\n",
      "|         Garry's Mod|    0|1788.6139355742296|\n",
      "|Trackmania United...| 1099| 313.6481259167307|\n",
      "|Runaway, A Road A...|   19|15.892058648174814|\n",
      "|                RAGE|  103| 453.1433032855942|\n",
      "|Grand Theft Auto:...|  105| 105.4676904716566|\n",
      "|           Max Payne|    0|14.659514788525689|\n",
      "|            Far Cry®|    0|14.659514788525689|\n",
      "|Tom Clancy's Rain...|    0| 16.38642484535791|\n",
      "|Tom Clancy's Spli...|    0|14.690742858701128|\n",
      "|Tom Clancy's Spli...|   18|27.873875624084576|\n",
      "|Tom Clancy's Rain...|    0| 62.61955761074137|\n",
      "|Tom Clancy's Rain...|    6|118.23983321951843|\n",
      "|Brothers in Arms:...|   17|14.690742858701128|\n",
      "|     Crysis Warhead®|    0|14.690742858701128|\n",
      "+--------------------+-----+------------------+\n",
      "only showing top 20 rows\n",
      "\n"
     ]
    },
    {
     "name": "stderr",
     "output_type": "stream",
     "text": [
      "\r",
      "                                                                                \r"
     ]
    }
   ],
   "source": [
    "DoRandomForest(76561197960360459)"
   ]
  },
  {
   "cell_type": "code",
   "execution_count": 23,
   "id": "59157195",
   "metadata": {},
   "outputs": [
    {
     "name": "stdout",
     "output_type": "stream",
     "text": [
      "Owned Games: 136\n",
      "User's top games (from training set):\n"
     ]
    },
    {
     "name": "stderr",
     "output_type": "stream",
     "text": [
      "                                                                                \r"
     ]
    },
    {
     "name": "stdout",
     "output_type": "stream",
     "text": [
      "+--------------------+--------------------+----------------------+\n",
      "|                name|              genres|time_played_in_minutes|\n",
      "+--------------------+--------------------+----------------------+\n",
      "|Counter-Strike: G...|[Action, Free to ...|                 30157|\n",
      "|Sid Meier's Civil...|          [Strategy]|                 17603|\n",
      "|       Killing Floor|            [Action]|                 16366|\n",
      "|Kerbal Space Program| [Indie, Simulation]|                 11131|\n",
      "|MechWarrior Onlin...|[Action, Free to ...|                  9815|\n",
      "|Sid Meier’s Civil...|          [Strategy]|                  9192|\n",
      "|Sins of a Solar E...|   [Indie, Strategy]|                  8750|\n",
      "|Red Orchestra 2: ...|[Action, Massivel...|                  6684|\n",
      "|             XCOM® 2|          [Strategy]|                  5412|\n",
      "|Supreme Commander...|          [Strategy]|                  5283|\n",
      "|Defense Grid: The...|   [Indie, Strategy]|                  5262|\n",
      "|          BATTLETECH|[Action, Adventur...|                  4129|\n",
      "| XCOM: Enemy Unknown|          [Strategy]|                  4091|\n",
      "|Rising Storm 2: V...|[Action, Massivel...|                  3880|\n",
      "|           Stellaris|[Simulation, Stra...|                  3614|\n",
      "|           Half-Life|            [Action]|                  3298|\n",
      "|            Banished|[Indie, Simulatio...|                  3080|\n",
      "|Command & Conquer...|          [Strategy]|                  2844|\n",
      "|PLAYERUNKNOWN'S B...|[Action, Adventur...|                  2434|\n",
      "|      Counter-Strike|            [Action]|                  1969|\n",
      "+--------------------+--------------------+----------------------+\n",
      "only showing top 20 rows\n",
      "\n"
     ]
    },
    {
     "name": "stderr",
     "output_type": "stream",
     "text": [
      "                                                                                \r"
     ]
    },
    {
     "name": "stdout",
     "output_type": "stream",
     "text": [
      "The user's top 10 predicted games (with predicted minutes played if they owned it):\n"
     ]
    },
    {
     "name": "stderr",
     "output_type": "stream",
     "text": [
      "                                                                                \r"
     ]
    },
    {
     "name": "stdout",
     "output_type": "stream",
     "text": [
      "+------+--------------------+--------------------+--------------------+------------------+\n",
      "| appid|            features|              genres|                name|        prediction|\n",
      "+------+--------------------+--------------------+--------------------+------------------+\n",
      "|   570|(62,[0,2,3,4,8,9,...|[Action, Free to ...|              Dota 2|15590.033333333331|\n",
      "|218620|(62,[0,1,2,3,4,6,...|       [Action, RPG]|            PAYDAY 2|10985.930473530698|\n",
      "|252490|(62,[0,1,2,3,4,5,...|[Action, Adventur...|                Rust|  9980.47803030303|\n",
      "| 48700|(62,[0,1,2,3,6,9,...|       [Action, RPG]|Mount & Blade: Wa...| 9398.527976190477|\n",
      "|301520|(62,[0,2,3,6,11,1...|[Action, Free to ...|           Robocraft| 9160.465106335107|\n",
      "|  4000|(62,[0,1,2,3,4,5,...| [Indie, Simulation]|         Garry's Mod| 8977.478310502283|\n",
      "|444090|(62,[0,2,3,6,11,1...|[Action, Free to ...|           Paladins®| 8890.836813380498|\n",
      "|227300|(62,[0,1,2,3,6,9,...| [Indie, Simulation]|Euro Truck Simula...| 8152.217142857144|\n",
      "|219640|(62,[0,1,2,3,6,9,...|     [Action, Indie]|Chivalry: Medieva...| 8122.435064121471|\n",
      "|363970|(62,[0,2,3,6,19,2...|[Adventure, Casua...|      Clicker Heroes| 8085.905027533132|\n",
      "+------+--------------------+--------------------+--------------------+------------------+\n",
      "only showing top 10 rows\n",
      "\n"
     ]
    },
    {
     "name": "stderr",
     "output_type": "stream",
     "text": [
      "                                                                                \r"
     ]
    },
    {
     "name": "stdout",
     "output_type": "stream",
     "text": [
      "RMSE: 2218.9550666779037\n"
     ]
    },
    {
     "name": "stderr",
     "output_type": "stream",
     "text": [
      "\r",
      "[Stage 69:>                                                         (0 + 1) / 1]\r"
     ]
    },
    {
     "name": "stdout",
     "output_type": "stream",
     "text": [
      "+--------------------+-----+------------------+\n",
      "|                name|label|        prediction|\n",
      "+--------------------+-----+------------------+\n",
      "|Half-Life: Opposi...| 1836| 1545.660263009284|\n",
      "|Counter-Strike: S...| 1959| 4518.873876232849|\n",
      "|Half-Life 2: Deat...|   10| 567.7622074537285|\n",
      "|Half-Life Deathma...|    0|438.09626923036285|\n",
      "|       Left 4 Dead 2|    0| 8531.583333333334|\n",
      "|            Portal 2| 1135|          4628.985|\n",
      "|          Multiwinia|    0| 666.7139541264853|\n",
      "|      Wolfenstein 3D|  224| 435.4386306092694|\n",
      "|       Ultimate Doom|    3|267.04755765444645|\n",
      "|            QUAKE II|  811| 278.9238397057285|\n",
      "|Star Wars: Battle...| 1895| 1250.876784691462|\n",
      "|Civilization IV: ...|    0| 2565.504111946295|\n",
      "|Call of Duty: Wor...|   33| 644.8975185731572|\n",
      "|Unreal 2: The Awa...|  491| 484.7080032202219|\n",
      "|Unreal Tournament...| 6126|1954.6074917103601|\n",
      "|Unreal Tournament...| 5266|1108.9301016004692|\n",
      "|            Far Cry®|  377|  516.762392465236|\n",
      "|Sid Meier's Civil...|    0| 656.8400742529548|\n",
      "|Company of Heroes...|    0| 1260.851640681927|\n",
      "|SimCity™ 4 Deluxe...|   41| 929.4287871053959|\n",
      "+--------------------+-----+------------------+\n",
      "only showing top 20 rows\n",
      "\n"
     ]
    },
    {
     "name": "stderr",
     "output_type": "stream",
     "text": [
      "\r",
      "                                                                                \r"
     ]
    }
   ],
   "source": [
    "# Kyle's Steam ID\n",
    "DoRandomForest(76561197982716241)"
   ]
  }
 ],
 "metadata": {
  "kernelspec": {
   "display_name": "Python 3 (ipykernel)",
   "language": "python",
   "name": "python3"
  },
  "language_info": {
   "codemirror_mode": {
    "name": "ipython",
    "version": 3
   },
   "file_extension": ".py",
   "mimetype": "text/x-python",
   "name": "python",
   "nbconvert_exporter": "python",
   "pygments_lexer": "ipython3",
   "version": "3.8.12"
  }
 },
 "nbformat": 4,
 "nbformat_minor": 5
}
