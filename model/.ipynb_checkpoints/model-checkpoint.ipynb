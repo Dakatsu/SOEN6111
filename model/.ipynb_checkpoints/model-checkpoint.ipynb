{
 "cells": [
  {
   "cell_type": "code",
   "execution_count": 1,
   "id": "fad0ad65",
   "metadata": {},
   "outputs": [],
   "source": [
    "import csv\n",
    "import os\n",
    "import sys\n",
    "# Spark imports\n",
    "from pyspark.rdd import RDD\n",
    "from pyspark.sql import DataFrame\n",
    "from pyspark.sql.types import IntegerType\n",
    "from pyspark.sql import SparkSession\n",
    "import operator\n",
    "# Dask imports\n",
    "import dask.bag as db\n",
    "import dask.dataframe as df  # you can use Dask bags or dataframes\n",
    "from csv import reader\n",
    "import numpy as np\n",
    "import pandas as pd\n",
    "import datetime\n",
    "from pyspark.sql.functions import *\n",
    "import sklearn\n",
    "from sklearn import preprocessing\n",
    "from sklearn.datasets import make_blobs\n",
    "from sklearn.preprocessing import StandardScaler\n",
    "from sklearn.feature_extraction.text import TfidfVectorizer\n",
    "from sklearn.metrics.pairwise import cosine_similarity\n",
    "import re\n",
    "# from scipy.sparse import csr_matrix\n",
    "# import scipy as sp\n",
    "import heapq\n",
    "# from surprise import CoClustering\n",
    "# from surprise import Dataset, Reader, SVD, accuracy\n",
    "# from surprise import KNNBaseline\n",
    "\n",
    "\n",
    "# Packages for model evaluation\n",
    "from sklearn.metrics import mean_squared_error\n",
    "from sklearn.metrics import mean_absolute_error\n",
    "from time import time\n",
    "\n",
    "# from surprise.model_selection import train_test_split\n",
    "# from sklearn.model_selection import train_test_split\n",
    "\n",
    "# Package to suppress warnings\n",
    "import warnings\n",
    "warnings.filterwarnings(\"ignore\")\n",
    "from pyspark.sql.functions import monotonically_increasing_id\n",
    "# Packages for saving models\n",
    "import pickle\n",
    "\n",
    "from re import split\n",
    "from pyspark.sql import SparkSession\n",
    "from pyspark.sql.types import StructType, DoubleType, IntegerType, StringType, DateType\n",
    "from pyspark.sql.functions import *\n",
    "from pyspark.ml.feature import VectorAssembler\n",
    "from pyspark.ml.evaluation import RegressionEvaluator\n",
    "from pyspark.ml.regression import RandomForestRegressor"
   ]
  },
  {
   "cell_type": "code",
   "execution_count": 2,
   "id": "c5ad03bd",
   "metadata": {},
   "outputs": [],
   "source": [
    "def init_spark():\n",
    "    spark = SparkSession \\\n",
    "        .builder \\\n",
    "        .appName(\"Python Spark SQL basic example\") \\\n",
    "        .config(\"spark.some.config.option\", \"some-value\") \\\n",
    "        .getOrCreate()\n",
    "    return spark"
   ]
  },
  {
   "cell_type": "code",
   "execution_count": 3,
   "id": "31128bad",
   "metadata": {},
   "outputs": [
    {
     "name": "stderr",
     "output_type": "stream",
     "text": [
      "22/03/30 19:58:01 WARN Utils: Your hostname, Sams-MacBook-Pro-2.local resolves to a loopback address: 127.0.0.1; using 172.30.120.246 instead (on interface en0)\n",
      "22/03/30 19:58:01 WARN Utils: Set SPARK_LOCAL_IP if you need to bind to another address\n",
      "22/03/30 19:58:01 WARN NativeCodeLoader: Unable to load native-hadoop library for your platform... using builtin-java classes where applicable\n",
      "Using Spark's default log4j profile: org/apache/spark/log4j-defaults.properties\n",
      "Setting default log level to \"WARN\".\n",
      "To adjust logging level use sc.setLogLevel(newLevel). For SparkR, use setLogLevel(newLevel).\n",
      "22/03/30 19:58:02 WARN Utils: Service 'SparkUI' could not bind on port 4040. Attempting port 4041.\n"
     ]
    }
   ],
   "source": [
    "spark=init_spark()"
   ]
  },
  {
   "cell_type": "code",
   "execution_count": 4,
   "id": "5fa7a6e2",
   "metadata": {},
   "outputs": [],
   "source": [
    "filename=\"../data/datasets/games.csv\"\n",
    "filename2=\"../data/datasets/steam_id_games.csv\""
   ]
  },
  {
   "cell_type": "code",
   "execution_count": 5,
   "id": "35b9346c",
   "metadata": {},
   "outputs": [],
   "source": [
    "from pyspark.sql.types import *\n",
    "games_schema = StructType() \\\n",
    "    .add(\"appid\", IntegerType(), True) \\\n",
    "    .add(\"name\", StringType(), True) \\\n",
    "    .add(\"price\", DoubleType(), True) \\\n",
    "    .add(\"release_date\", StringType(), True) \\\n",
    "    .add(\"required_age\", IntegerType(), True) \\\n",
    "    .add(\"publishers\", StringType(), True) \\\n",
    "    .add(\"developers\", StringType(), True) \\\n",
    "    .add(\"categories\", StringType(), True) \\\n",
    "    .add(\"genres\", StringType(), True) \\\n",
    "    .add(\"ratings\", DoubleType(), True) \\\n",
    "    .add(\"totalRatings\", IntegerType(), True) \\\n",
    "    .add(\"average_playtime\", DoubleType(), True) \\\n",
    "    .add(\"median_playtime\", IntegerType(), True) \\\n",
    "    .add(\"num_owners\", StringType(), True)\n",
    "games = spark.read.schema(games_schema).csv(filename, header=True).dropna()\n"
   ]
  },
  {
   "cell_type": "code",
   "execution_count": 6,
   "id": "ae101f92",
   "metadata": {},
   "outputs": [
    {
     "name": "stderr",
     "output_type": "stream",
     "text": [
      "\r",
      "[Stage 0:>                                                          (0 + 1) / 1]\r",
      "\r",
      "                                                                                \r"
     ]
    },
    {
     "data": {
      "text/plain": [
       "[Row(appid=10, name='Counter-Strike', price=7.19, release_date='2000-11-01', required_age=0, publishers='Valve', developers='Valve', categories='Multi-player;Online Multi-Player;Local Multi-Player;Valve Anti-Cheat enabled', genres='Action', ratings=97.39, totalRatings=127873, average_playtime=17612.0, median_playtime=317, num_owners='10000000-20000000'),\n",
       " Row(appid=20, name='Team Fortress Classic', price=3.99, release_date='1999-04-01', required_age=0, publishers='Valve', developers='Valve', categories='Multi-player;Online Multi-Player;Local Multi-Player;Valve Anti-Cheat enabled', genres='Action', ratings=83.98, totalRatings=3951, average_playtime=277.0, median_playtime=62, num_owners='5000000-10000000'),\n",
       " Row(appid=30, name='Day of Defeat', price=3.99, release_date='2003-05-01', required_age=0, publishers='Valve', developers='Valve', categories='Multi-player;Valve Anti-Cheat enabled', genres='Action', ratings=89.56, totalRatings=3814, average_playtime=187.0, median_playtime=34, num_owners='5000000-10000000'),\n",
       " Row(appid=40, name='Deathmatch Classic', price=3.99, release_date='2001-06-01', required_age=0, publishers='Valve', developers='Valve', categories='Multi-player;Online Multi-Player;Local Multi-Player;Valve Anti-Cheat enabled', genres='Action', ratings=82.66, totalRatings=1540, average_playtime=258.0, median_playtime=184, num_owners='5000000-10000000'),\n",
       " Row(appid=50, name='Half-Life: Opposing Force', price=3.99, release_date='1999-11-01', required_age=0, publishers='Valve', developers='Gearbox Software', categories='Single-player;Multi-player;Valve Anti-Cheat enabled', genres='Action', ratings=94.8, totalRatings=5538, average_playtime=624.0, median_playtime=415, num_owners='5000000-10000000')]"
      ]
     },
     "execution_count": 6,
     "metadata": {},
     "output_type": "execute_result"
    }
   ],
   "source": [
    "games.take(5)"
   ]
  },
  {
   "cell_type": "markdown",
   "id": "3c70905a",
   "metadata": {
    "pycharm": {
     "name": "#%% md\n"
    }
   },
   "source": [
    "Data Preprocessing"
   ]
  },
  {
   "cell_type": "code",
   "execution_count": 7,
   "id": "12b221ab",
   "metadata": {
    "pycharm": {
     "name": "#%%\n"
    }
   },
   "outputs": [],
   "source": [
    "# get the yaer of release_date\n",
    "games = games.withColumn('release_date', col('release_date')[0:4])\n",
    "games = games.withColumn(\"release_date\", games[\"release_date\"].cast(IntegerType()))"
   ]
  },
  {
   "cell_type": "code",
   "execution_count": 8,
   "id": "92a86dd4",
   "metadata": {
    "pycharm": {
     "name": "#%%\n"
    }
   },
   "outputs": [
    {
     "name": "stderr",
     "output_type": "stream",
     "text": [
      "                                                                                \r"
     ]
    }
   ],
   "source": [
    "#create columns for genres\n",
    "games = games.withColumn('genres', split(col('genres'), ';'))\n",
    "uniq_genres = games.select('genres').distinct().collect()\n",
    "unic_genres_set = set()\n",
    "for u in uniq_genres:\n",
    "    for i in u.genres:\n",
    "        unic_genres_set.add(i)\n",
    "unic_genres_set\n",
    "\n",
    "for i in unic_genres_set:\n",
    "    games = games.withColumn(i,when(array_contains(games.genres,i), 1).otherwise(0))"
   ]
  },
  {
   "cell_type": "code",
   "execution_count": 9,
   "id": "fbc54b9a",
   "metadata": {
    "pycharm": {
     "name": "#%%\n"
    }
   },
   "outputs": [
    {
     "name": "stderr",
     "output_type": "stream",
     "text": [
      "22/03/30 19:58:10 WARN package: Truncated the string representation of a plan since it was too large. This behavior can be adjusted by setting 'spark.sql.debug.maxToStringFields'.\n"
     ]
    }
   ],
   "source": [
    "# create columns for the categories\n",
    "games = games.withColumn('categories', split(col('categories'), ';'))\n",
    "uniq_cat = games.select('categories').distinct().collect()\n",
    "unic_cat_set = set()\n",
    "for u in uniq_cat:\n",
    "    for i in u.categories:\n",
    "        # if not i in games2.columns:\n",
    "        #     games2 = games2.withColumn(i, 0)\n",
    "        unic_cat_set.add(i)\n",
    "unic_cat_set\n",
    "\n",
    "for i in unic_cat_set:\n",
    "    games = games.withColumn(i,when(array_contains(games.categories,i), 1).otherwise(0))"
   ]
  },
  {
   "cell_type": "code",
   "execution_count": 10,
   "id": "b333936a",
   "metadata": {
    "pycharm": {
     "name": "#%%\n"
    }
   },
   "outputs": [
    {
     "data": {
      "text/plain": [
       "[Row(appid=10, name='Counter-Strike', price=7.19, release_date=2000, required_age=0, publishers='Valve', developers='Valve', categories=['Multi-player', 'Online Multi-Player', 'Local Multi-Player', 'Valve Anti-Cheat enabled'], genres=['Action'], ratings=97.39, totalRatings=127873, average_playtime=17612.0, median_playtime=317, num_owners='10000000-20000000', Game Development=0, Gore=0, Massively Multiplayer=0, Action=1, Web Publishing=0, Violent=0, Nudity=0, Adventure=0, Education=0, Simulation=0, Accounting=0, Documentary=0, Sports=0, Racing=0, Software Training=0, Free to Play=0, Sexual Content=0, Early Access=0, Video Production=0, Casual=0, Indie=0, Photo Editing=0, Design & Illustration=0, Audio Production=0, RPG=0, Strategy=0, Animation & Modeling=0, Tutorial=0, Utilities=0, Cross-Platform Multiplayer=0, Co-op=0, In-App Purchases=0, Includes Source SDK=0, Steam Leaderboards=0, Local Co-op=0, Valve Anti-Cheat enabled=1, Full controller support=0, Partial Controller Support=0, Captions available=0, Shared/Split Screen=0, Steam Turn Notifications=0, Single-player=0, Steam Trading Cards=0, Local Multi-Player=1, MMO=0, SteamVR Collectibles=0, Stats=0, VR Support=0, Mods (require HL2)=0, Steam Workshop=0, Includes level editor=0, Online Co-op=0, Commentary available=0, Online Multi-Player=1, Steam Cloud=0, Multi-player=1, Steam Achievements=0, Mods=0, RowNumber=0)]"
      ]
     },
     "execution_count": 10,
     "metadata": {},
     "output_type": "execute_result"
    }
   ],
   "source": [
    "# add the column to store the index of the row\n",
    "games = games.select(\"*\").withColumn(\"RowNumber\", monotonically_increasing_id())\n",
    "games.take(1)"
   ]
  },
  {
   "cell_type": "code",
   "execution_count": 11,
   "id": "5e66acb4",
   "metadata": {
    "pycharm": {
     "name": "#%%\n"
    }
   },
   "outputs": [],
   "source": [
    "# create a dataset with features that we need for the model\n",
    "myGames=games.drop('appid',\"developers\",\"genres\",\"name\",\"publishers\",\"categories\",\"num_owners\",)"
   ]
  },
  {
   "cell_type": "code",
   "execution_count": 12,
   "id": "2a55182c",
   "metadata": {},
   "outputs": [
    {
     "data": {
      "text/plain": [
       "[Row(price=7.19, release_date=2000, required_age=0, ratings=97.39, totalRatings=127873, average_playtime=17612.0, median_playtime=317, Game Development=0, Gore=0, Massively Multiplayer=0, Action=1, Web Publishing=0, Violent=0, Nudity=0, Adventure=0, Education=0, Simulation=0, Accounting=0, Documentary=0, Sports=0, Racing=0, Software Training=0, Free to Play=0, Sexual Content=0, Early Access=0, Video Production=0, Casual=0, Indie=0, Photo Editing=0, Design & Illustration=0, Audio Production=0, RPG=0, Strategy=0, Animation & Modeling=0, Tutorial=0, Utilities=0, Cross-Platform Multiplayer=0, Co-op=0, In-App Purchases=0, Includes Source SDK=0, Steam Leaderboards=0, Local Co-op=0, Valve Anti-Cheat enabled=1, Full controller support=0, Partial Controller Support=0, Captions available=0, Shared/Split Screen=0, Steam Turn Notifications=0, Single-player=0, Steam Trading Cards=0, Local Multi-Player=1, MMO=0, SteamVR Collectibles=0, Stats=0, VR Support=0, Mods (require HL2)=0, Steam Workshop=0, Includes level editor=0, Online Co-op=0, Commentary available=0, Online Multi-Player=1, Steam Cloud=0, Multi-player=1, Steam Achievements=0, Mods=0, RowNumber=0)]"
      ]
     },
     "execution_count": 12,
     "metadata": {},
     "output_type": "execute_result"
    }
   ],
   "source": [
    "myGames.head(1)"
   ]
  },
  {
   "cell_type": "markdown",
   "id": "0089ae4b",
   "metadata": {
    "pycharm": {
     "name": "#%% md\n"
    }
   },
   "source": [
    "Model1 : Cosine Similarity"
   ]
  },
  {
   "cell_type": "code",
   "execution_count": 13,
   "id": "562d62cb",
   "metadata": {},
   "outputs": [
    {
     "name": "stderr",
     "output_type": "stream",
     "text": [
      "                                                                                \r"
     ]
    },
    {
     "data": {
      "text/plain": [
       "array([[1.00000000e+00, 8.97414146e-01, 8.89050930e-01, ...,\n",
       "        3.76547723e-09, 3.99609567e-09, 6.07002769e-09],\n",
       "       [8.97414146e-01, 1.00000000e+00, 9.99682562e-01, ...,\n",
       "        2.25443188e-04, 2.25443395e-04, 2.25445218e-04],\n",
       "       [8.89050930e-01, 9.99682562e-01, 1.00000000e+00, ...,\n",
       "        4.63813819e-04, 4.63814024e-04, 4.63815831e-04],\n",
       "       ...,\n",
       "       [3.76547723e-09, 2.25443188e-04, 4.63813819e-04, ...,\n",
       "        1.00000000e+00, 1.00000000e+00, 1.00000000e+00],\n",
       "       [3.99609567e-09, 2.25443395e-04, 4.63814024e-04, ...,\n",
       "        1.00000000e+00, 1.00000000e+00, 1.00000000e+00],\n",
       "       [6.07002769e-09, 2.25445218e-04, 4.63815831e-04, ...,\n",
       "        1.00000000e+00, 1.00000000e+00, 1.00000000e+00]])"
      ]
     },
     "execution_count": 13,
     "metadata": {},
     "output_type": "execute_result"
    }
   ],
   "source": [
    "from sklearn.metrics.pairwise import cosine_similarity\n",
    "myGames2 = myGames.take(27000)\n",
    "\n",
    "cos_sim_data = cosine_similarity(myGames2)\n",
    "cos_sim_data"
   ]
  },
  {
   "cell_type": "code",
   "execution_count": 14,
   "id": "3e249ca3",
   "metadata": {
    "pycharm": {
     "name": "#%%\n"
    }
   },
   "outputs": [
    {
     "data": {
      "text/plain": [
       "list"
      ]
     },
     "execution_count": 14,
     "metadata": {},
     "output_type": "execute_result"
    }
   ],
   "source": [
    "type(myGames2)"
   ]
  },
  {
   "cell_type": "code",
   "execution_count": 15,
   "id": "6f658ed8",
   "metadata": {
    "pycharm": {
     "name": "#%%\n"
    }
   },
   "outputs": [],
   "source": [
    "# temp = pd.DataFrame(cos_sim_data)\n",
    "# cos_sim_df = spark.createDataFrame(temp)\n",
    "# cos_sim_df.take(5)"
   ]
  },
  {
   "cell_type": "code",
   "execution_count": 16,
   "id": "49dd976b",
   "metadata": {
    "pycharm": {
     "name": "#%%\n"
    }
   },
   "outputs": [],
   "source": [
    "# // I need to create a function that get the appId and find the N top similar apps!!!\n",
    "def generate_top_N_recommendationsX(appId, N=10):\n",
    "    # appId = 0\n",
    "    row = GetValueFromDataframe(games.filter(games.appid == appId),\"RowNumber\")\n",
    "    sim_scores = list(enumerate(cos_sim_data[row]))\n",
    "    sim_scores = sorted(sim_scores, key=lambda x: x[1], reverse=True)\n",
    "    sim_scores = sim_scores[1:N]\n",
    "    game_indices = [i[0] for i in sim_scores]\n",
    "    names = games.where(col(\"RowNumber\").isin(game_indices)).select(\"name\")\n",
    "    return names\n",
    "\n",
    "\n",
    "def GetValueFromDataframe(_df,columnName):\n",
    "    for row in _df.rdd.collect():\n",
    "        return row[columnName]"
   ]
  },
  {
   "cell_type": "code",
   "execution_count": 17,
   "id": "f169a19f",
   "metadata": {
    "pycharm": {
     "name": "#%%\n"
    }
   },
   "outputs": [
    {
     "name": "stdout",
     "output_type": "stream",
     "text": [
      "+--------------------+\n",
      "|                name|\n",
      "+--------------------+\n",
      "|Counter-Strike: S...|\n",
      "|Mount & Blade: Wa...|\n",
      "|              Arma 3|\n",
      "|        APB Reloaded|\n",
      "|Realm of the Mad God|\n",
      "|Total War™: ROME ...|\n",
      "|Kerbal Space Program|\n",
      "|       Path of Exile|\n",
      "|ARK: Survival Evo...|\n",
      "+--------------------+\n",
      "\n"
     ]
    }
   ],
   "source": [
    "equalnames = generate_top_N_recommendationsX(str(10))\n",
    "equalnames.show()"
   ]
  },
  {
   "cell_type": "markdown",
   "id": "17b2c8f8",
   "metadata": {
    "pycharm": {
     "name": "#%% md\n"
    }
   },
   "source": [
    "Model2 :  : Random Forest"
   ]
  },
  {
   "cell_type": "markdown",
   "id": "645a8d57",
   "metadata": {},
   "source": []
  },
  {
   "cell_type": "code",
   "execution_count": 18,
   "id": "32a70373",
   "metadata": {
    "pycharm": {
     "name": "#%%\n"
    }
   },
   "outputs": [
    {
     "name": "stderr",
     "output_type": "stream",
     "text": [
      "                                                                                \r"
     ]
    },
    {
     "name": "stdout",
     "output_type": "stream",
     "text": [
      "Owned Games: 216\n",
      "User's top games:\n",
      "+--------------------+--------------------+----------------------+\n",
      "|                name|              genres|time_played_in_minutes|\n",
      "+--------------------+--------------------+----------------------+\n",
      "|                DOOM|            [Action]|                  6566|\n",
      "|  Two Point Hospital| [Indie, Simulation]|                  5606|\n",
      "|          Anno 2070™|          [Strategy]|                  3850|\n",
      "|           Tropico 5|[RPG, Simulation,...|                  3836|\n",
      "|LEGO® Batman™ 3: ...| [Action, Adventure]|                  3699|\n",
      "|Call of Duty®: Bl...|            [Action]|                  2774|\n",
      "|     Game Dev Tycoon|[Casual, Indie, S...|                  2627|\n",
      "|  Duke Nukem Forever|            [Action]|                  2432|\n",
      "|              Dota 2|[Action, Free to ...|                  2324|\n",
      "|    Castle Crashers®|[Action, Adventur...|                  2198|\n",
      "|Jurassic World Ev...|[Simulation, Stra...|                  2025|\n",
      "|       Left 4 Dead 2|            [Action]|                  2002|\n",
      "|Call of Duty®: In...| [Action, Adventure]|                  1922|\n",
      "|Counter-Strike: G...|[Action, Free to ...|                  1884|\n",
      "|      Rocket League®|[Action, Indie, R...|                  1713|\n",
      "|Wolfenstein: The ...|            [Action]|                  1703|\n",
      "|LEGO® Indiana Jon...| [Action, Adventure]|                  1629|\n",
      "|      Counter-Strike|            [Action]|                  1538|\n",
      "|           Tropico 4|[Simulation, Stra...|                  1363|\n",
      "|           Homefront|            [Action]|                  1143|\n",
      "+--------------------+--------------------+----------------------+\n",
      "only showing top 20 rows\n",
      "\n"
     ]
    },
    {
     "name": "stderr",
     "output_type": "stream",
     "text": [
      "                                                                                \r"
     ]
    },
    {
     "name": "stdout",
     "output_type": "stream",
     "text": [
      "The user's top predicted games (with predicted minutes played if they owned it):\n"
     ]
    },
    {
     "name": "stderr",
     "output_type": "stream",
     "text": [
      "[Stage 37:==========================>                            (96 + 8) / 200]\r"
     ]
    },
    {
     "name": "stdout",
     "output_type": "stream",
     "text": [
      "+------+--------------------+--------------------+--------------------+------------------+\n",
      "| appid|            features|              genres|                name|        prediction|\n",
      "+------+--------------------+--------------------+--------------------+------------------+\n",
      "|413150|(62,[0,1,2,3,5,12...|[Indie, RPG, Simu...|      Stardew Valley| 4016.346992481203|\n",
      "|582010|(62,[0,1,2,3,5,8,...|            [Action]|MONSTER HUNTER: W...| 3462.496462178173|\n",
      "|381210|(62,[0,1,2,3,5,11...|            [Action]|    Dead by Daylight|3332.9427580314427|\n",
      "|374320|(62,[0,1,2,3,5,11...|            [Action]|     DARK SOULS™ III|3012.2023034859876|\n",
      "|242760|(62,[0,1,2,3,5,12...|[Action, Adventur...|          The Forest|2948.4413377192986|\n",
      "|291550|(62,[0,2,3,4,5,9,...|[Action, Free to ...|          Brawlhalla| 2817.536537935749|\n",
      "|322330|(62,[0,1,2,3,4,5,...|[Adventure, Indie...|Don't Starve Toge...|2808.8010851940458|\n",
      "|211820|(62,[0,1,2,3,4,5,...|[Action, Adventur...|           Starbound|2772.0281409257814|\n",
      "|275850|(62,[0,1,2,3,5,11...| [Action, Adventure]|        No Man's Sky| 2616.878807814992|\n",
      "|365590|(62,[0,1,2,3,5,6,...|[Action, Adventur...|Tom Clancy’s The ...|2485.6919087491456|\n",
      "|231430|(62,[0,1,2,3,5,16...|          [Strategy]| Company of Heroes 2| 2392.231233225108|\n",
      "|359550|(62,[0,1,2,3,5,6,...|            [Action]|Tom Clancy's Rain...| 2389.965586580087|\n",
      "|244850|(62,[0,1,2,3,5,12...|[Action, Indie, S...|     Space Engineers|        2283.31875|\n",
      "|232090|(62,[0,1,2,3,5,6,...|            [Action]|     Killing Floor 2| 2246.885311004785|\n",
      "|222880|(62,[0,1,2,3,4,5,...|[Action, Indie, S...|          Insurgency|2204.8387047216347|\n",
      "|578080|(62,[0,1,2,3,21,2...|[Action, Adventur...|PLAYERUNKNOWN'S B...|2173.3116611842106|\n",
      "|252490|(62,[0,1,2,3,4,5,...|[Action, Adventur...|                Rust|2116.1696969696964|\n",
      "|280790|(62,[0,2,3,5,6,16...|[Action, Adventur...|         Creativerse|2046.2539513556621|\n",
      "|301520|(62,[0,2,3,6,17,1...|[Action, Free to ...|           Robocraft|2021.6817897015267|\n",
      "|397900|(62,[0,2,3,4,5,6,...|[Casual, Free to ...|Business Tour - B...|1987.3248638874743|\n",
      "|302670|(62,[0,2,3,5,6,8,...|[Action, Free to ...|        Call to Arms| 1985.524154040404|\n",
      "|313160|(62,[0,1,2,3,4,5,...|        [Simulation]|Farming Simulator 15|1976.4748436115544|\n",
      "|346110|(62,[0,1,2,3,5,10...|[Action, Adventur...|ARK: Survival Evo...|1976.3261184210528|\n",
      "|236110|(62,[0,2,3,5,12,1...|[Action, Free to ...|Dungeon Defenders II|1957.2235770771629|\n",
      "|880470|(62,[0,1,2,3,16,2...|[Indie, Simulatio...|Pro Basketball Ma...|1946.3443394018564|\n",
      "|377160|(62,[0,1,2,3,11,1...|               [RPG]|           Fallout 4| 1917.444844836916|\n",
      "|464920|(62,[0,1,2,3,11,1...|[Simulation, Stra...|      Surviving Mars|1903.6447662472976|\n",
      "|440900|(62,[0,1,2,3,5,11...|[Action, Adventur...|        Conan Exiles|1887.2615379357485|\n",
      "|281990|(62,[0,1,2,3,4,16...|[Simulation, Stra...|           Stellaris|1866.9406858054226|\n",
      "|294100|(62,[0,1,2,3,16,2...|[Indie, Simulatio...|            RimWorld|1828.0784722222222|\n",
      "|418460|(62,[0,1,2,3,6,17...|[Action, Massivel...|Rising Storm 2: V...|1815.1795235247205|\n",
      "|489520|(62,[0,2,3,5,6,12...|[Action, Free to ...|      Minion Masters|1783.0240442488798|\n",
      "|239140|(62,[0,1,2,3,5,10...|       [Action, RPG]|         Dying Light|1771.6575653907498|\n",
      "|271590|(62,[0,1,2,3,11,1...| [Action, Adventure]|  Grand Theft Auto V|1767.6787987820935|\n",
      "|466560|(62,[0,1,2,3,5,16...|[Indie, Simulatio...|           Northgard| 1754.825802068302|\n",
      "|218620|(62,[0,1,2,3,5,6,...|       [Action, RPG]|            PAYDAY 2| 1734.915457968388|\n",
      "|236390|(62,[0,2,3,4,5,6,...|[Action, Free to ...|         War Thunder|         1733.7625|\n",
      "|489830|(62,[0,1,2,3,12,1...|               [RPG]|The Elder Scrolls...|1731.0619588032582|\n",
      "|221100|(62,[0,1,2,3,10,2...|[Action, Adventur...|                DayZ| 1719.842738095238|\n",
      "|107410|(62,[0,1,2,3,5,8,...|[Action, Simulati...|              Arma 3|1718.3766666666666|\n",
      "|438100|(62,[0,2,3,4,5,12...|[Adventure, Casua...|              VRChat|1716.9225877192985|\n",
      "|285190|(62,[0,1,2,3,16,1...|[Violent, Gore, A...|Warhammer 40,000:...|1712.8761590632748|\n",
      "|286160|(62,[0,1,2,3,4,5,...|[Casual, Indie, R...|  Tabletop Simulator| 1712.458812494695|\n",
      "|230410|(62,[0,2,3,5,6,12...|[Action, Free to ...|            Warframe|1700.4612810245312|\n",
      "|268500|(62,[0,1,2,3,4,16...|          [Strategy]|             XCOM® 2|1699.1997334244702|\n",
      "|304050|(62,[0,2,3,5,6,17...|[Action, Adventur...|               Trove|1692.9235490777337|\n",
      "|673210|(62,[0,1,2,3,12,1...|[Adventure, Indie...|Frontier Pilot Si...|1686.0401960784316|\n",
      "| 49520|(62,[0,1,2,3,5,11...|       [Action, RPG]|       Borderlands 2|1678.9049920824789|\n",
      "|236850|(62,[0,1,2,3,4,16...|[Simulation, Stra...|Europa Universali...| 1678.325352472089|\n",
      "|253250|(62,[0,1,2,3,5,9,...|[Indie, Simulatio...|         Stonehearth|1675.2538251209576|\n",
      "+------+--------------------+--------------------+--------------------+------------------+\n",
      "only showing top 50 rows\n",
      "\n"
     ]
    },
    {
     "name": "stderr",
     "output_type": "stream",
     "text": [
      "\r",
      "[Stage 37:===========================================>          (160 + 8) / 200]\r",
      "\r",
      "                                                                                \r"
     ]
    }
   ],
   "source": [
    "# The users dataframe is not currently used.\n",
    "#users_df = spark.read.csv(users_csv, header=True, inferSchema=True)\n",
    "# Init the users/games relation dataframe.\n",
    "users_games_df = spark.read.csv(filename2, header=True, inferSchema=True).drop(\"_c0\")\n",
    "\n",
    "# DO CALCULATION HERE\n",
    "# Pick the user ID to test.\n",
    "user_id = 76561197960360459 # 76561197982716241\n",
    "\n",
    "# Feature assembler: make a vector of all features.\n",
    "inputColsList = [\"ratings\", \"price\", \"release_date\", \"totalRatings\"]\n",
    "inputColsList.extend(unic_cat_set)\n",
    "inputColsList.extend(unic_genres_set)\n",
    "vector_assembler = VectorAssembler().setInputCols(inputColsList).setOutputCol(\"features\")\n",
    "vectorized_games = vector_assembler.transform(games)\n",
    "#vectorized_games.select(\"name\", \"ratings\", \"Action\", \"Nudity\", \"Simulation\", \"features\").show()\n",
    "\n",
    "# Join the vectorized games with the user/games relation table.\n",
    "users_games_joined_df = users_games_df.join(vectorized_games, \"appid\", \"inner\")\n",
    "\n",
    "# Get the data for the games the player has played.\n",
    "owned_games_df = users_games_joined_df.filter(users_games_joined_df.steam_id == user_id)\n",
    "user_games_count = owned_games_df.count()\n",
    "print(\"Owned Games:\", user_games_count)\n",
    "if user_games_count > 0:\n",
    "    # Print the games this user has played the most (for comparison to final predictions).\n",
    "    print(\"User's top games:\")\n",
    "    owned_games_df.sort(owned_games_df.time_played_in_minutes.desc()).select(\"name\", \"genres\", \"time_played_in_minutes\").show()\n",
    "\n",
    "    # Extract the list of unowned games by removing the already owned ones.\n",
    "    unowned_games_df = vectorized_games.join(owned_games_df, \"appid\", \"leftanti\")\n",
    "\n",
    "    # Build Random Forest Regression based on time the user played each game in their library.\n",
    "    randForest = RandomForestRegressor()\n",
    "    model = randForest.fit(owned_games_df.withColumnRenamed(\"time_played_in_minutes\", \"label\"))\n",
    "\n",
    "    # Run the model on unowned game data.\n",
    "    predictions = model.transform(unowned_games_df).sort(col(\"prediction\").desc())\n",
    "    print(\"The user's top predicted games (with predicted minutes played if they owned it):\")\n",
    "    predictions.select('appid', 'features', 'genres', 'name', 'prediction').show(50)\n",
    "\n",
    "    # Model evaluation (probably not really possible)\n",
    "    # We'd need both labels and predictions to determine how far off we were.\n",
    "    # But the labels don't exist for unknown games. :'(\n",
    "    #evaluator = RegressionEvaluator()\n",
    "    #print(evaluator.evaluate(predictions, {evaluator.metricName: \"rmse\"}))"
   ]
  },
  {
   "cell_type": "code",
   "execution_count": null,
   "id": "ce3e650b",
   "metadata": {
    "pycharm": {
     "name": "#%%\n"
    }
   },
   "outputs": [],
   "source": []
  }
 ],
 "metadata": {
  "kernelspec": {
   "display_name": "Python 3 (ipykernel)",
   "language": "python",
   "name": "python3"
  },
  "language_info": {
   "codemirror_mode": {
    "name": "ipython",
    "version": 3
   },
   "file_extension": ".py",
   "mimetype": "text/x-python",
   "name": "python",
   "nbconvert_exporter": "python",
   "pygments_lexer": "ipython3",
   "version": "3.8.12"
  }
 },
 "nbformat": 4,
 "nbformat_minor": 5
}
