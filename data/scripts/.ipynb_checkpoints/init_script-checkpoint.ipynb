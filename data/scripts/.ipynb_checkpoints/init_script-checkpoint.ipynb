{
 "cells": [
  {
   "cell_type": "code",
   "execution_count": 1,
   "id": "4d692f55",
   "metadata": {},
   "outputs": [],
   "source": [
    "import json\n",
    "import os \n",
    "import numpy as np\n",
    "import pandas as pd\n",
    "import requests\n",
    "import time \n",
    "# Spark imports\n",
    "from pyspark import SparkContext\n",
    "from pyspark.rdd import RDD\n",
    "from pyspark.sql import DataFrame\n",
    "from pyspark.sql import SparkSession\n",
    "from pyspark.sql.functions import desc\n"
   ]
  },
  {
   "cell_type": "code",
   "execution_count": 2,
   "id": "d37c9568",
   "metadata": {},
   "outputs": [],
   "source": [
    "def init_spark():\n",
    "    spk = SparkSession \\\n",
    "        .builder \\\n",
    "        .appName(\"Python Spark SQL basic example\") \\\n",
    "        .config(\"spark.some.config.option\", \"some-value\") \\\n",
    "        .getOrCreate()\n",
    "    return spk\n"
   ]
  },
  {
   "cell_type": "code",
   "execution_count": 3,
   "id": "b55dfc78",
   "metadata": {},
   "outputs": [
    {
     "name": "stderr",
     "output_type": "stream",
     "text": [
      "22/03/21 20:07:16 WARN Utils: Your hostname, Sams-MacBook-Pro-2.local resolves to a loopback address: 127.0.0.1; using 172.30.54.140 instead (on interface en0)\n",
      "22/03/21 20:07:16 WARN Utils: Set SPARK_LOCAL_IP if you need to bind to another address\n",
      "22/03/21 20:07:16 WARN NativeCodeLoader: Unable to load native-hadoop library for your platform... using builtin-java classes where applicable\n",
      "Using Spark's default log4j profile: org/apache/spark/log4j-defaults.properties\n",
      "Setting default log level to \"WARN\".\n",
      "To adjust logging level use sc.setLogLevel(newLevel). For SparkR, use setLogLevel(newLevel).\n"
     ]
    }
   ],
   "source": [
    "#Create Spark Session\n",
    "spk = init_spark()"
   ]
  },
  {
   "cell_type": "markdown",
   "id": "60202157",
   "metadata": {},
   "source": [
    "Constants"
   ]
  },
  {
   "cell_type": "code",
   "execution_count": 4,
   "id": "1f6a0827",
   "metadata": {},
   "outputs": [],
   "source": [
    "# Global Variables \n",
    "url_to_get_app_information=\"https://store.steampowered.com/api/appdetails?appids=\"\n",
    "dictionnary = {}\n",
    "path = os.getcwd()\n",
    "directory_path=os.path.abspath(os.path.join(path, os.pardir))\n",
    "parentPath = os.path.abspath(os.path.join(directory_path,os.pardir))"
   ]
  },
  {
   "cell_type": "markdown",
   "id": "37ef1a2f",
   "metadata": {},
   "source": [
    "## Generate Data For Base Game DataSet"
   ]
  },
  {
   "cell_type": "code",
   "execution_count": 7,
   "id": "eab0af6a",
   "metadata": {},
   "outputs": [],
   "source": [
    "def generateData():\n",
    "    originalDataSet = pd.read_csv(parentPath+'/data/datasets/steam.csv')\n",
    "    for row in originalDataSet.iterrows():\n",
    "        row =row[1]\n",
    "        totalRatings = (row['positive_ratings'] + row['negative_ratings'])\n",
    "        if totalRatings == 0:\n",
    "            ratings = 0\n",
    "        else:\n",
    "            ratings = round((row['positive_ratings']/totalRatings) * 100,2)\n",
    "        dictionnary[row['appid']] = {\n",
    "                    \"name\": row['name'],\n",
    "                    \"price\": row['price'],\n",
    "                    \"release_date\": row['release_date'],\n",
    "                    \"required_age\": row['required_age'],\n",
    "                    \"publishers\": row['publisher'],\n",
    "                    \"developers\": row['developer'],\n",
    "                    \"categories\": row['categories'],\n",
    "                    \"genres\": row['genres'],\n",
    "                    \"ratings\": ratings,\n",
    "                    \"totalRatings\": totalRatings,\n",
    "                    \"average_playtime\": row['average_playtime'],\n",
    "                    \"median_playtime\": row['median_playtime'],\n",
    "                    \"num_owners\": row['owners']\n",
    "        }\n",
    "    \n",
    "    \n",
    "\n",
    "    df = pd.DataFrame.from_dict(dictionnary, orient='index')\n",
    "    df.index.name = 'appid'\n",
    "    path_to_write = parentPath+'/data/datasets'\n",
    "    if not os.path.exists(path_to_write):\n",
    "        os.mkdir(path_to_write)\n",
    "    \n",
    "    df.to_csv(path_to_write+'/games.csv')\n",
    "    return df"
   ]
  },
  {
   "cell_type": "code",
   "execution_count": 8,
   "id": "31694155",
   "metadata": {},
   "outputs": [],
   "source": [
    "game_dataframe=generateData()"
   ]
  },
  {
   "cell_type": "markdown",
   "id": "089b1ae8",
   "metadata": {},
   "source": [
    "## Generate the User Steam Dataset"
   ]
  },
  {
   "cell_type": "code",
   "execution_count": null,
   "id": "ab5e0421",
   "metadata": {},
   "outputs": [],
   "source": [
    "def generateDataForUserSteamDataset():\n",
    "    "
   ]
  }
 ],
 "metadata": {
  "kernelspec": {
   "display_name": "Python 3 (ipykernel)",
   "language": "python",
   "name": "python3"
  },
  "language_info": {
   "codemirror_mode": {
    "name": "ipython",
    "version": 3
   },
   "file_extension": ".py",
   "mimetype": "text/x-python",
   "name": "python",
   "nbconvert_exporter": "python",
   "pygments_lexer": "ipython3",
   "version": "3.8.12"
  }
 },
 "nbformat": 4,
 "nbformat_minor": 5
}
