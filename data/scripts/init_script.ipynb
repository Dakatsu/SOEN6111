{
 "cells": [
  {
   "cell_type": "code",
   "execution_count": 1,
   "id": "4d692f55",
   "metadata": {},
   "outputs": [],
   "source": [
    "import json\n",
    "import os \n",
    "import numpy as np\n",
    "import pandas as pd\n",
    "import requests\n",
    "import time \n",
    "# Spark imports\n",
    "from pyspark import SparkContext\n",
    "from pyspark.rdd import RDD\n",
    "from pyspark.sql import DataFrame\n",
    "from pyspark.sql import SparkSession\n",
    "from pyspark.sql.functions import desc\n"
   ]
  },
  {
   "cell_type": "code",
   "execution_count": 2,
   "id": "d37c9568",
   "metadata": {},
   "outputs": [],
   "source": [
    "def init_spark():\n",
    "    spk = SparkSession \\\n",
    "        .builder \\\n",
    "        .appName(\"Python Spark SQL basic example\") \\\n",
    "        .config(\"spark.some.config.option\", \"some-value\") \\\n",
    "        .getOrCreate()\n",
    "    return spk\n"
   ]
  },
  {
   "cell_type": "code",
   "execution_count": 3,
   "id": "b55dfc78",
   "metadata": {},
   "outputs": [
    {
     "name": "stderr",
     "output_type": "stream",
     "text": [
      "22/03/28 21:13:52 WARN Utils: Your hostname, Sams-MacBook-Pro-2.local resolves to a loopback address: 127.0.0.1; using 10.0.0.108 instead (on interface en0)\n",
      "22/03/28 21:13:52 WARN Utils: Set SPARK_LOCAL_IP if you need to bind to another address\n",
      "22/03/28 21:13:52 WARN NativeCodeLoader: Unable to load native-hadoop library for your platform... using builtin-java classes where applicable\n",
      "Using Spark's default log4j profile: org/apache/spark/log4j-defaults.properties\n",
      "Setting default log level to \"WARN\".\n",
      "To adjust logging level use sc.setLogLevel(newLevel). For SparkR, use setLogLevel(newLevel).\n"
     ]
    }
   ],
   "source": [
    "#Create Spark Session\n",
    "spk = init_spark()"
   ]
  },
  {
   "cell_type": "markdown",
   "id": "60202157",
   "metadata": {},
   "source": [
    "Constants"
   ]
  },
  {
   "cell_type": "code",
   "execution_count": 4,
   "id": "1f6a0827",
   "metadata": {},
   "outputs": [],
   "source": [
    "# Global Variables \n",
    "url_to_get_app_information=\"https://store.steampowered.com/api/appdetails?appids=\"\n",
    "dictionnary = {}\n",
    "path = os.getcwd()\n",
    "directory_path=os.path.abspath(os.path.join(path, os.pardir))\n",
    "parentPath = os.path.abspath(os.path.join(directory_path,os.pardir))"
   ]
  },
  {
   "cell_type": "markdown",
   "id": "37ef1a2f",
   "metadata": {},
   "source": [
    "## Generate Data For Base Game DataSet"
   ]
  },
  {
   "cell_type": "code",
   "execution_count": 5,
   "id": "eab0af6a",
   "metadata": {},
   "outputs": [],
   "source": [
    "def generateData():\n",
    "    path_to_write = parentPath+'/data/datasets'\n",
    "    originalDataSet = pd.read_csv(parentPath+'/data/datasets/steam.csv')\n",
    "    if os.path.exists(path_to_write+'/games.csv'):\n",
    "        return pd.read_csv(path_to_write+'/games.csv')\n",
    "    for row in originalDataSet.iterrows():\n",
    "        row =row[1]\n",
    "        totalRatings = (row['positive_ratings'] + row['negative_ratings'])\n",
    "        if totalRatings == 0:\n",
    "            ratings = 0\n",
    "        else:\n",
    "            ratings = round((row['positive_ratings']/totalRatings) * 100,2)\n",
    "        dictionnary[row['appid']] = {\n",
    "                    \"name\": row['name'],\n",
    "                    \"price\": row['price'],\n",
    "                    \"release_date\": row['release_date'],\n",
    "                    \"required_age\": row['required_age'],\n",
    "                    \"publishers\": row['publisher'],\n",
    "                    \"developers\": row['developer'],\n",
    "                    \"categories\": row['categories'],\n",
    "                    \"genres\": row['genres'],\n",
    "                    \"ratings\": ratings,\n",
    "                    \"totalRatings\": totalRatings,\n",
    "                    \"average_playtime\": row['average_playtime'],\n",
    "                    \"median_playtime\": row['median_playtime'],\n",
    "                    \"num_owners\": row['owners']\n",
    "        }\n",
    "    \n",
    "    \n",
    "\n",
    "    df = pd.DataFrame.from_dict(dictionnary, orient='index')\n",
    "    df.index.name = 'appid'\n",
    "    if not os.path.exists(path_to_write):\n",
    "        os.mkdir(path_to_write)\n",
    "    \n",
    "    df.to_csv(path_to_write+'/games.csv')\n",
    "    return df"
   ]
  },
  {
   "cell_type": "code",
   "execution_count": 6,
   "id": "31694155",
   "metadata": {},
   "outputs": [],
   "source": [
    "game_dataframe=spk.createDataFrame(generateData())"
   ]
  },
  {
   "cell_type": "markdown",
   "id": "920c10a5",
   "metadata": {},
   "source": [
    "## Generate the User Steam Dataset"
   ]
  },
  {
   "cell_type": "code",
   "execution_count": 7,
   "id": "39c400a3",
   "metadata": {},
   "outputs": [],
   "source": [
    "url_user_info = \"https://api.steampowered.com/IPlayerService/GetOwnedGames/v1/?key=D399B9CAE07939881781DD36CC8CC442&steamid={}&include_appinfo=true&include_played_free_games=true\"\n",
    "def generateDataForUserSteamDataset():\n",
    "    dictionary=[]\n",
    "    path_to_write = parentPath+'/data/datasets'\n",
    "    if os.path.exists(path_to_write+'/steam_id_games.csv'):\n",
    "        return pd.read_csv(path_to_write+'/steam_id_games.csv')\n",
    "    originalDataSet = pd.read_csv(parentPath+'/data/datasets/steam_id.csv')\n",
    "    for row in originalDataSet.iterrows():\n",
    "        row =row[1]\n",
    "        try:\n",
    "            games = requests.get(url_user_info.format(row['steamid_a'])).json()['response']\n",
    "        except:\n",
    "            continue\n",
    "        if 'games' not in games:\n",
    "            continue\n",
    "        dataset = [{'steam_id':row['steamid_a'],\"appid\" :str(game['appid']), \"time_played_in_minutes\": game['playtime_forever'] } for game in games['games']]\n",
    "        dictionary = dataset+dictionary\n",
    "    df = pd.DataFrame.from_records(dictionary)\n",
    "    if not os.path.exists(path_to_write):\n",
    "        os.mkdir(path_to_write)\n",
    "    \n",
    "    df.to_csv(path_to_write+'/steam_id_games.csv')\n",
    "    return df\n",
    "   "
   ]
  },
  {
   "cell_type": "code",
   "execution_count": 8,
   "id": "fa92bb0a",
   "metadata": {},
   "outputs": [],
   "source": [
    "user_dataframe = spk.createDataFrame(generateDataForUserSteamDataset())"
   ]
  },
  {
   "cell_type": "markdown",
   "id": "1bf1a4ac",
   "metadata": {},
   "source": [
    "## Cosine Similarity"
   ]
  },
  {
   "cell_type": "markdown",
   "id": "ed574ec9",
   "metadata": {},
   "source": [
    "### Cleaning Data for Cosine Similarity"
   ]
  },
  {
   "cell_type": "code",
   "execution_count": 33,
   "id": "3154771f",
   "metadata": {},
   "outputs": [],
   "source": [
    "def cleanData(row):\n",
    "    if ';' in row:\n",
    "        return row.split(';')\n",
    "    else:\n",
    "        return row"
   ]
  },
  {
   "cell_type": "code",
   "execution_count": 35,
   "id": "cee98a76",
   "metadata": {},
   "outputs": [],
   "source": [
    "def cosine_similarity(game_dataframe):\n",
    "    features = ['publishers',\"developers\", \"categories\",\"genres\",\"ratings\"]\n",
    "    deep_copy = game_dataframe.alias('deepCopyDf')\n",
    "    finalVal = deep_copy.rdd.map(lambda x: (x['appid'],''.join(cleanData(x['publishers'])) + ' '+''.join(cleanData(x['developers'])) + ' '+''.join(cleanData(x['categories'])) + ' '+''.join(cleanData(x['genres'])) + ' '+str(x['ratings'])))\n",
    "    finalVal=finalVal.toDF([\"appid\",\"result\"])\n",
    "    finalVal.show()"
   ]
  },
  {
   "cell_type": "code",
   "execution_count": null,
   "id": "773f7b45",
   "metadata": {},
   "outputs": [],
   "source": [
    "cosine_similarity(game_dataframe)"
   ]
  },
  {
   "cell_type": "code",
   "execution_count": 37,
   "id": "bb6bee13",
   "metadata": {},
   "outputs": [
    {
     "ename": "ModuleNotFoundError",
     "evalue": "No module named 'sklearn'",
     "output_type": "error",
     "traceback": [
      "\u001b[0;31m---------------------------------------------------------------------------\u001b[0m",
      "\u001b[0;31mModuleNotFoundError\u001b[0m                       Traceback (most recent call last)",
      "Input \u001b[0;32mIn [37]\u001b[0m, in \u001b[0;36m<cell line: 1>\u001b[0;34m()\u001b[0m\n\u001b[0;32m----> 1\u001b[0m \u001b[38;5;28;01mfrom\u001b[39;00m \u001b[38;5;21;01msklearn\u001b[39;00m\u001b[38;5;21;01m.\u001b[39;00m\u001b[38;5;21;01mfeature_extraction\u001b[39;00m\u001b[38;5;21;01m.\u001b[39;00m\u001b[38;5;21;01mtext\u001b[39;00m \u001b[38;5;28;01mimport\u001b[39;00m TfidfVectorizer\n",
      "\u001b[0;31mModuleNotFoundError\u001b[0m: No module named 'sklearn'"
     ]
    }
   ],
   "source": [
    "from sklearn.feature_extraction.text import TfidfVectorizer"
   ]
  },
  {
   "cell_type": "code",
   "execution_count": null,
   "id": "cb423401",
   "metadata": {},
   "outputs": [],
   "source": [
    "tf = TfidfVectorizer()\n",
    "tfidf_matrix = tf.fit_transform()"
   ]
  }
 ],
 "metadata": {
  "kernelspec": {
   "display_name": "Python 3 (ipykernel)",
   "language": "python",
   "name": "python3"
  },
  "language_info": {
   "codemirror_mode": {
    "name": "ipython",
    "version": 3
   },
   "file_extension": ".py",
   "mimetype": "text/x-python",
   "name": "python",
   "nbconvert_exporter": "python",
   "pygments_lexer": "ipython3",
   "version": "3.8.12"
  }
 },
 "nbformat": 4,
 "nbformat_minor": 5
}
